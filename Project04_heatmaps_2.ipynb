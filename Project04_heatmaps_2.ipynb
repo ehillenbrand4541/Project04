{
 "cells": [
  {
   "cell_type": "markdown",
   "metadata": {},
   "source": [
    "# Imports"
   ]
  },
  {
   "cell_type": "code",
   "execution_count": 1,
   "metadata": {
    "ExecuteTime": {
     "end_time": "2019-11-14T19:15:00.440078Z",
     "start_time": "2019-11-14T19:14:36.846180Z"
    }
   },
   "outputs": [],
   "source": [
    "# executes in ~23 seconds\n",
    "import numpy as np\n",
    "import pandas as pd\n",
    "import seaborn as sns\n",
    "import matplotlib.pyplot as plt"
   ]
  },
  {
   "cell_type": "markdown",
   "metadata": {},
   "source": [
    "import bespoke module p04.py"
   ]
  },
  {
   "cell_type": "code",
   "execution_count": 2,
   "metadata": {
    "ExecuteTime": {
     "end_time": "2019-11-14T19:15:12.670746Z",
     "start_time": "2019-11-14T19:15:00.442870Z"
    }
   },
   "outputs": [],
   "source": [
    "# first test: executed in 46 seconds\n",
    "# executes much faster if you first import pd and np\n",
    "# executes in ~11 seconds\n",
    "from p04 import vectorize_tfidf\n",
    "from p04 import reduce_dim_lsa\n",
    "from p04 import display_topics"
   ]
  },
  {
   "cell_type": "code",
   "execution_count": 3,
   "metadata": {
    "ExecuteTime": {
     "end_time": "2019-11-14T19:15:12.677232Z",
     "start_time": "2019-11-14T19:15:12.673830Z"
    }
   },
   "outputs": [],
   "source": [
    "import pickle"
   ]
  },
  {
   "cell_type": "code",
   "execution_count": 4,
   "metadata": {
    "ExecuteTime": {
     "end_time": "2019-11-14T19:15:12.831014Z",
     "start_time": "2019-11-14T19:15:12.680224Z"
    }
   },
   "outputs": [],
   "source": [
    "with open('grouped_sorted.pickle', 'rb') as readfile:\n",
    "    subjects = pickle.load(readfile)"
   ]
  },
  {
   "cell_type": "code",
   "execution_count": 5,
   "metadata": {
    "ExecuteTime": {
     "end_time": "2019-11-14T19:15:12.922670Z",
     "start_time": "2019-11-14T19:15:12.834005Z"
    }
   },
   "outputs": [
    {
     "data": {
      "text/html": [
       "<div>\n",
       "<style scoped>\n",
       "    .dataframe tbody tr th:only-of-type {\n",
       "        vertical-align: middle;\n",
       "    }\n",
       "\n",
       "    .dataframe tbody tr th {\n",
       "        vertical-align: top;\n",
       "    }\n",
       "\n",
       "    .dataframe thead th {\n",
       "        text-align: right;\n",
       "    }\n",
       "</style>\n",
       "<table border=\"1\" class=\"dataframe\">\n",
       "  <thead>\n",
       "    <tr style=\"text-align: right;\">\n",
       "      <th></th>\n",
       "      <th>text</th>\n",
       "      <th>le</th>\n",
       "    </tr>\n",
       "    <tr>\n",
       "      <th>label</th>\n",
       "      <th></th>\n",
       "      <th></th>\n",
       "    </tr>\n",
       "  </thead>\n",
       "  <tbody>\n",
       "    <tr>\n",
       "      <td>Linear Algebra</td>\n",
       "      <td>152</td>\n",
       "      <td>152</td>\n",
       "    </tr>\n",
       "    <tr>\n",
       "      <td>Probability</td>\n",
       "      <td>124</td>\n",
       "      <td>124</td>\n",
       "    </tr>\n",
       "    <tr>\n",
       "      <td>CS</td>\n",
       "      <td>104</td>\n",
       "      <td>104</td>\n",
       "    </tr>\n",
       "    <tr>\n",
       "      <td>Diff. Eq.</td>\n",
       "      <td>93</td>\n",
       "      <td>93</td>\n",
       "    </tr>\n",
       "    <tr>\n",
       "      <td>Algorithms</td>\n",
       "      <td>81</td>\n",
       "      <td>81</td>\n",
       "    </tr>\n",
       "    <tr>\n",
       "      <td>Statistics</td>\n",
       "      <td>79</td>\n",
       "      <td>79</td>\n",
       "    </tr>\n",
       "    <tr>\n",
       "      <td>Calculus</td>\n",
       "      <td>70</td>\n",
       "      <td>70</td>\n",
       "    </tr>\n",
       "    <tr>\n",
       "      <td>Data Structures</td>\n",
       "      <td>62</td>\n",
       "      <td>62</td>\n",
       "    </tr>\n",
       "    <tr>\n",
       "      <td>AI</td>\n",
       "      <td>48</td>\n",
       "      <td>48</td>\n",
       "    </tr>\n",
       "    <tr>\n",
       "      <td>Math for Eng.</td>\n",
       "      <td>28</td>\n",
       "      <td>28</td>\n",
       "    </tr>\n",
       "    <tr>\n",
       "      <td>NLP</td>\n",
       "      <td>19</td>\n",
       "      <td>19</td>\n",
       "    </tr>\n",
       "  </tbody>\n",
       "</table>\n",
       "</div>"
      ],
      "text/plain": [
       "                 text   le\n",
       "label                     \n",
       "Linear Algebra    152  152\n",
       "Probability       124  124\n",
       "CS                104  104\n",
       "Diff. Eq.          93   93\n",
       "Algorithms         81   81\n",
       "Statistics         79   79\n",
       "Calculus           70   70\n",
       "Data Structures    62   62\n",
       "AI                 48   48\n",
       "Math for Eng.      28   28\n",
       "NLP                19   19"
      ]
     },
     "execution_count": 5,
     "metadata": {},
     "output_type": "execute_result"
    }
   ],
   "source": [
    "subjects"
   ]
  },
  {
   "cell_type": "code",
   "execution_count": 6,
   "metadata": {
    "ExecuteTime": {
     "end_time": "2019-11-14T19:15:14.047462Z",
     "start_time": "2019-11-14T19:15:12.926231Z"
    }
   },
   "outputs": [],
   "source": [
    "with open('df.pickle', 'rb') as readfile:\n",
    "    df = pickle.load(readfile)"
   ]
  },
  {
   "cell_type": "code",
   "execution_count": 7,
   "metadata": {
    "ExecuteTime": {
     "end_time": "2019-11-14T19:15:14.074916Z",
     "start_time": "2019-11-14T19:15:14.050459Z"
    },
    "scrolled": true
   },
   "outputs": [
    {
     "data": {
      "text/html": [
       "<div>\n",
       "<style scoped>\n",
       "    .dataframe tbody tr th:only-of-type {\n",
       "        vertical-align: middle;\n",
       "    }\n",
       "\n",
       "    .dataframe tbody tr th {\n",
       "        vertical-align: top;\n",
       "    }\n",
       "\n",
       "    .dataframe thead th {\n",
       "        text-align: right;\n",
       "    }\n",
       "</style>\n",
       "<table border=\"1\" class=\"dataframe\">\n",
       "  <thead>\n",
       "    <tr style=\"text-align: right;\">\n",
       "      <th></th>\n",
       "      <th>text</th>\n",
       "      <th>label</th>\n",
       "      <th>le</th>\n",
       "    </tr>\n",
       "  </thead>\n",
       "  <tbody>\n",
       "    <tr>\n",
       "      <td>0</td>\n",
       "      <td>follow content provide creative common license...</td>\n",
       "      <td>Calculus</td>\n",
       "      <td>3</td>\n",
       "    </tr>\n",
       "    <tr>\n",
       "      <td>1</td>\n",
       "      <td>sequence segment review mathematical backgroun...</td>\n",
       "      <td>Probability</td>\n",
       "      <td>9</td>\n",
       "    </tr>\n",
       "    <tr>\n",
       "      <td>2</td>\n",
       "      <td>follow content provide creative common license...</td>\n",
       "      <td>CS</td>\n",
       "      <td>2</td>\n",
       "    </tr>\n",
       "    <tr>\n",
       "      <td>3</td>\n",
       "      <td>follow content provide creative common license...</td>\n",
       "      <td>Algorithms</td>\n",
       "      <td>1</td>\n",
       "    </tr>\n",
       "    <tr>\n",
       "      <td>4</td>\n",
       "      <td>follow content provide creative common license...</td>\n",
       "      <td>Algorithms</td>\n",
       "      <td>1</td>\n",
       "    </tr>\n",
       "    <tr>\n",
       "      <td>...</td>\n",
       "      <td>...</td>\n",
       "      <td>...</td>\n",
       "      <td>...</td>\n",
       "    </tr>\n",
       "    <tr>\n",
       "      <td>855</td>\n",
       "      <td>follow content provide creative common license...</td>\n",
       "      <td>Math for Eng.</td>\n",
       "      <td>7</td>\n",
       "    </tr>\n",
       "    <tr>\n",
       "      <td>856</td>\n",
       "      <td>music   david j malan     end week   see cir...</td>\n",
       "      <td>Diff. Eq.</td>\n",
       "      <td>5</td>\n",
       "    </tr>\n",
       "    <tr>\n",
       "      <td>857</td>\n",
       "      <td>follow content provide   opencourseware creati...</td>\n",
       "      <td>Linear Algebra</td>\n",
       "      <td>6</td>\n",
       "    </tr>\n",
       "    <tr>\n",
       "      <td>858</td>\n",
       "      <td>follow content provide creative common license...</td>\n",
       "      <td>AI</td>\n",
       "      <td>0</td>\n",
       "    </tr>\n",
       "    <tr>\n",
       "      <td>859</td>\n",
       "      <td>follow content provide creative common license...</td>\n",
       "      <td>Diff. Eq.</td>\n",
       "      <td>5</td>\n",
       "    </tr>\n",
       "  </tbody>\n",
       "</table>\n",
       "<p>860 rows × 3 columns</p>\n",
       "</div>"
      ],
      "text/plain": [
       "                                                  text           label  le\n",
       "0    follow content provide creative common license...        Calculus   3\n",
       "1    sequence segment review mathematical backgroun...     Probability   9\n",
       "2    follow content provide creative common license...              CS   2\n",
       "3    follow content provide creative common license...      Algorithms   1\n",
       "4    follow content provide creative common license...      Algorithms   1\n",
       "..                                                 ...             ...  ..\n",
       "855  follow content provide creative common license...   Math for Eng.   7\n",
       "856    music   david j malan     end week   see cir...       Diff. Eq.   5\n",
       "857  follow content provide   opencourseware creati...  Linear Algebra   6\n",
       "858  follow content provide creative common license...              AI   0\n",
       "859  follow content provide creative common license...       Diff. Eq.   5\n",
       "\n",
       "[860 rows x 3 columns]"
      ]
     },
     "execution_count": 7,
     "metadata": {},
     "output_type": "execute_result"
    }
   ],
   "source": [
    "df"
   ]
  },
  {
   "cell_type": "code",
   "execution_count": 8,
   "metadata": {
    "ExecuteTime": {
     "end_time": "2019-11-14T19:15:14.218364Z",
     "start_time": "2019-11-14T19:15:14.078308Z"
    }
   },
   "outputs": [],
   "source": [
    "df_linalg = df[df['label']=='Linear Algebra']\n",
    "df_prob = df[df['label']=='Probability']\n",
    "df_cs = df[df['label']=='CS']\n",
    "df_diffeq = df[df['label']=='Diff. Eq.']\n",
    "df_algo = df[df['label']=='Algorithms']\n",
    "df_stats = df[df['label']=='Statistics']\n",
    "df_calc = df[df['label']=='Calculus']\n",
    "df_datastruc = df[df['label']=='Data Structures']\n",
    "df_ai = df[df['label']=='AI']\n",
    "df_engmath = df[df['label']=='Math for Eng.']\n",
    "df_nlp = df[df['label']=='NLP']"
   ]
  },
  {
   "cell_type": "markdown",
   "metadata": {},
   "source": [
    "# Heatmaps Iteration 02"
   ]
  },
  {
   "cell_type": "markdown",
   "metadata": {},
   "source": [
    "groupby subject i.e. `df['label']`  \n",
    "compute mean component score for each topic  \n",
    "heat map: 11 rows vs (# topic columns)  \n",
    "look for dark squares"
   ]
  },
  {
   "cell_type": "code",
   "execution_count": 131,
   "metadata": {
    "ExecuteTime": {
     "end_time": "2019-11-14T20:26:07.874838Z",
     "start_time": "2019-11-14T20:26:06.073626Z"
    }
   },
   "outputs": [],
   "source": [
    "df_s = df.copy()\n",
    "sm_v, feature_names = vectorize_tfidf(df_s, max_df=0.5)"
   ]
  },
  {
   "cell_type": "code",
   "execution_count": 132,
   "metadata": {
    "ExecuteTime": {
     "end_time": "2019-11-14T20:26:12.113850Z",
     "start_time": "2019-11-14T20:26:11.950723Z"
    }
   },
   "outputs": [],
   "source": [
    "rd_v, lsa_components = reduce_dim_lsa(sm_v, 15)"
   ]
  },
  {
   "cell_type": "code",
   "execution_count": 145,
   "metadata": {
    "ExecuteTime": {
     "end_time": "2019-11-14T21:38:22.875230Z",
     "start_time": "2019-11-14T21:38:22.809288Z"
    }
   },
   "outputs": [
    {
     "name": "stdout",
     "output_type": "stream",
     "text": [
      "\n",
      "Topic  0\n",
      "vector, matrix, column, row, probability, equation, solution, transpose, transform, plane, determinant, linear, lambda, derivative, null, integral, theta, random, node, product, dot, pivot, log, eigenvalue, event, inverse, root, system, subspace, length\n",
      "\n",
      "Topic  1\n",
      "probability, event, random, conditional, node, distribution, outcome, log, sample, tree, model, integral, expect, coin, list, head, expectation, element, variance, toss, occur, state, derivative, infinity, datum, density, pdf, search, path, inaudible\n",
      "\n",
      "Topic  2\n",
      "node, tree, list, log, edge, search, insert, algorithm, subtree, link, address, path, array, vertex, pointer, graph, store, child, root, code, memory, datum, binary, structure, size, string, item, return, level, loop\n",
      "\n",
      "Topic  3\n",
      "laplace_transform, equation, integral, derivative, solution, differential, pre, delta, sine, theta, cosine, dx, infinity, curve, partial, slope, integrate, formula, pi, squared, dt, plane, initial, psi, dy, lambda, mu, alpha, side, temperature\n",
      "\n",
      "Topic  4\n",
      "vector, dot, plane, length, transform, scalar, direction, span, member, component, angle, field, product, theta, unit, subspace, surface, normal, magnitude, represent, origin, rn, gradient, perpendicular, cross, horizontal, linearly, combination, position, flux\n",
      "\n",
      "Topic  5\n",
      "laplace_transform, node, st, probability, event, infinity, integral, vector, sine, row, transform, tree, inverse, convolution, video, outcome, address, column, head, toss, link, insert, evaluate, dt, subtree, unit, antiderivative, integration, shift, conditional\n",
      "\n",
      "Topic  6\n",
      "solution, equation, differential, event, probability, derivative, slope, node, initial, pre, homogeneous, outcome, condition, side, pivot, psi, video, toss, null, characteristic, head, coefficient, axiom, echelon, substitute, population, intersection, occur, row, linear\n",
      "\n",
      "Topic  7\n",
      "node, lambda, tree, subtree, integral, link, address, child, pdf, variance, theta, eigenvalue, root, random, eigenvector, height, insert, expectation, distribution, plane, mu, vector, equation, density, cdf, integrate, normal, null, transpose, field\n",
      "\n",
      "Topic  8\n",
      "edge, vertex, path, graph, weight, cycle, short, algorithm, delta, tree, dijkstra, state, bellmanford, direct, graphs, flow, connect, undirected, minum, dfs, parent, span, relax, probability, degree, cost, network, bfs, neighbor, sub\n",
      "\n",
      "Topic  9\n",
      "row, integral, determinant, theta, dx, area, curve, plane, field, delta, surface, region, pivot, dy, formula, integrate, column, event, partial, curl, flux, slice, volume, echelon, entry, coordina, submatrix, ds, piece, polar\n",
      "\n",
      "Topic  10\n",
      "eigenvalue, eigenvector, matrix, lambda, event, integral, delta, determinant, probability, field, node, plane, curve, area, outcome, dx, surface, address, method, sine, pi, cosine, axiom, partial, projection, gradient, list, diagonal, formula, piece\n",
      "\n",
      "Topic  11\n",
      "log, theta, particle, hash, event, tree, beta, temperature, energy, search, item, query, element, alpha, pre, gas, transpose, size, matrix, probability, factor, binary, outcome, merge, mu, algorithm, volume, pressure, cache, key\n",
      "\n",
      "Topic  12\n",
      "state, particle, sub, arrival, markov, temperature, energy, chain, renewal, process, sta, row, transition, gas, alpha, determinant, system, heat, log, vector, volume, density, lit, pressure, recurrent, equilibrium, expect, pi, omega, potential\n",
      "\n",
      "Topic  13\n",
      "transpose, node, beta, model, theta, particle, neural, datum, alpha, error, energy, temperature, network, null, hypothesis, delta, column, learning, gradient, system, gas, address, link, mu, layer, dension, heat, output, rigol, philippe\n",
      "\n",
      "Topic  14\n",
      "particle, list, temperature, edge, null, energy, string, integral, loop, column, beta, gas, vertex, density, code, transpose, pivot, lambda, element, pressure, volume, heat, basis, subspace, potential, span, address, graph, factorial, calculate\n"
     ]
    }
   ],
   "source": [
    "display_topics(lsa_components, feature_names, 30)"
   ]
  },
  {
   "cell_type": "markdown",
   "metadata": {},
   "source": [
    "# Group By Subject; Average of Column for rd_v"
   ]
  },
  {
   "cell_type": "code",
   "execution_count": 134,
   "metadata": {
    "ExecuteTime": {
     "end_time": "2019-11-14T20:26:17.144502Z",
     "start_time": "2019-11-14T20:26:17.114389Z"
    }
   },
   "outputs": [
    {
     "data": {
      "text/html": [
       "<div>\n",
       "<style scoped>\n",
       "    .dataframe tbody tr th:only-of-type {\n",
       "        vertical-align: middle;\n",
       "    }\n",
       "\n",
       "    .dataframe tbody tr th {\n",
       "        vertical-align: top;\n",
       "    }\n",
       "\n",
       "    .dataframe thead th {\n",
       "        text-align: right;\n",
       "    }\n",
       "</style>\n",
       "<table border=\"1\" class=\"dataframe\">\n",
       "  <thead>\n",
       "    <tr style=\"text-align: right;\">\n",
       "      <th></th>\n",
       "      <th>0</th>\n",
       "      <th>1</th>\n",
       "      <th>2</th>\n",
       "      <th>3</th>\n",
       "      <th>4</th>\n",
       "      <th>5</th>\n",
       "      <th>6</th>\n",
       "      <th>7</th>\n",
       "      <th>8</th>\n",
       "      <th>9</th>\n",
       "      <th>10</th>\n",
       "      <th>11</th>\n",
       "      <th>12</th>\n",
       "      <th>13</th>\n",
       "      <th>14</th>\n",
       "      <th>label</th>\n",
       "    </tr>\n",
       "  </thead>\n",
       "  <tbody>\n",
       "    <tr>\n",
       "      <td>0</td>\n",
       "      <td>0.513634</td>\n",
       "      <td>0.358030</td>\n",
       "      <td>0.200570</td>\n",
       "      <td>0.677989</td>\n",
       "      <td>-0.206973</td>\n",
       "      <td>-0.025190</td>\n",
       "      <td>-0.112046</td>\n",
       "      <td>0.049794</td>\n",
       "      <td>0.003035</td>\n",
       "      <td>0.122184</td>\n",
       "      <td>0.125462</td>\n",
       "      <td>0.045305</td>\n",
       "      <td>0.009376</td>\n",
       "      <td>-0.125572</td>\n",
       "      <td>0.031687</td>\n",
       "      <td>Calculus</td>\n",
       "    </tr>\n",
       "    <tr>\n",
       "      <td>1</td>\n",
       "      <td>0.466908</td>\n",
       "      <td>0.619274</td>\n",
       "      <td>-0.126040</td>\n",
       "      <td>-0.104593</td>\n",
       "      <td>0.031896</td>\n",
       "      <td>-0.013362</td>\n",
       "      <td>-0.003287</td>\n",
       "      <td>-0.493166</td>\n",
       "      <td>-0.067143</td>\n",
       "      <td>0.009511</td>\n",
       "      <td>0.157735</td>\n",
       "      <td>0.010472</td>\n",
       "      <td>0.142121</td>\n",
       "      <td>0.230584</td>\n",
       "      <td>-0.155871</td>\n",
       "      <td>Probability</td>\n",
       "    </tr>\n",
       "    <tr>\n",
       "      <td>2</td>\n",
       "      <td>0.301377</td>\n",
       "      <td>0.232283</td>\n",
       "      <td>0.358507</td>\n",
       "      <td>-0.066490</td>\n",
       "      <td>0.104902</td>\n",
       "      <td>-0.098024</td>\n",
       "      <td>-0.071278</td>\n",
       "      <td>-0.574631</td>\n",
       "      <td>-0.344889</td>\n",
       "      <td>0.039237</td>\n",
       "      <td>0.206648</td>\n",
       "      <td>-0.294855</td>\n",
       "      <td>-0.150704</td>\n",
       "      <td>-0.023554</td>\n",
       "      <td>0.304921</td>\n",
       "      <td>CS</td>\n",
       "    </tr>\n",
       "    <tr>\n",
       "      <td>3</td>\n",
       "      <td>0.282660</td>\n",
       "      <td>0.299867</td>\n",
       "      <td>0.452545</td>\n",
       "      <td>-0.197498</td>\n",
       "      <td>0.017083</td>\n",
       "      <td>-0.053415</td>\n",
       "      <td>-0.055851</td>\n",
       "      <td>-0.541252</td>\n",
       "      <td>-0.336552</td>\n",
       "      <td>-0.020355</td>\n",
       "      <td>-0.028797</td>\n",
       "      <td>0.066964</td>\n",
       "      <td>-0.037692</td>\n",
       "      <td>-0.354362</td>\n",
       "      <td>0.202915</td>\n",
       "      <td>Algorithms</td>\n",
       "    </tr>\n",
       "    <tr>\n",
       "      <td>4</td>\n",
       "      <td>0.380832</td>\n",
       "      <td>0.294910</td>\n",
       "      <td>0.411046</td>\n",
       "      <td>-0.216894</td>\n",
       "      <td>-0.057385</td>\n",
       "      <td>-0.016030</td>\n",
       "      <td>-0.004794</td>\n",
       "      <td>-0.281766</td>\n",
       "      <td>-0.142913</td>\n",
       "      <td>0.077283</td>\n",
       "      <td>-0.243957</td>\n",
       "      <td>0.497778</td>\n",
       "      <td>0.020997</td>\n",
       "      <td>-0.365091</td>\n",
       "      <td>-0.040012</td>\n",
       "      <td>Algorithms</td>\n",
       "    </tr>\n",
       "  </tbody>\n",
       "</table>\n",
       "</div>"
      ],
      "text/plain": [
       "          0         1         2         3         4         5         6  \\\n",
       "0  0.513634  0.358030  0.200570  0.677989 -0.206973 -0.025190 -0.112046   \n",
       "1  0.466908  0.619274 -0.126040 -0.104593  0.031896 -0.013362 -0.003287   \n",
       "2  0.301377  0.232283  0.358507 -0.066490  0.104902 -0.098024 -0.071278   \n",
       "3  0.282660  0.299867  0.452545 -0.197498  0.017083 -0.053415 -0.055851   \n",
       "4  0.380832  0.294910  0.411046 -0.216894 -0.057385 -0.016030 -0.004794   \n",
       "\n",
       "          7         8         9        10        11        12        13  \\\n",
       "0  0.049794  0.003035  0.122184  0.125462  0.045305  0.009376 -0.125572   \n",
       "1 -0.493166 -0.067143  0.009511  0.157735  0.010472  0.142121  0.230584   \n",
       "2 -0.574631 -0.344889  0.039237  0.206648 -0.294855 -0.150704 -0.023554   \n",
       "3 -0.541252 -0.336552 -0.020355 -0.028797  0.066964 -0.037692 -0.354362   \n",
       "4 -0.281766 -0.142913  0.077283 -0.243957  0.497778  0.020997 -0.365091   \n",
       "\n",
       "         14        label  \n",
       "0  0.031687     Calculus  \n",
       "1 -0.155871  Probability  \n",
       "2  0.304921           CS  \n",
       "3  0.202915   Algorithms  \n",
       "4 -0.040012   Algorithms  "
      ]
     },
     "execution_count": 134,
     "metadata": {},
     "output_type": "execute_result"
    }
   ],
   "source": [
    "labeled_rd = pd.DataFrame(rd_v)\n",
    "labeled_rd['label'] = df['label']\n",
    "labeled_rd.head()"
   ]
  },
  {
   "cell_type": "code",
   "execution_count": 135,
   "metadata": {
    "ExecuteTime": {
     "end_time": "2019-11-14T20:26:20.965317Z",
     "start_time": "2019-11-14T20:26:20.949792Z"
    }
   },
   "outputs": [],
   "source": [
    "topic_mean_by_subject = labeled_rd.groupby('label').mean()"
   ]
  },
  {
   "cell_type": "code",
   "execution_count": 136,
   "metadata": {
    "ExecuteTime": {
     "end_time": "2019-11-14T20:26:23.855759Z",
     "start_time": "2019-11-14T20:26:23.846028Z"
    }
   },
   "outputs": [],
   "source": [
    "# reorder indices by frequency of subject label\n",
    "topic_mean_by_subject_freq = topic_mean_by_subject.loc[list(subjects.index),:]"
   ]
  },
  {
   "cell_type": "code",
   "execution_count": 137,
   "metadata": {
    "ExecuteTime": {
     "end_time": "2019-11-14T20:26:26.621460Z",
     "start_time": "2019-11-14T20:26:26.587322Z"
    }
   },
   "outputs": [
    {
     "data": {
      "text/html": [
       "<div>\n",
       "<style scoped>\n",
       "    .dataframe tbody tr th:only-of-type {\n",
       "        vertical-align: middle;\n",
       "    }\n",
       "\n",
       "    .dataframe tbody tr th {\n",
       "        vertical-align: top;\n",
       "    }\n",
       "\n",
       "    .dataframe thead th {\n",
       "        text-align: right;\n",
       "    }\n",
       "</style>\n",
       "<table border=\"1\" class=\"dataframe\">\n",
       "  <thead>\n",
       "    <tr style=\"text-align: right;\">\n",
       "      <th></th>\n",
       "      <th>0</th>\n",
       "      <th>1</th>\n",
       "      <th>2</th>\n",
       "      <th>3</th>\n",
       "      <th>4</th>\n",
       "      <th>5</th>\n",
       "      <th>6</th>\n",
       "      <th>7</th>\n",
       "      <th>8</th>\n",
       "      <th>9</th>\n",
       "      <th>10</th>\n",
       "      <th>11</th>\n",
       "      <th>12</th>\n",
       "      <th>13</th>\n",
       "      <th>14</th>\n",
       "    </tr>\n",
       "    <tr>\n",
       "      <th>label</th>\n",
       "      <th></th>\n",
       "      <th></th>\n",
       "      <th></th>\n",
       "      <th></th>\n",
       "      <th></th>\n",
       "      <th></th>\n",
       "      <th></th>\n",
       "      <th></th>\n",
       "      <th></th>\n",
       "      <th></th>\n",
       "      <th></th>\n",
       "      <th></th>\n",
       "      <th></th>\n",
       "      <th></th>\n",
       "      <th></th>\n",
       "    </tr>\n",
       "  </thead>\n",
       "  <tbody>\n",
       "    <tr>\n",
       "      <td>Linear Algebra</td>\n",
       "      <td>0.426475</td>\n",
       "      <td>0.183642</td>\n",
       "      <td>0.100934</td>\n",
       "      <td>0.043234</td>\n",
       "      <td>-0.020220</td>\n",
       "      <td>-0.013945</td>\n",
       "      <td>0.012756</td>\n",
       "      <td>-0.072976</td>\n",
       "      <td>-0.011567</td>\n",
       "      <td>0.004406</td>\n",
       "      <td>0.025245</td>\n",
       "      <td>-0.019961</td>\n",
       "      <td>-0.004266</td>\n",
       "      <td>0.024735</td>\n",
       "      <td>0.002963</td>\n",
       "    </tr>\n",
       "    <tr>\n",
       "      <td>Probability</td>\n",
       "      <td>0.431257</td>\n",
       "      <td>0.195878</td>\n",
       "      <td>0.120002</td>\n",
       "      <td>0.030577</td>\n",
       "      <td>-0.008586</td>\n",
       "      <td>-0.034701</td>\n",
       "      <td>-0.018252</td>\n",
       "      <td>-0.083548</td>\n",
       "      <td>-0.008791</td>\n",
       "      <td>-0.013502</td>\n",
       "      <td>-0.022533</td>\n",
       "      <td>0.006879</td>\n",
       "      <td>0.021465</td>\n",
       "      <td>-0.025727</td>\n",
       "      <td>-0.014714</td>\n",
       "    </tr>\n",
       "    <tr>\n",
       "      <td>CS</td>\n",
       "      <td>0.415787</td>\n",
       "      <td>0.182570</td>\n",
       "      <td>0.081292</td>\n",
       "      <td>0.011465</td>\n",
       "      <td>-0.032216</td>\n",
       "      <td>-0.020779</td>\n",
       "      <td>0.016487</td>\n",
       "      <td>-0.057531</td>\n",
       "      <td>-0.001791</td>\n",
       "      <td>0.032564</td>\n",
       "      <td>0.027944</td>\n",
       "      <td>-0.008227</td>\n",
       "      <td>0.002277</td>\n",
       "      <td>-0.025186</td>\n",
       "      <td>0.011533</td>\n",
       "    </tr>\n",
       "    <tr>\n",
       "      <td>Diff. Eq.</td>\n",
       "      <td>0.429032</td>\n",
       "      <td>0.186468</td>\n",
       "      <td>0.088888</td>\n",
       "      <td>0.029504</td>\n",
       "      <td>0.006637</td>\n",
       "      <td>-0.019220</td>\n",
       "      <td>0.007027</td>\n",
       "      <td>-0.066894</td>\n",
       "      <td>0.012979</td>\n",
       "      <td>0.021507</td>\n",
       "      <td>0.007384</td>\n",
       "      <td>-0.003982</td>\n",
       "      <td>0.015063</td>\n",
       "      <td>0.006160</td>\n",
       "      <td>0.006409</td>\n",
       "    </tr>\n",
       "    <tr>\n",
       "      <td>Algorithms</td>\n",
       "      <td>0.436453</td>\n",
       "      <td>0.178881</td>\n",
       "      <td>0.126611</td>\n",
       "      <td>-0.039332</td>\n",
       "      <td>0.007674</td>\n",
       "      <td>-0.037595</td>\n",
       "      <td>-0.030891</td>\n",
       "      <td>-0.128615</td>\n",
       "      <td>-0.016464</td>\n",
       "      <td>-0.018576</td>\n",
       "      <td>0.023453</td>\n",
       "      <td>0.001878</td>\n",
       "      <td>-0.013628</td>\n",
       "      <td>-0.007835</td>\n",
       "      <td>0.015639</td>\n",
       "    </tr>\n",
       "    <tr>\n",
       "      <td>Statistics</td>\n",
       "      <td>0.399983</td>\n",
       "      <td>0.183111</td>\n",
       "      <td>0.094670</td>\n",
       "      <td>0.036743</td>\n",
       "      <td>-0.048215</td>\n",
       "      <td>-0.000591</td>\n",
       "      <td>-0.008898</td>\n",
       "      <td>-0.018519</td>\n",
       "      <td>-0.018793</td>\n",
       "      <td>0.005953</td>\n",
       "      <td>-0.020423</td>\n",
       "      <td>-0.019522</td>\n",
       "      <td>-0.019043</td>\n",
       "      <td>0.007138</td>\n",
       "      <td>-0.010704</td>\n",
       "    </tr>\n",
       "    <tr>\n",
       "      <td>Calculus</td>\n",
       "      <td>0.424959</td>\n",
       "      <td>0.181168</td>\n",
       "      <td>0.076931</td>\n",
       "      <td>0.036067</td>\n",
       "      <td>0.024920</td>\n",
       "      <td>-0.012395</td>\n",
       "      <td>-0.025618</td>\n",
       "      <td>-0.079207</td>\n",
       "      <td>-0.023289</td>\n",
       "      <td>0.028716</td>\n",
       "      <td>0.008657</td>\n",
       "      <td>-0.086562</td>\n",
       "      <td>-0.024477</td>\n",
       "      <td>-0.023200</td>\n",
       "      <td>0.020642</td>\n",
       "    </tr>\n",
       "    <tr>\n",
       "      <td>Data Structures</td>\n",
       "      <td>0.441509</td>\n",
       "      <td>0.128695</td>\n",
       "      <td>0.035011</td>\n",
       "      <td>0.026053</td>\n",
       "      <td>0.040050</td>\n",
       "      <td>0.024831</td>\n",
       "      <td>0.018881</td>\n",
       "      <td>-0.032993</td>\n",
       "      <td>0.042525</td>\n",
       "      <td>0.008568</td>\n",
       "      <td>-0.004131</td>\n",
       "      <td>-0.026764</td>\n",
       "      <td>-0.004990</td>\n",
       "      <td>-0.015975</td>\n",
       "      <td>0.041097</td>\n",
       "    </tr>\n",
       "    <tr>\n",
       "      <td>AI</td>\n",
       "      <td>0.459163</td>\n",
       "      <td>0.196852</td>\n",
       "      <td>0.048930</td>\n",
       "      <td>0.059693</td>\n",
       "      <td>0.042814</td>\n",
       "      <td>-0.058553</td>\n",
       "      <td>-0.049195</td>\n",
       "      <td>-0.123590</td>\n",
       "      <td>-0.054845</td>\n",
       "      <td>-0.026968</td>\n",
       "      <td>0.023054</td>\n",
       "      <td>-0.058525</td>\n",
       "      <td>-0.033749</td>\n",
       "      <td>0.007184</td>\n",
       "      <td>0.015816</td>\n",
       "    </tr>\n",
       "    <tr>\n",
       "      <td>Math for Eng.</td>\n",
       "      <td>0.492194</td>\n",
       "      <td>0.097828</td>\n",
       "      <td>0.091738</td>\n",
       "      <td>0.031134</td>\n",
       "      <td>0.012031</td>\n",
       "      <td>-0.014292</td>\n",
       "      <td>-0.026829</td>\n",
       "      <td>-0.035924</td>\n",
       "      <td>-0.004599</td>\n",
       "      <td>-0.047129</td>\n",
       "      <td>-0.015873</td>\n",
       "      <td>0.005528</td>\n",
       "      <td>0.007268</td>\n",
       "      <td>0.008722</td>\n",
       "      <td>-0.047990</td>\n",
       "    </tr>\n",
       "    <tr>\n",
       "      <td>NLP</td>\n",
       "      <td>0.349202</td>\n",
       "      <td>0.350970</td>\n",
       "      <td>0.066248</td>\n",
       "      <td>0.017164</td>\n",
       "      <td>-0.001957</td>\n",
       "      <td>-0.031374</td>\n",
       "      <td>0.032512</td>\n",
       "      <td>-0.013304</td>\n",
       "      <td>-0.043750</td>\n",
       "      <td>0.054461</td>\n",
       "      <td>-0.002630</td>\n",
       "      <td>0.163288</td>\n",
       "      <td>0.027363</td>\n",
       "      <td>-0.016237</td>\n",
       "      <td>0.021021</td>\n",
       "    </tr>\n",
       "  </tbody>\n",
       "</table>\n",
       "</div>"
      ],
      "text/plain": [
       "                       0         1         2         3         4         5   \\\n",
       "label                                                                         \n",
       "Linear Algebra   0.426475  0.183642  0.100934  0.043234 -0.020220 -0.013945   \n",
       "Probability      0.431257  0.195878  0.120002  0.030577 -0.008586 -0.034701   \n",
       "CS               0.415787  0.182570  0.081292  0.011465 -0.032216 -0.020779   \n",
       "Diff. Eq.        0.429032  0.186468  0.088888  0.029504  0.006637 -0.019220   \n",
       "Algorithms       0.436453  0.178881  0.126611 -0.039332  0.007674 -0.037595   \n",
       "Statistics       0.399983  0.183111  0.094670  0.036743 -0.048215 -0.000591   \n",
       "Calculus         0.424959  0.181168  0.076931  0.036067  0.024920 -0.012395   \n",
       "Data Structures  0.441509  0.128695  0.035011  0.026053  0.040050  0.024831   \n",
       "AI               0.459163  0.196852  0.048930  0.059693  0.042814 -0.058553   \n",
       "Math for Eng.    0.492194  0.097828  0.091738  0.031134  0.012031 -0.014292   \n",
       "NLP              0.349202  0.350970  0.066248  0.017164 -0.001957 -0.031374   \n",
       "\n",
       "                       6         7         8         9         10        11  \\\n",
       "label                                                                         \n",
       "Linear Algebra   0.012756 -0.072976 -0.011567  0.004406  0.025245 -0.019961   \n",
       "Probability     -0.018252 -0.083548 -0.008791 -0.013502 -0.022533  0.006879   \n",
       "CS               0.016487 -0.057531 -0.001791  0.032564  0.027944 -0.008227   \n",
       "Diff. Eq.        0.007027 -0.066894  0.012979  0.021507  0.007384 -0.003982   \n",
       "Algorithms      -0.030891 -0.128615 -0.016464 -0.018576  0.023453  0.001878   \n",
       "Statistics      -0.008898 -0.018519 -0.018793  0.005953 -0.020423 -0.019522   \n",
       "Calculus        -0.025618 -0.079207 -0.023289  0.028716  0.008657 -0.086562   \n",
       "Data Structures  0.018881 -0.032993  0.042525  0.008568 -0.004131 -0.026764   \n",
       "AI              -0.049195 -0.123590 -0.054845 -0.026968  0.023054 -0.058525   \n",
       "Math for Eng.   -0.026829 -0.035924 -0.004599 -0.047129 -0.015873  0.005528   \n",
       "NLP              0.032512 -0.013304 -0.043750  0.054461 -0.002630  0.163288   \n",
       "\n",
       "                       12        13        14  \n",
       "label                                          \n",
       "Linear Algebra  -0.004266  0.024735  0.002963  \n",
       "Probability      0.021465 -0.025727 -0.014714  \n",
       "CS               0.002277 -0.025186  0.011533  \n",
       "Diff. Eq.        0.015063  0.006160  0.006409  \n",
       "Algorithms      -0.013628 -0.007835  0.015639  \n",
       "Statistics      -0.019043  0.007138 -0.010704  \n",
       "Calculus        -0.024477 -0.023200  0.020642  \n",
       "Data Structures -0.004990 -0.015975  0.041097  \n",
       "AI              -0.033749  0.007184  0.015816  \n",
       "Math for Eng.    0.007268  0.008722 -0.047990  \n",
       "NLP              0.027363 -0.016237  0.021021  "
      ]
     },
     "execution_count": 137,
     "metadata": {},
     "output_type": "execute_result"
    }
   ],
   "source": [
    "topic_mean_by_subject_freq"
   ]
  },
  {
   "cell_type": "code",
   "execution_count": 138,
   "metadata": {
    "ExecuteTime": {
     "end_time": "2019-11-14T20:26:29.802428Z",
     "start_time": "2019-11-14T20:26:29.794798Z"
    }
   },
   "outputs": [],
   "source": [
    "vmax = pd.DataFrame(topic_mean_by_subject_freq).max().max()"
   ]
  },
  {
   "cell_type": "code",
   "execution_count": 139,
   "metadata": {
    "ExecuteTime": {
     "end_time": "2019-11-14T20:26:34.351215Z",
     "start_time": "2019-11-14T20:26:34.344661Z"
    }
   },
   "outputs": [],
   "source": [
    "vmin = pd.DataFrame(topic_mean_by_subject_freq).min().min()"
   ]
  },
  {
   "cell_type": "code",
   "execution_count": 140,
   "metadata": {
    "ExecuteTime": {
     "end_time": "2019-11-14T20:26:37.771890Z",
     "start_time": "2019-11-14T20:26:37.322780Z"
    },
    "scrolled": false
   },
   "outputs": [
    {
     "data": {
      "image/png": "[encoded data removed]",
      "text/plain": [
       "<Figure size 1440x576 with 2 Axes>"
      ]
     },
     "metadata": {
      "needs_background": "light"
     },
     "output_type": "display_data"
    }
   ],
   "source": [
    "plt.figure(figsize=[20,8])\n",
    "heat_map_02 = sns.heatmap(topic_mean_by_subject_freq, vmin=vmin, vmax=vmax, \n",
    "                              cmap='PuOr', xticklabels=True, yticklabels=True)\n",
    "plt.show()"
   ]
  },
  {
   "cell_type": "code",
   "execution_count": 141,
   "metadata": {
    "ExecuteTime": {
     "end_time": "2019-11-14T20:26:42.287322Z",
     "start_time": "2019-11-14T20:26:41.761908Z"
    }
   },
   "outputs": [
    {
     "data": {
      "image/png": "[encoded data removed]",
      "text/plain": [
       "<Figure size 1440x576 with 2 Axes>"
      ]
     },
     "metadata": {
      "needs_background": "light"
     },
     "output_type": "display_data"
    }
   ],
   "source": [
    "vmax_1 = pd.DataFrame(topic_mean_by_subject_freq.iloc[1:,1:]).max().max()\n",
    "vmin_1 = pd.DataFrame(topic_mean_by_subject_freq.iloc[1:,1:]).min().min()\n",
    "plt.figure(figsize=[20,8])\n",
    "heat_map_02 = sns.heatmap(topic_mean_by_subject_freq.iloc[1:,1:], vmin=vmin_1, vmax=vmax_1, \n",
    "                              cmap='PuOr', xticklabels=True, yticklabels=True)\n",
    "plt.show()"
   ]
  },
  {
   "cell_type": "code",
   "execution_count": 143,
   "metadata": {
    "ExecuteTime": {
     "end_time": "2019-11-14T20:29:02.531987Z",
     "start_time": "2019-11-14T20:29:02.057453Z"
    }
   },
   "outputs": [
    {
     "data": {
      "image/png": "[encoded data removed]",
      "text/plain": [
       "<Figure size 1440x576 with 2 Axes>"
      ]
     },
     "metadata": {
      "needs_background": "light"
     },
     "output_type": "display_data"
    }
   ],
   "source": [
    "vmax_2 = pd.DataFrame(topic_mean_by_subject_freq.iloc[2:,2:]).max().max()\n",
    "vmin_2 = pd.DataFrame(topic_mean_by_subject_freq.iloc[2:,2:]).min().min()\n",
    "plt.figure(figsize=[20,8])\n",
    "heat_map_02 = sns.heatmap(topic_mean_by_subject_freq.iloc[2:,2:], vmin=vmin_2, vmax=vmax_2, \n",
    "                              cmap='PuOr', xticklabels=True, yticklabels=True)\n",
    "plt.show()"
   ]
  },
  {
   "cell_type": "code",
   "execution_count": 144,
   "metadata": {
    "ExecuteTime": {
     "end_time": "2019-11-14T20:30:18.055129Z",
     "start_time": "2019-11-14T20:30:17.613341Z"
    }
   },
   "outputs": [
    {
     "data": {
      "image/png": "[encoded data removed]",
      "text/plain": [
       "<Figure size 1440x576 with 2 Axes>"
      ]
     },
     "metadata": {
      "needs_background": "light"
     },
     "output_type": "display_data"
    }
   ],
   "source": [
    "vmax_3 = pd.DataFrame(topic_mean_by_subject_freq.iloc[3:,3:]).max().max()\n",
    "vmin_3 = pd.DataFrame(topic_mean_by_subject_freq.iloc[3:,3:]).min().min()\n",
    "plt.figure(figsize=[20,8])\n",
    "heat_map_02 = sns.heatmap(topic_mean_by_subject_freq.iloc[3:,3:], vmin=vmin_3, vmax=vmax_3, \n",
    "                              cmap='PuOr', xticklabels=True, yticklabels=True)\n",
    "plt.show()"
   ]
  },
  {
   "cell_type": "code",
   "execution_count": 142,
   "metadata": {
    "ExecuteTime": {
     "end_time": "2019-11-14T20:26:44.856890Z",
     "start_time": "2019-11-14T20:26:44.831163Z"
    }
   },
   "outputs": [
    {
     "name": "stdout",
     "output_type": "stream",
     "text": [
      "\n",
      "Topic  0\n",
      "vector, matrix, column, row, probability, equation, solution, transpose, transform, plane\n",
      "\n",
      "Topic  1\n",
      "probability, event, random, conditional, node, distribution, outcome, log, sample, tree\n",
      "\n",
      "Topic  2\n",
      "node, tree, list, log, edge, search, insert, algorithm, subtree, link\n",
      "\n",
      "Topic  3\n",
      "laplace_transform, equation, integral, derivative, solution, differential, pre, delta, sine, theta\n",
      "\n",
      "Topic  4\n",
      "vector, dot, plane, length, transform, scalar, direction, span, member, component\n",
      "\n",
      "Topic  5\n",
      "laplace_transform, node, st, probability, event, infinity, integral, vector, sine, row\n",
      "\n",
      "Topic  6\n",
      "solution, equation, differential, event, probability, derivative, slope, node, initial, pre\n",
      "\n",
      "Topic  7\n",
      "node, lambda, tree, subtree, integral, link, address, child, pdf, variance\n",
      "\n",
      "Topic  8\n",
      "edge, vertex, path, graph, weight, cycle, short, algorithm, delta, tree\n",
      "\n",
      "Topic  9\n",
      "row, integral, determinant, theta, dx, area, curve, plane, field, delta\n",
      "\n",
      "Topic  10\n",
      "eigenvalue, eigenvector, matrix, lambda, event, integral, delta, determinant, probability, field\n",
      "\n",
      "Topic  11\n",
      "log, theta, particle, hash, event, tree, beta, temperature, energy, search\n",
      "\n",
      "Topic  12\n",
      "state, particle, sub, arrival, markov, temperature, energy, chain, renewal, process\n",
      "\n",
      "Topic  13\n",
      "transpose, node, beta, model, theta, particle, neural, datum, alpha, error\n",
      "\n",
      "Topic  14\n",
      "particle, list, temperature, edge, null, energy, string, integral, loop, column\n"
     ]
    }
   ],
   "source": [
    "display_topics(lsa_components, feature_names, 10)"
   ]
  },
  {
   "cell_type": "code",
   "execution_count": 15,
   "metadata": {
    "ExecuteTime": {
     "end_time": "2019-11-14T19:15:20.663957Z",
     "start_time": "2019-11-14T19:15:20.655816Z"
    }
   },
   "outputs": [
    {
     "data": {
      "text/plain": [
       "['Linear Algebra',\n",
       " 'Probability',\n",
       " 'CS',\n",
       " 'Diff. Eq.',\n",
       " 'Algorithms',\n",
       " 'Statistics',\n",
       " 'Calculus',\n",
       " 'Data Structures',\n",
       " 'AI',\n",
       " 'Math for Eng.',\n",
       " 'NLP']"
      ]
     },
     "execution_count": 15,
     "metadata": {},
     "output_type": "execute_result"
    }
   ],
   "source": [
    "list(subjects.index)"
   ]
  },
  {
   "cell_type": "code",
   "execution_count": 16,
   "metadata": {
    "ExecuteTime": {
     "end_time": "2019-11-14T19:15:20.689746Z",
     "start_time": "2019-11-14T19:15:20.666903Z"
    }
   },
   "outputs": [
    {
     "data": {
      "text/html": [
       "<div>\n",
       "<style scoped>\n",
       "    .dataframe tbody tr th:only-of-type {\n",
       "        vertical-align: middle;\n",
       "    }\n",
       "\n",
       "    .dataframe tbody tr th {\n",
       "        vertical-align: top;\n",
       "    }\n",
       "\n",
       "    .dataframe thead th {\n",
       "        text-align: right;\n",
       "    }\n",
       "</style>\n",
       "<table border=\"1\" class=\"dataframe\">\n",
       "  <thead>\n",
       "    <tr style=\"text-align: right;\">\n",
       "      <th></th>\n",
       "      <th>text</th>\n",
       "      <th>label</th>\n",
       "      <th>le</th>\n",
       "    </tr>\n",
       "  </thead>\n",
       "  <tbody>\n",
       "    <tr>\n",
       "      <td>8</td>\n",
       "      <td>ben harris hi   ben today   lu decomposition p...</td>\n",
       "      <td>Linear Algebra</td>\n",
       "      <td>6</td>\n",
       "    </tr>\n",
       "    <tr>\n",
       "      <td>9</td>\n",
       "      <td>s function f mapping set x y draw set x     se...</td>\n",
       "      <td>Linear Algebra</td>\n",
       "      <td>6</td>\n",
       "    </tr>\n",
       "    <tr>\n",
       "      <td>26</td>\n",
       "      <td>follow content provide creative common license...</td>\n",
       "      <td>Linear Algebra</td>\n",
       "      <td>6</td>\n",
       "    </tr>\n",
       "    <tr>\n",
       "      <td>28</td>\n",
       "      <td>follow content provide creative common license...</td>\n",
       "      <td>Linear Algebra</td>\n",
       "      <td>6</td>\n",
       "    </tr>\n",
       "    <tr>\n",
       "      <td>32</td>\n",
       "      <td>segment discuss little bit union bind discus...</td>\n",
       "      <td>Linear Algebra</td>\n",
       "      <td>6</td>\n",
       "    </tr>\n",
       "    <tr>\n",
       "      <td>...</td>\n",
       "      <td>...</td>\n",
       "      <td>...</td>\n",
       "      <td>...</td>\n",
       "    </tr>\n",
       "    <tr>\n",
       "      <td>806</td>\n",
       "      <td>lecture symmetric matrix   portant class m...</td>\n",
       "      <td>Linear Algebra</td>\n",
       "      <td>6</td>\n",
       "    </tr>\n",
       "    <tr>\n",
       "      <td>842</td>\n",
       "      <td>would like talk thank thing would like little ...</td>\n",
       "      <td>Linear Algebra</td>\n",
       "      <td>6</td>\n",
       "    </tr>\n",
       "    <tr>\n",
       "      <td>852</td>\n",
       "      <td>way nonlinear autonomous system los practice n...</td>\n",
       "      <td>Linear Algebra</td>\n",
       "      <td>6</td>\n",
       "    </tr>\n",
       "    <tr>\n",
       "      <td>854</td>\n",
       "      <td>follow content provide creative common license...</td>\n",
       "      <td>Linear Algebra</td>\n",
       "      <td>6</td>\n",
       "    </tr>\n",
       "    <tr>\n",
       "      <td>857</td>\n",
       "      <td>follow content provide   opencourseware creati...</td>\n",
       "      <td>Linear Algebra</td>\n",
       "      <td>6</td>\n",
       "    </tr>\n",
       "  </tbody>\n",
       "</table>\n",
       "<p>152 rows × 3 columns</p>\n",
       "</div>"
      ],
      "text/plain": [
       "                                                  text           label  le\n",
       "8    ben harris hi   ben today   lu decomposition p...  Linear Algebra   6\n",
       "9    s function f mapping set x y draw set x     se...  Linear Algebra   6\n",
       "26   follow content provide creative common license...  Linear Algebra   6\n",
       "28   follow content provide creative common license...  Linear Algebra   6\n",
       "32     segment discuss little bit union bind discus...  Linear Algebra   6\n",
       "..                                                 ...             ...  ..\n",
       "806      lecture symmetric matrix   portant class m...  Linear Algebra   6\n",
       "842  would like talk thank thing would like little ...  Linear Algebra   6\n",
       "852  way nonlinear autonomous system los practice n...  Linear Algebra   6\n",
       "854  follow content provide creative common license...  Linear Algebra   6\n",
       "857  follow content provide   opencourseware creati...  Linear Algebra   6\n",
       "\n",
       "[152 rows x 3 columns]"
      ]
     },
     "execution_count": 16,
     "metadata": {},
     "output_type": "execute_result"
    }
   ],
   "source": [
    "df[df['label']=='Linear Algebra']"
   ]
  },
  {
   "cell_type": "code",
   "execution_count": 17,
   "metadata": {
    "ExecuteTime": {
     "end_time": "2019-11-14T19:15:20.699177Z",
     "start_time": "2019-11-14T19:15:20.692859Z"
    }
   },
   "outputs": [
    {
     "name": "stdout",
     "output_type": "stream",
     "text": [
      "['Linear Algebra', 'Probability', 'CS', 'Diff. Eq.', 'Algorithms', 'Statistics', 'Calculus', 'Data Structures', 'AI', 'Math for Eng.', 'NLP']\n"
     ]
    }
   ],
   "source": [
    "print(list(subjects.index))"
   ]
  },
  {
   "cell_type": "code",
   "execution_count": 18,
   "metadata": {
    "ExecuteTime": {
     "end_time": "2019-11-14T19:15:20.735543Z",
     "start_time": "2019-11-14T19:15:20.702519Z"
    }
   },
   "outputs": [],
   "source": [
    "linalg_rd = pd.DataFrame(rd_v).iloc[df_linalg.index]\n",
    "prob_rd = pd.DataFrame(rd_v).iloc[df_prob.index]\n",
    "cs_rd = pd.DataFrame(rd_v).iloc[df_cs.index]\n",
    "diffeq_rd = pd.DataFrame(rd_v).iloc[df_diffeq.index]\n",
    "algo_rd = pd.DataFrame(rd_v).iloc[df_algo.index]\n",
    "stats_rd = pd.DataFrame(rd_v).iloc[df_stats.index]\n",
    "calc_rd = pd.DataFrame(rd_v).iloc[df_calc.index]\n",
    "datastruc_rd = pd.DataFrame(rd_v).iloc[df_datastruc.index]\n",
    "ai_rd = pd.DataFrame(rd_v).iloc[df_ai.index]\n",
    "engmath_rd = pd.DataFrame(rd_v).iloc[df_engmath.index]\n",
    "nlp_rd = pd.DataFrame(rd_v).iloc[df_nlp.index]\n"
   ]
  },
  {
   "cell_type": "code",
   "execution_count": 19,
   "metadata": {
    "ExecuteTime": {
     "end_time": "2019-11-14T19:15:20.744985Z",
     "start_time": "2019-11-14T19:15:20.738470Z"
    }
   },
   "outputs": [],
   "source": [
    "rd_list = [linalg_rd, prob_rd, cs_rd, diffeq_rd, algo_rd, stats_rd, calc_rd, datastruc_rd, ai_rd, engmath_rd, nlp_rd]\n",
    "rd_names = [\"linalg_rd\", \"prob_rd\", \"cs_rd\", \"diffeq_rd\", \"algo_rd\", \"stats_rd\", \"calc_rd\", \"datastruc_rd\", \"ai_rd\", \"engmath_rd\", \"nlp_rd\"]\n",
    "rd_dict = {key:val for (key, val) in zip(rd_names, rd_list)}"
   ]
  },
  {
   "cell_type": "markdown",
   "metadata": {},
   "source": [
    "I have created slices of the original dataframe based on their subject labels.  \n",
    "Now I need to get their indices, and create a heatmap from each list of indices."
   ]
  },
  {
   "cell_type": "markdown",
   "metadata": {},
   "source": [
    "# Heat maps for each subject"
   ]
  },
  {
   "cell_type": "code",
   "execution_count": 53,
   "metadata": {
    "ExecuteTime": {
     "end_time": "2019-11-14T19:36:11.517639Z",
     "start_time": "2019-11-14T19:36:11.262260Z"
    }
   },
   "outputs": [
    {
     "data": {
      "image/png": "[encoded data removed]",
      "text/plain": [
       "<Figure size 1440x216 with 2 Axes>"
      ]
     },
     "metadata": {
      "needs_background": "light"
     },
     "output_type": "display_data"
    }
   ],
   "source": [
    "plt.figure(figsize=[20,3])\n",
    "heat_map_linalg = sns.heatmap(linalg_rd.sample(19), vmin=-0.4, vmax=0.4, \n",
    "                              cmap='coolwarm', xticklabels=False, yticklabels=False)\n",
    "plt.show();"
   ]
  },
  {
   "cell_type": "code",
   "execution_count": 21,
   "metadata": {
    "ExecuteTime": {
     "end_time": "2019-11-14T19:15:21.412238Z",
     "start_time": "2019-11-14T19:15:21.097615Z"
    }
   },
   "outputs": [
    {
     "data": {
      "image/png": "[encoded data removed]",
      "text/plain": [
       "<Figure size 1440x216 with 2 Axes>"
      ]
     },
     "metadata": {
      "needs_background": "light"
     },
     "output_type": "display_data"
    }
   ],
   "source": [
    "plt.figure(figsize=[20,3])\n",
    "heat_map_nlp = sns.heatmap(nlp_rd.sample(19), vmin=-0.4, vmax=0.4, cmap='coolwarm', xticklabels=False, yticklabels=False)\n",
    "plt.show()"
   ]
  },
  {
   "cell_type": "code",
   "execution_count": 22,
   "metadata": {
    "ExecuteTime": {
     "end_time": "2019-11-14T19:15:21.702861Z",
     "start_time": "2019-11-14T19:15:21.416256Z"
    }
   },
   "outputs": [
    {
     "data": {
      "image/png": "[encoded data removed]",
      "text/plain": [
       "<Figure size 1440x216 with 2 Axes>"
      ]
     },
     "metadata": {
      "needs_background": "light"
     },
     "output_type": "display_data"
    }
   ],
   "source": [
    "plt.figure(figsize=[20,3])\n",
    "heat_map_prob = sns.heatmap(prob_rd.sample(19), vmin=-0.4, vmax=0.4, cmap='coolwarm', xticklabels=False, yticklabels=False)\n",
    "plt.show()"
   ]
  },
  {
   "cell_type": "code",
   "execution_count": 23,
   "metadata": {
    "ExecuteTime": {
     "end_time": "2019-11-14T19:15:22.088985Z",
     "start_time": "2019-11-14T19:15:21.714772Z"
    }
   },
   "outputs": [
    {
     "data": {
      "image/png": "[encoded data removed]",
      "text/plain": [
       "<Figure size 1440x216 with 2 Axes>"
      ]
     },
     "metadata": {
      "needs_background": "light"
     },
     "output_type": "display_data"
    }
   ],
   "source": [
    "plt.figure(figsize=[20,3])\n",
    "heat_map_cs = sns.heatmap(cs_rd.sample(19), vmin=-0.4, vmax=0.4, cmap='coolwarm', xticklabels=False, yticklabels=False)\n",
    "plt.show()"
   ]
  },
  {
   "cell_type": "code",
   "execution_count": 24,
   "metadata": {
    "ExecuteTime": {
     "end_time": "2019-11-14T19:15:22.337173Z",
     "start_time": "2019-11-14T19:15:22.092796Z"
    }
   },
   "outputs": [
    {
     "data": {
      "image/png": "[encoded data removed]",
      "text/plain": [
       "<Figure size 1440x216 with 2 Axes>"
      ]
     },
     "metadata": {
      "needs_background": "light"
     },
     "output_type": "display_data"
    }
   ],
   "source": [
    "plt.figure(figsize=[20,3])\n",
    "heat_map_diffeq = sns.heatmap(diffeq_rd.sample(19), vmin=-0.4, vmax=0.4, cmap='coolwarm', xticklabels=False, yticklabels=False)\n",
    "plt.show()"
   ]
  },
  {
   "cell_type": "code",
   "execution_count": 25,
   "metadata": {
    "ExecuteTime": {
     "end_time": "2019-11-14T19:15:22.550967Z",
     "start_time": "2019-11-14T19:15:22.340303Z"
    }
   },
   "outputs": [
    {
     "data": {
      "image/png": "[encoded data removed]",
      "text/plain": [
       "<Figure size 1440x216 with 2 Axes>"
      ]
     },
     "metadata": {
      "needs_background": "light"
     },
     "output_type": "display_data"
    }
   ],
   "source": [
    "plt.figure(figsize=[20,3])\n",
    "heat_map_algo = sns.heatmap(algo_rd.sample(19), vmin=-0.4, vmax=0.4, cmap='coolwarm', xticklabels=False, yticklabels=False)\n",
    "plt.show()"
   ]
  },
  {
   "cell_type": "code",
   "execution_count": 26,
   "metadata": {
    "ExecuteTime": {
     "end_time": "2019-11-14T19:15:22.764399Z",
     "start_time": "2019-11-14T19:15:22.554630Z"
    }
   },
   "outputs": [
    {
     "data": {
      "image/png": "[encoded data removed]",
      "text/plain": [
       "<Figure size 1440x216 with 2 Axes>"
      ]
     },
     "metadata": {
      "needs_background": "light"
     },
     "output_type": "display_data"
    }
   ],
   "source": [
    "plt.figure(figsize=[20,3])\n",
    "heat_map_stats = sns.heatmap(stats_rd.sample(19), vmin=-0.4, vmax=0.4, cmap='coolwarm', xticklabels=False, yticklabels=False)\n",
    "plt.show()"
   ]
  },
  {
   "cell_type": "code",
   "execution_count": 27,
   "metadata": {
    "ExecuteTime": {
     "end_time": "2019-11-14T19:15:23.016219Z",
     "start_time": "2019-11-14T19:15:22.775790Z"
    }
   },
   "outputs": [
    {
     "data": {
      "image/png": "[encoded data removed]",
      "text/plain": [
       "<Figure size 1440x216 with 2 Axes>"
      ]
     },
     "metadata": {
      "needs_background": "light"
     },
     "output_type": "display_data"
    }
   ],
   "source": [
    "plt.figure(figsize=[20,3])\n",
    "heat_map_calc = sns.heatmap(calc_rd.sample(19), vmin=-0.4, vmax=0.4, cmap='coolwarm', xticklabels=False, yticklabels=False)\n",
    "plt.show()"
   ]
  },
  {
   "cell_type": "code",
   "execution_count": 28,
   "metadata": {
    "ExecuteTime": {
     "end_time": "2019-11-14T19:15:23.299358Z",
     "start_time": "2019-11-14T19:15:23.023345Z"
    }
   },
   "outputs": [
    {
     "data": {
      "image/png": "[encoded data removed]",
      "text/plain": [
       "<Figure size 1440x216 with 2 Axes>"
      ]
     },
     "metadata": {
      "needs_background": "light"
     },
     "output_type": "display_data"
    }
   ],
   "source": [
    "plt.figure(figsize=[20,3])\n",
    "heat_map_datastruc = sns.heatmap(datastruc_rd.sample(19), vmin=-0.4, vmax=0.4, cmap='coolwarm', xticklabels=False, yticklabels=False)\n",
    "plt.show()"
   ]
  },
  {
   "cell_type": "code",
   "execution_count": 29,
   "metadata": {
    "ExecuteTime": {
     "end_time": "2019-11-14T19:15:23.542563Z",
     "start_time": "2019-11-14T19:15:23.303065Z"
    }
   },
   "outputs": [
    {
     "data": {
      "image/png": "[encoded data removed]",
      "text/plain": [
       "<Figure size 1440x216 with 2 Axes>"
      ]
     },
     "metadata": {
      "needs_background": "light"
     },
     "output_type": "display_data"
    }
   ],
   "source": [
    "plt.figure(figsize=[20,3])\n",
    "heat_map_ai = sns.heatmap(ai_rd.sample(19), vmin=-0.4, vmax=0.4, cmap='coolwarm', xticklabels=False, yticklabels=False)\n",
    "plt.show()"
   ]
  },
  {
   "cell_type": "code",
   "execution_count": 30,
   "metadata": {
    "ExecuteTime": {
     "end_time": "2019-11-14T19:15:23.776268Z",
     "start_time": "2019-11-14T19:15:23.546069Z"
    }
   },
   "outputs": [
    {
     "data": {
      "image/png": "[encoded data removed]",
      "text/plain": [
       "<Figure size 1440x216 with 2 Axes>"
      ]
     },
     "metadata": {
      "needs_background": "light"
     },
     "output_type": "display_data"
    }
   ],
   "source": [
    "plt.figure(figsize=[20,3])\n",
    "heat_map_engmath = sns.heatmap(engmath_rd.sample(19), vmin=-0.4, vmax=0.4, cmap='coolwarm', xticklabels=False, yticklabels=False)\n",
    "plt.show()"
   ]
  },
  {
   "cell_type": "code",
   "execution_count": 31,
   "metadata": {
    "ExecuteTime": {
     "end_time": "2019-11-14T19:15:24.076161Z",
     "start_time": "2019-11-14T19:15:23.779193Z"
    }
   },
   "outputs": [
    {
     "data": {
      "image/png": "[encoded data removed]",
      "text/plain": [
       "<Figure size 1440x216 with 2 Axes>"
      ]
     },
     "metadata": {
      "needs_background": "light"
     },
     "output_type": "display_data"
    }
   ],
   "source": [
    "plt.figure(figsize=[20,3])\n",
    "heat_map_nlp = sns.heatmap(nlp_rd.sample(19), vmin=-0.4, vmax=0.4, cmap='coolwarm', xticklabels=False, yticklabels=False)\n",
    "plt.show()"
   ]
  },
  {
   "cell_type": "code",
   "execution_count": 32,
   "metadata": {
    "ExecuteTime": {
     "end_time": "2019-11-14T19:15:24.090706Z",
     "start_time": "2019-11-14T19:15:24.079511Z"
    }
   },
   "outputs": [
    {
     "data": {
      "text/plain": [
       "(19, 60)"
      ]
     },
     "execution_count": 32,
     "metadata": {},
     "output_type": "execute_result"
    }
   ],
   "source": [
    "nlp_rd.shape"
   ]
  },
  {
   "cell_type": "markdown",
   "metadata": {
    "heading_collapsed": true
   },
   "source": [
    "# Entropy"
   ]
  },
  {
   "cell_type": "code",
   "execution_count": 33,
   "metadata": {
    "ExecuteTime": {
     "end_time": "2019-11-14T19:15:24.119421Z",
     "start_time": "2019-11-14T19:15:24.095140Z"
    },
    "hidden": true
   },
   "outputs": [
    {
     "data": {
      "text/plain": [
       "array([4.92811852,       -inf,       -inf,       -inf,       -inf,\n",
       "             -inf,       -inf,       -inf,       -inf,       -inf,\n",
       "             -inf,       -inf,       -inf,       -inf,       -inf,\n",
       "             -inf,       -inf,       -inf,       -inf,       -inf,\n",
       "             -inf,       -inf,       -inf,       -inf,       -inf,\n",
       "             -inf,       -inf,       -inf,       -inf,       -inf,\n",
       "             -inf,       -inf,       -inf,       -inf,       -inf,\n",
       "             -inf,       -inf,       -inf,       -inf,       -inf,\n",
       "             -inf,       -inf,       -inf,       -inf,       -inf,\n",
       "             -inf,       -inf,       -inf,       -inf,       -inf,\n",
       "             -inf,       -inf,       -inf,       -inf,       -inf,\n",
       "             -inf,       -inf,       -inf,       -inf,       -inf])"
      ]
     },
     "execution_count": 33,
     "metadata": {},
     "output_type": "execute_result"
    }
   ],
   "source": [
    "# https://docs.scipy.org/doc/scipy/reference/generated/scipy.stats.entropy.html\n",
    "# If qk is not None, then compute the Kullback-Leibler divergence S = sum(pk * log(pk / qk), axis=0).\n",
    "from scipy.stats import entropy\n",
    "entropy(linalg_rd)"
   ]
  },
  {
   "cell_type": "code",
   "execution_count": 34,
   "metadata": {
    "ExecuteTime": {
     "end_time": "2019-11-14T19:15:24.157509Z",
     "start_time": "2019-11-14T19:15:24.123279Z"
    },
    "hidden": true
   },
   "outputs": [
    {
     "data": {
      "text/plain": [
       "4.73152824938039"
      ]
     },
     "execution_count": 34,
     "metadata": {},
     "output_type": "execute_result"
    }
   ],
   "source": [
    "entropy(prob_rd)[0]"
   ]
  },
  {
   "cell_type": "code",
   "execution_count": 35,
   "metadata": {
    "ExecuteTime": {
     "end_time": "2019-11-14T19:15:24.177709Z",
     "start_time": "2019-11-14T19:15:24.161229Z"
    },
    "hidden": true
   },
   "outputs": [
    {
     "data": {
      "text/plain": [
       "[4.93, 4.73, 4.55, 4.43, 4.28, 4.28, 4.15, 4.0, 3.78, 3.22, 2.89]"
      ]
     },
     "execution_count": 35,
     "metadata": {},
     "output_type": "execute_result"
    }
   ],
   "source": [
    "entropy_list = [entropy(x)[0].round(2) for x in rd_list]\n",
    "# entropy_dict = {key:val for (key, val) in zip(rd_names, entropy(rd_list)[0])}\n",
    "entropy_list"
   ]
  },
  {
   "cell_type": "code",
   "execution_count": 36,
   "metadata": {
    "ExecuteTime": {
     "end_time": "2019-11-14T19:15:24.217602Z",
     "start_time": "2019-11-14T19:15:24.180669Z"
    },
    "hidden": true
   },
   "outputs": [
    {
     "name": "stdout",
     "output_type": "stream",
     "text": [
      "Kullback-Leibler divergence of Linear Algebra: 4.93\n",
      "Kullback-Leibler divergence of Probability: 4.73\n",
      "Kullback-Leibler divergence of CS: 4.55\n",
      "Kullback-Leibler divergence of Diff. Eq.: 4.43\n",
      "Kullback-Leibler divergence of Algorithms: 4.28\n",
      "Kullback-Leibler divergence of Statistics: 4.28\n",
      "Kullback-Leibler divergence of Calculus: 4.15\n",
      "Kullback-Leibler divergence of Data Structures: 4.0\n",
      "Kullback-Leibler divergence of AI: 3.78\n",
      "Kullback-Leibler divergence of Math for Eng.: 3.22\n",
      "Kullback-Leibler divergence of NLP: 2.89\n"
     ]
    }
   ],
   "source": [
    "for subj, ent in zip(list(subjects.index), entropy_list):\n",
    "    print(f\"Kullback-Leibler divergence of {subj}:\", ent)"
   ]
  },
  {
   "cell_type": "markdown",
   "metadata": {
    "hidden": true
   },
   "source": [
    "Divergence range for 60 topics: 2.89-4.93  \n",
    "Divergence range for 50 topics: 2.91-4.93  \n",
    "Divergence range for 40 topics: 2.91-4.94  \n",
    "Divergence range for 30 topics: 2.91-4.95  \n",
    "Divergence range for 20 topics: 2.91-4.96  \n",
    "Divergence range for 10 topics: 2.90-4.96  \n",
    "Divergence range for 5 topics: 2.90-4.98"
   ]
  }
 ],
 "metadata": {
  "kernelspec": {
   "display_name": "Python 3",
   "language": "python",
   "name": "python3"
  },
  "language_info": {
   "codemirror_mode": {
    "name": "ipython",
    "version": 3
   },
   "file_extension": ".py",
   "mimetype": "text/x-python",
   "name": "python",
   "nbconvert_exporter": "python",
   "pygments_lexer": "ipython3",
   "version": "3.7.3"
  },
  "toc": {
   "base_numbering": 1,
   "nav_menu": {},
   "number_sections": true,
   "sideBar": true,
   "skip_h1_title": false,
   "title_cell": "Table of Contents",
   "title_sidebar": "Contents",
   "toc_cell": false,
   "toc_position": {},
   "toc_section_display": true,
   "toc_window_display": false
  },
  "varInspector": {
   "cols": {
    "lenName": 16,
    "lenType": 16,
    "lenVar": 40
   },
   "kernels_config": {
    "python": {
     "delete_cmd_postfix": "",
     "delete_cmd_prefix": "del ",
     "library": "var_list.py",
     "varRefreshCmd": "print(var_dic_list())"
    },
    "r": {
     "delete_cmd_postfix": ") ",
     "delete_cmd_prefix": "rm(",
     "library": "var_list.r",
     "varRefreshCmd": "cat(var_dic_list()) "
    }
   },
   "types_to_exclude": [
    "module",
    "function",
    "builtin_function_or_method",
    "instance",
    "_Feature"
   ],
   "window_display": false
  }
 },
 "nbformat": 4,
 "nbformat_minor": 2
}
