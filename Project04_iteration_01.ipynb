{
 "cells": [
  {
   "cell_type": "markdown",
   "metadata": {},
   "source": [
    "Data downloaded from https://www.kaggle.com/extralime/math-lectures/version/2"
   ]
  },
  {
   "cell_type": "code",
   "execution_count": null,
   "metadata": {
    "ExecuteTime": {
     "start_time": "2019-11-12T23:08:07.145Z"
    }
   },
   "outputs": [],
   "source": [
    "import numpy as np\n",
    "import pandas as pd\n",
    "import nltk"
   ]
  },
  {
   "cell_type": "markdown",
   "metadata": {},
   "source": [
    "Standardize"
   ]
  },
  {
   "cell_type": "code",
   "execution_count": 2,
   "metadata": {
    "ExecuteTime": {
     "end_time": "2019-11-11T22:33:20.120114Z",
     "start_time": "2019-11-11T22:33:20.114760Z"
    }
   },
   "outputs": [],
   "source": [
    "import random\n",
    "import re\n",
    "import string"
   ]
  },
  {
   "cell_type": "code",
   "execution_count": 3,
   "metadata": {
    "ExecuteTime": {
     "end_time": "2019-11-11T22:33:20.179790Z",
     "start_time": "2019-11-11T22:33:20.172716Z"
    }
   },
   "outputs": [],
   "source": [
    "# takes ~30 seconds to import\n",
    "from nltk.tokenize import RegexpTokenizer\n",
    "from nltk.corpus import stopwords"
   ]
  },
  {
   "cell_type": "markdown",
   "metadata": {},
   "source": [
    "Vectorize"
   ]
  },
  {
   "cell_type": "code",
   "execution_count": 4,
   "metadata": {
    "ExecuteTime": {
     "end_time": "2019-11-11T22:33:20.240036Z",
     "start_time": "2019-11-11T22:33:20.234755Z"
    }
   },
   "outputs": [],
   "source": [
    "from sklearn.feature_extraction.text import CountVectorizer\n"
   ]
  },
  {
   "cell_type": "code",
   "execution_count": 5,
   "metadata": {
    "ExecuteTime": {
     "end_time": "2019-11-11T22:33:20.292320Z",
     "start_time": "2019-11-11T22:33:20.285692Z"
    }
   },
   "outputs": [],
   "source": [
    "from sklearn.feature_extraction.text import TfidfVectorizer\n",
    "cv_tfidf = TfidfVectorizer()"
   ]
  },
  {
   "cell_type": "markdown",
   "metadata": {},
   "source": [
    "Reduce Dimensions"
   ]
  },
  {
   "cell_type": "code",
   "execution_count": 6,
   "metadata": {
    "ExecuteTime": {
     "end_time": "2019-11-11T22:33:20.588664Z",
     "start_time": "2019-11-11T22:33:20.354873Z"
    }
   },
   "outputs": [],
   "source": [
    "from sklearn.decomposition import TruncatedSVD\n",
    "from sklearn.decomposition import NMF\n"
   ]
  },
  {
   "cell_type": "markdown",
   "metadata": {},
   "source": [
    "Cluster"
   ]
  },
  {
   "cell_type": "code",
   "execution_count": 7,
   "metadata": {
    "ExecuteTime": {
     "end_time": "2019-11-11T22:33:21.896816Z",
     "start_time": "2019-11-11T22:33:20.663026Z"
    }
   },
   "outputs": [],
   "source": [
    "from sklearn.cluster import KMeans"
   ]
  },
  {
   "cell_type": "markdown",
   "metadata": {},
   "source": [
    "Visualize"
   ]
  },
  {
   "cell_type": "code",
   "execution_count": 8,
   "metadata": {
    "ExecuteTime": {
     "end_time": "2019-11-11T22:33:25.244809Z",
     "start_time": "2019-11-11T22:33:21.954905Z"
    }
   },
   "outputs": [
    {
     "name": "stdout",
     "output_type": "stream",
     "text": [
      "Populating the interactive namespace from numpy and matplotlib\n"
     ]
    },
    {
     "name": "stderr",
     "output_type": "stream",
     "text": [
      "/anaconda3/envs/metis/lib/python3.7/site-packages/IPython/core/magics/pylab.py:160: UserWarning: pylab import has clobbered these variables: ['random']\n",
      "`%matplotlib` prevents importing * from pylab and numpy\n",
      "  \"\\n`%matplotlib` prevents importing * from pylab and numpy\"\n"
     ]
    }
   ],
   "source": [
    "import seaborn as sns\n",
    "%pylab inline"
   ]
  },
  {
   "cell_type": "markdown",
   "metadata": {},
   "source": [
    "# Read in the data"
   ]
  },
  {
   "cell_type": "code",
   "execution_count": 2,
   "metadata": {
    "ExecuteTime": {
     "end_time": "2019-11-12T23:08:02.900806Z",
     "start_time": "2019-11-12T23:08:02.874898Z"
    }
   },
   "outputs": [
    {
     "ename": "NameError",
     "evalue": "name 'pd' is not defined",
     "output_type": "error",
     "traceback": [
      "\u001b[0;31m---------------------------------------------------------------------------\u001b[0m",
      "\u001b[0;31mNameError\u001b[0m                                 Traceback (most recent call last)",
      "\u001b[0;32m<ipython-input-2-e024cce133e6>\u001b[0m in \u001b[0;36m<module>\u001b[0;34m\u001b[0m\n\u001b[0;32m----> 1\u001b[0;31m \u001b[0mdf\u001b[0m \u001b[0;34m=\u001b[0m \u001b[0mpd\u001b[0m\u001b[0;34m.\u001b[0m\u001b[0mread_csv\u001b[0m\u001b[0;34m(\u001b[0m\u001b[0;34m\"raw_text.csv\"\u001b[0m\u001b[0;34m)\u001b[0m\u001b[0;34m\u001b[0m\u001b[0;34m\u001b[0m\u001b[0m\n\u001b[0m",
      "\u001b[0;31mNameError\u001b[0m: name 'pd' is not defined"
     ]
    }
   ],
   "source": [
    "df = pd.read_csv(\"raw_text.csv\")"
   ]
  },
  {
   "cell_type": "code",
   "execution_count": 3,
   "metadata": {
    "ExecuteTime": {
     "end_time": "2019-11-12T23:08:03.316226Z",
     "start_time": "2019-11-12T23:08:03.302116Z"
    }
   },
   "outputs": [
    {
     "ename": "NameError",
     "evalue": "name 'df' is not defined",
     "output_type": "error",
     "traceback": [
      "\u001b[0;31m---------------------------------------------------------------------------\u001b[0m",
      "\u001b[0;31mNameError\u001b[0m                                 Traceback (most recent call last)",
      "\u001b[0;32m<ipython-input-3-c42a15b2c7cf>\u001b[0m in \u001b[0;36m<module>\u001b[0;34m\u001b[0m\n\u001b[0;32m----> 1\u001b[0;31m \u001b[0mdf\u001b[0m\u001b[0;34m.\u001b[0m\u001b[0mhead\u001b[0m\u001b[0;34m(\u001b[0m\u001b[0;34m)\u001b[0m\u001b[0;34m\u001b[0m\u001b[0;34m\u001b[0m\u001b[0m\n\u001b[0m",
      "\u001b[0;31mNameError\u001b[0m: name 'df' is not defined"
     ]
    }
   ],
   "source": [
    "df.head()"
   ]
  },
  {
   "cell_type": "code",
   "execution_count": 1,
   "metadata": {
    "ExecuteTime": {
     "end_time": "2019-11-12T23:07:47.001941Z",
     "start_time": "2019-11-12T23:07:39.276364Z"
    }
   },
   "outputs": [
    {
     "ename": "NameError",
     "evalue": "name 'df' is not defined",
     "output_type": "error",
     "traceback": [
      "\u001b[0;31m---------------------------------------------------------------------------\u001b[0m",
      "\u001b[0;31mNameError\u001b[0m                                 Traceback (most recent call last)",
      "\u001b[0;32m<ipython-input-1-8e33c7931ba6>\u001b[0m in \u001b[0;36m<module>\u001b[0;34m\u001b[0m\n\u001b[0;32m----> 1\u001b[0;31m \u001b[0mdf\u001b[0m\u001b[0;34m.\u001b[0m\u001b[0mgroupby\u001b[0m\u001b[0;34m(\u001b[0m\u001b[0;34m'label'\u001b[0m\u001b[0;34m)\u001b[0m\u001b[0;34m.\u001b[0m\u001b[0mcount\u001b[0m\u001b[0;34m(\u001b[0m\u001b[0;34m)\u001b[0m\u001b[0;34m\u001b[0m\u001b[0;34m\u001b[0m\u001b[0m\n\u001b[0m",
      "\u001b[0;31mNameError\u001b[0m: name 'df' is not defined"
     ]
    }
   ],
   "source": [
    "df.groupby('label').count()"
   ]
  },
  {
   "cell_type": "code",
   "execution_count": 11,
   "metadata": {
    "ExecuteTime": {
     "end_time": "2019-11-11T22:33:26.757808Z",
     "start_time": "2019-11-11T22:33:26.734711Z"
    }
   },
   "outputs": [
    {
     "data": {
      "text/plain": [
       "\"The following content is\\nprovided under a Creative Commons license. Your support will help\\nMIT OpenCourseWare continue to offer high quality\\neducational resources for free. To make a donation, or to\\nview additional materials from hundreds of MIT courses,\\nvisit MIT OpenCourseWare at ocw.mit.edu. PROFESSOR: So,\\nProfessor Jerison is relaxing in sunny\\nLondon, Ontario today and sent me in as\\nhis substitute again. I'm glad to the here\\nand see you all again. So our agenda today: he\\nsaid that he'd already talked about power series\\nand Taylor's formula, I guess on last week\\nright, on Friday? So I'm going to go a\\nlittle further with that and show you some examples,\\nshow you some applications, and then I have this\\ncourse evaluation survey that I'll hand out in the last\\n10 minutes or so of the class. I also have this handout\\nthat he made that says 18.01 end of term 2007. If you didn't pick this up\\ncoming in, grab it going out. People tend not to pick it\\nup when they walk in, I see. So grab this when\\nyou're going out. There's some things\\nmissing from it. He has not decided\\nwhen his office hours will be at the end of term. He will have them, just\\nhasn't decided when. So, check the website\\nfor that information. And we're looking forward to\\nthe final exam, which is uh -- aren't we? Any questions about\\nthis technical stuff? All right, let's talk about\\npower series for a little bit. So I thought I should\\nreview for you what the story with power series is. OK, could I have your\\nattention please? So, power series is a way of\\nwriting a function as a sum of integral powers of x. These a_0, a_1, and\\nso on, are numbers. An example of a power\\nseries is a polynomial. Not to be forgotten,\\none type of power series is one which goes on for\\na finite number of terms and then ends, so that all of\\nthe other, all the higher a_i's are all 0. This is a perfectly good\\nexample of a power series; it's a very special\\nkind of power series. And part of what I\\nwant to tell you today is that power series\\nbehave, almost exactly like, polynomials. There's just one\\nthing that you have to be careful about when you're\\nusing power series that isn't a concern for polynomials,\\nand I'll show you what that is in a minute. So, you should think of them\\nas generalized polynomials. The one thing that you\\nhave to be careful about is that there is a\\nnumber-- So one caution. There's a number which I'll\\ncall R, where R can be between 0 and it can also be infinity. It's a number between 0\\nand infinity, inclusive, so that when the absolute\\nvalue of x is less than R. So when x is smaller than R\\nin size, the sum converges. This sum-- that sum\\nconverges to a finite value. And when x is bigger\\nthan R in absolute value, the sum diverges. This R is called the\\nradius of convergence. So we'll see some examples of\\nwhat the radius of convergence is in various powers series as\\nwell, and how you find it also. But, let me go on and\\ngive you a few more of the properties\\nabout power series which I think that professor\\nJerison talked about earlier. So one of them is there's\\na radius of convergence. Here's another one. If you're inside of\\nthe radius convergence, then the function has\\nall its derivatives, has all its derivatives,\\njust like a polynomial does. You can differentiate\\nit over and over again. And in terms of\\nthose derivatives, the number a_n in\\nthe power series can be expressed in terms of the\\nvalue of the derivative at 0. And this is called\\nTaylor's formula. So I'm saying that inside of\\nthis radius of convergence, the function that we're\\nlooking at, this f(x), can be written as the value of\\nthe function at 0, that's a_0, plus the value of\\nthe derivative. This bracket n means you\\ntake the derivative n times. So when n is 1, you take\\nthe derivative once at 0, divided by 1!, which is\\n!, and multiply it by x. That's the linear term\\nin the power series. And then the quadratic term is\\nyou take the second derivative. Remember to divide\\nby 2!, which is 2. Multiply that by\\nx^2 and so on out. So, in terms-- So\\nthe coefficients in the power series just record\\nthe values of the derivatives of the function at x = 0. They can be computed\\nthat way also. Let's see. I think that's the end\\nof my summary of things that he talked about. I think he did one\\nexample, and I'll repeat that example of a power series. This example wasn't\\ndue to David Jerison; it was due to Leonard Euler. It's the example of where the\\nfunction is the exponential function e^x. So, let's see. Let's compute what-- I will just\\nrepeat for you the computation of the power series for\\ne^x, just because it's such an important thing to do. So, in order to do that, I have\\nto know what the derivative of e^x is, and what the\\nsecond derivative of e^x is, and so on, because that\\ncomes into the Taylor formula for the coefficients. But we know what the derivative\\nof e^x is, it's just e^x again, and it's that way\\nall the way down. All the derivatives are\\ne^x over and over again. So when I evaluate this at x =\\n0, well, the value of e^x is 1, the value of e^x is 1 at x = 0. You get a value of\\n1 all the way down. So all these derivatives\\nat 0 have the value 1. And now, when I plug\\ninto this formula, I find e^x is 1 plus 1*x\\nplus 1/2! x^2 plus 1/3! x^3, plus and so on. So all of these\\nnumbers are 1, and all you wind up with is the\\nfactorials in the denominators. That's the power series for e^x. This was a discovery of Leonhard\\nEuler in 1740 or something. Yes, Ma'am. AUDIENCE: When you're\\nwriting out the power series, how far do you have\\nto write it out? PROFESSOR: How far do you\\nhave to write the power series before it becomes well defined? Before it's a satisfactory\\nsolution to an exam problem, I suppose, is another way\\nto phrase the question. Until you can see\\nwhat the pattern is. I can see what the pattern is. Is there anyone who's\\nin doubt about what the next term might be? Some people would\\ntell you that you have to write the\\nsummation convention thing. Don't believe them. If you right out enough\\nterms to make it clear, that's good enough. OK? Is that an answer for you? AUDIENCE: Yes, Thank you. PROFESSOR: OK, so\\nthat's a basic example. Let's do another basic\\nexample of a power series. Oh yes, and by the way, whenever\\nyou write out a power series, you should say what the\\nradius of convergence is. And for now, I will\\njust to tell you that the radius of convergence\\nof this power series is infinity; that\\nis, this sum always converges for any value of x. I'll say a little more\\nabout that in a few minutes. Yeah? AUDIENCE: So which functions\\ncan be written as power series? PROFESSOR: Which functions can\\nbe written as power series? That's an excellent question. Any function that has\\na reasonable expression can be written as\\na power series. I'm not giving you a very good\\nanswer because the true answer is a little bit complicated. But any of the\\nfunctions that occur in calculus like sines,\\ncosines, tangents, they all have power series expansions, OK? We'll see more examples. Let's do another example. Here's another example. I guess this was example one. So, this example, I think,\\nwas due to Newton, not Euler. Let's find the power series\\nexpansion of this function: 1/(1+x). Well, I think that\\nsomewhere along the line, you learned about the geometric\\nseries which tells you that-- which tells you\\nwhat the answer to this is, and I'll just write it out. The geometric series tells\\nyou that this function can be written as an\\nalternating sum of powers of x. You may wonder where\\nthese minuses came from. Well, if you really think\\nabout the geometric series, as you probably remembered,\\nthere was a minus sign here, and that gets replaced\\nby these minus signs. I think maybe Jerison\\ntalked about this also. Anyway, here's\\nanother basic example. Remember what the\\ngraph of this function looks like when x = -1. Then there's a\\nlittle problem here because the\\ndenominator becomes 0, so the graph has a pole there. It goes up to\\ninfinity at x = -1, and that's an indication that\\nthe radius of convergence is not infinity. Because if you try to converge\\nto this infinite number by putting in x = -1, here,\\nyou'll have a big problem. In fact, you see when\\nyou put in x = -1, you keep getting\\n1 in every term, and it gets bigger and\\nbigger and does not converge. In this example, the\\nradius of convergence is 1. OK, so, let's do\\na new example now. Oh, and by the way,\\nI should say you can calculate these numbers\\nusing Taylor's formula. If you haven't seen\\nit, check it out. Calculate the iterated\\nderivatives of this function and plug in x = 0 and see\\nthat you get +1, -1, +1, -1, and so on. Yes sir. AUDIENCE: For the\\nradius of convergence I see that if you do\\n-1 it'll blow out. If you put in 1 though, it\\nseems like it would be fine. PROFESSOR: The\\nquestions is I can see that there's a\\nproblem at x = -1, why is there also\\na problem at x = 1 where the graph is\\nperfectly smooth and innocuous and finite. That's another\\nexcellent question. The problem is that if you\\ngo off to a radius of 1 in any direction and there's\\na problem, that's it. That's what the radius\\nof convergence is. Here, what does happen\\nif I put an x = +1? So, let's look at\\nthe partial sums. Do x = +1 in your mind here. So I'll get a partial sum 1,\\nthen 0, and then 1, and then 0, and then 1. So even though it doesn't\\ngo up to infinity, it still does not converge. AUDIENCE: And\\nanything in between? PROFESSOR: Any of\\nthese other things will also fail to\\nconverge in this example. Well, that's the only two\\nreal numbers at the edge. Right? OK, let's do a\\ndifferent example now. How about a trig function? The sine of x. I'm going to compute the power\\nseries expansion for sin(x). and I'm going to do it\\nusing Taylor's formula. So Taylor's formula\\nsays that I have to start computing\\nderivatives of sin(x). Sounds like it's going\\nto be a lot of work. Let's see, the derivative\\nof the sine is the cosine. And the derivative\\nof the cosine, that's the second derivative\\nof the sine, is what? Remember the minus,\\nit's -sin(x). OK, now I want to take the third\\nderivative of the sine, which is the derivative\\nof sine prime prime, so it's the derivative of this. And we just decided\\nthe derivative of sine is cosine, so I\\nget cosine, but I have this minus sign in front. And now I want to\\ndifferentiate again, so the cosine\\nbecomes a minus sine, and that sign cancels with this\\nminus sign to give me sin(x). You follow that? It's a lot of -1's\\ncanceling out there. So, all of a sudden, I'm\\nright back where I started; these two are the same and the\\npattern will now repeat forever and ever. Higher and higher\\nderivatives of sines are just plus or minus\\nsines and cosines. Now Taylor's formula says I\\nshould now substitute x = 0 into this and see what\\nhappens, so let's do that. When x is equals to 0, the\\nsine is 0 and the cosine is 1. The sine is 0, so\\nminus 0 is also 0. The cosine is 1, but\\nnow there's a minus one, and now I'm back\\nwhere I started, and so the pattern will repeat. OK, so the values\\nof the derivatives are all zeros and\\nplus and minus ones and they go through that\\npattern, four-fold periodicity, over and over again. And so we can write\\nout what sin(x) is using Taylor's formula,\\nusing this formula. So I put in the value\\nat 0 which is 0, then I put in the derivative\\nwhich is 1, multiplied by x. Then, I have the second\\nderivative divided by 2!, but the second\\nderivative at 0 is 0. So I'm going to\\ndrop that term out. Now I have the third\\nderivative which is -1. And remember the 3! in the denominator. That's the coefficient of x^3. What's the fourth derivative? Well, here we are, it's\\non the board, it's 0. So I drop that term out\\ngo up to the fifth term, the fifth power of x. Its derivative is now 1. We've gone through the pattern,\\nwe're back at +1 as the value of the iterated derivative,\\nso now I get 1/5! x^5. Now, you tell me, have we\\ndone enough terms to see what the pattern is? I guess the next\\nterm will be a -1/7! x^7, and so on. Let me write this out\\nagain just so we have it. x^3 / 3!-- So it's\\nx minus x^3 / 3! plus x^5 / 5!. You guessed it, and so on. That's the power\\nseries expansion for the sine of x, OK? And so, the sign alternate,\\nand these denominators get very big, don't they? Exponentials grow very fast. Let me make a remark. R is infinity here. The radius of convergence\\nof this power series again is infinity, and\\nlet me just say why. The reason is that the general\\nterm is going to be like x^(2n+1) / (2n+1)!. An odd number I can\\nwrite as 2n + 1. And what I want to\\nsay is that the size of this, what happens\\nto the size of this as n goes to infinity? So let's just think about this. For a fixed x, let's\\nfix the number x. Look at powers of x and\\nthink about the size of this expression when\\nn gets to be large. So let's just do\\nthat for a second. So, x^(2n+1) / (2n+1)!, I\\ncan write out like this. It's x / 1 times x / 2\\n-- sorry -- times x / 3, times x / (2n+1). I've multiplied x by itself\\n2n+1 times in the numerator, and I've multiplied\\nthe numbers 1, 2, 3, 4, and so on, by each other\\nin the denominator, and that gives me the factorial. So I've just written\\nthis out like this. Now x is fixed, so maybe\\nit's a million, OK? It's big, but fixed. What happens to these numbers? Well at first,\\nthey're pretty big. This is 1,000,000 / 2,\\nthis is 1,000,000 / 3. But when n gets to be--\\nMaybe if n is 1,000,000, then this is about 1/2. If n is a billion, then this\\nis about 1/2,000, right? The denominators keep\\ngetting bigger and bigger, but the numerators stay\\nthe same; they're always x. So when I take the product,\\nif I go far enough out, I'm going to be multiplying,\\nby very, very small numbers and more and more of them. And so no matter what\\nx is, these numbers will converge to 0. They'll get smaller and\\nsmaller as x gets to be bigger. That's the sign that x is inside\\nof the radius of convergence. This is the sign for\\nyou that this series converges for that value of x. And because I could do\\nthis for any x, this works. This convergence to\\n0 for any fixed x. That's what tells\\nyou that you can take-- that the radius of\\nconvergence is infinity. Because in the\\nformula, in the fact, in this property that\\nthe radius of convergence talks about, if R is\\nequal to infinity, this is no condition on x. Every number is less than\\ninfinity in absolute value. So if this convergence\\nto 0 of the general term works for every x, then radius\\nof convergence is infinity. Well that was kind\\nof fast, but I think that you've heard\\nsomething about that earlier as well. Anyway, so we've got the\\nsine function, a new function with its own power series. It's a way of computing sin(x). If you take enough\\nterms you'll get a good evaluation of sin(x). for any x. This tells you a lot\\nabout the function sin(x) but not everything at all. For example, from\\nthis formula, it's very hard to see that the\\nsine of x is periodic. It's not obvious at all. Somewhere hidden away\\nin this expression is the number pi, the\\nhalf of the period. But that's not clear from\\nthe power series at all. So the power series are\\nvery good for some things, but they hide other\\nproperties of functions. Well, so I want to spend\\na few minutes telling you about what you can do\\nwith a power series, once you have one, to get new\\npower series, so new power series from old. And this is also called\\noperations on power series. So what are the things that\\nwe can do to a power series? Well one of the things\\nyou can do is multiply. So, for example, what if\\nI want to compute a power series for x sin(x)? Well I have a power series\\nfor sin(x), I just did it. How about a power series for x? Actually, I did that here too. The function x is a\\nvery simple polynomial. It's a polynomial where\\nthat's 0, a_1 is 1, and all the other\\ncoefficients are 0. So x itself is a power\\nseries, a very simple one. sin(x) is a powers series. And what I want to\\nencourage you to do is treat power series\\njust like polynomials and multiply them together. We'll see other operations too. So, to compute the power series\\nfor x sin(x), of I just take this one and multiply it by x. So let's see if I\\ncan do that right. It distributes through:\\nx^2 minus x^4 / 3! plus x^6 / 5!, and so on. And again, the\\nradius of convergence is going to be the smaller of\\nthe two radii of convergence here. So it's R equals\\ninfinity in this case. OK, you can multiply\\npower series together. It can be a pain if the\\npower series are very long, but if one of them is\\nx, it's pretty simple. OK, that's one thing I can do. Notice something by the way. You know that even\\nand odd functions? So, sine is an odd function,\\nx is an odd function, the product of two odd\\nfunctions is an even function. And that's reflected in the fact\\nthat all the powers that occur in the power series are even. For an odd function, like the\\nsine, all the powers that occur are odd powers of x. That's always true. OK, we can multiply. I can also differentiate. So let's just do a\\ncase of that, and use the process of\\ndifferentiation to find out what the power\\nseries for cos(x) is by writing the cos(x) as\\nthe derivative of the sine and differentiating\\nterm by term. So, I'll take this\\nexpression for the power series of the sine and\\ndifferentiate it term by term, and I'll get the power\\nseries for cosine. So, let's see. The derivative of x is one. Now, the derivative of x^3 is\\n3x^2, and then there's a 3! in the denominator. And the derivative of x^5\\n5x^4, and there's a 5! in the denominator,\\nand so on and so on. And now some\\ncancellation happens. So this is 1 minus, well, the\\n3 cancels with the last factor in this 3 factorial\\nand leaves you with 2!. And the 5 cancels with the\\nlast factor in the 5 factorial and leaves you with a 4! in the denominator. And so there you go, there's\\nthe power series expansion for the cosine. It's got all even powers of x. They alternate, and you have\\nfactorials in the denominator. And of course, you could\\nderive that expression by using Taylor's formula, by\\nthe same kind of calculation you did here, taking higher\\nand higher derivatives of the cosine. You get the same\\nperiodic pattern of derivatives and values\\nof derivatives at x = 0. But here's a cleaner way to\\ndo it, simpler way to do it, because we already knew\\nthe derivative of the sine. When you differentiate, you keep\\nthe same radius of convergence. OK, so we can\\nmultiply, I can add too and multiply by a\\nconstant, things like that. How about integrating? That's what half of this\\ncourse was about isn't it? So, let's integrate something. So, the integration I'm\\ngoing to do is this one: the integral from 0\\nto x of dt / (1+x). What is that integral\\nas a function? So, when I find the\\nanti-derivative of this, I get ln(1+t), and then when\\nI evaluate that at t = x, I get ln(1+x). And when I evaluate the natural\\nlog at 0, I get the ln 1, which is 0, so this\\nis what you get, OK? This is really valid, by the\\nway, for x bigger than -1. But you don't want to think\\nabout this quite like this when x is smaller than that. Now, I'm going to try to apply\\npower series methods here and find-- use this integral\\nto find a power series for the natural log, and I'll\\ndo it by plugging into this expression what the power\\nseries for 1/(1+t) was. And I know what that is because\\nI wrote it down on the board up here. Change the variable\\nfrom x to t there, and so 1/(1+t) is 1 minus t\\nplus t^2 minus t^3, and so on. So that's the thing in the\\ninside of the integral, and now it's legal to\\nintegrate that term by term, so let's do that. I'm going to get something\\nwhich I will then evaluate at x and at 0. So, when I integrate 1 I get\\nx, and when I integrate t, I get t. I'm sorry. When I integrate t, I get t^2\\n/ 2, and t^2 gives me t^3 / 3, and so on and so on. And then, when I\\nput in t = x, well, I just replace all the t's by\\nx's, and when I put in t = 0, I get 0. So this equals x. So, I've discovered that ln(1+x)\\nis x minus x^2 / 2 plus x^3 / 3 minus x^4 / 4, and\\nso on and so on. There's the power series\\nexpansion for ln(1+x). And because I began\\nwith a power series whose radius of\\nconvergence was just 1, I began with this power\\nseries, the radius of convergence of this\\nis also going to be 1. Also, because this function,\\nas I just pointed out, this function goes bad when\\nx becomes less than -1, so some problem happens,\\nand that's reflected in the radius of convergence. Cool. So, you can integrate. That is the correct power series\\nexpansion for the ln(1+x), and another victory of Euler's\\nwas to use this kind of power series expansion to calculate\\nnatural logarithms in a much more efficient way than\\npeople had done before. OK, one more property, I think. What are we at here, 3? 4. Substitute. Very appropriate for me\\nas a substitute teacher to tell you about substitution. So I'm going to try to find\\nthe power series expansion of e^(-t^2). OK? And the way I'll do that is\\nby taking the power series expansion for e^x,\\nwhich we have up there, and make the substitution x =\\n-t^2 in the expansion for e^x. Did you have a question? AUDIENCE: Well,\\nit's just concerning the radius of convergence. You can't define x so that is\\nalways positive, and if so, it wouldn't have a radius\\nof convergence, right? PROFESSOR: Like I say, again the\\nworry is this ln(1+x) function is perfectly well\\nbehaved for large x. Why does the power series\\nfail to converge for large x? Well suppose that\\nx is bigger than 1, then here you get\\nbigger and bigger powers of x, which will\\ngrow to infinity, and they grow large faster\\nthan the numbers 2, 3, 4, 5, 6. They grow exponentially, and\\nthese just grow linearly. So, again, the general term,\\nwhen x is bigger than one, the general term will\\ngo off to infinity, even though the function\\nthat you're talking about, log of net of 1 plus\\nx is perfectly good. So the power series is not\\ngood outside of the radius of convergence. It's just a fact of life. Yes? AUDIENCE: [INAUDIBLE] PROFESSOR: I'd rather--\\ntalk to me after class. The question is why is\\nit the smaller of the two radii of convergence? The basic answer\\nis, well, you can't expect it to be bigger than that\\nsmaller one, because the power series only gives\\nyou information inside of that range\\nabout the function, so. AUDIENCE: [INAUDIBLE] PROFESSOR: Well, in this\\ncase, both of the radii of convergence are infinity. x has radius of convergence\\ninfinity for sure, and sin(x) does too. So you get infinity\\nin that case, OK? OK, let's just do\\nthis, and then I'm going to integrate\\nthis and that'll be the end of what I\\nhave time for today. So what's the power\\nseries expansion for this? The power series\\nexpansion of this is going to be a\\nfunction of t, right, because the variable here is t. I get it by taking my expansion\\nfor e^x and putting in what x is in terms of t. Whoops! And so on and so on. I just put in -t^2 in place of\\nx there in the series expansion for e^x. I can work this out\\na little bit better. -t^2 is what it is. This is going to give me a t^4\\nand the minus squared is going to give me a plus,\\nso I get t^4 / 2!. Then I get (-t)^3, so there'll\\nbe a minus sign and a t^6 and the denominator 3!. So the signs are\\ngoing to alternate, the powers are all even,\\nand the denominators are these factorials. Several times as this\\ncourse has gone on, the error function has\\nmade an appearance. The error function was, I guess\\nit gets normalized by putting a 2 over the square\\nroot of pi in front, and it's the integral of\\ne^(-t^2) dt from 0 to x. And this normalization\\nis here because as x gets to be large\\nthe value becomes 1. So this error function is\\nvery important in the theory of probability. And I think you calculated\\nthis fact at some point in the course. So the standard definition of\\nthe error function, you put a 2 over the square\\nroot of pi in front. Let's calculate its\\npower series expansion. So there's a 2 over\\nthe square root of pi that hurts nobody\\nhere in the front. And now I want to\\nintegrate e^(-t^2), and I'm going to use this\\npower series expansion for that to see what you get. So I'm just going to\\nwrite this out I think. I did it out carefully in\\nanother example over there, so I'll do it a\\nlittle quicker now. Integrate this term\\nby term, you're just integrating powers of\\nt so it's pretty simple, so I get-- and then I'm\\nevaluating at x and then at 0. So I get x minus x^3 /\\n3, plus x^5 / (5*2!), 5 from integrating\\nthe t^4, and the 2! from this denominator\\nthat we already had. And then there's a -x^7\\n/ (7*3!), and plus, and so on, and you can imagine\\nhow they go on from there. I guess to get this\\nexactly in the form that we began talking about,\\nI should multiply through. So the coefficient of x is 2\\nover the square root of pi, and the coefficient of x^3 is\\n-2 over 3 times the square root of pi, and so on. But this is a perfectly good\\nway to write this power series expansion as well. And, this is a very good way to\\ncompute the value of the error function. It's a new function\\nin our experience. Your calculator\\nprobably calculates it, and your calculator probably\\ndoes it by this method. OK, so that's my sermon\\non examples of things you can do with power series. So, we're going to do the\\nCEG thing in just a minute. Professor Jerison wanted\\nme to make an ad for 18.02. Just in case you were thinking\\nof not taking it next term, you really should take it. It will put a lot of\\nthings in this course into context, for one thing. It's about vector\\ncalculus and so on. So you'll learn about\\nvectors and things like that. But it comes back and\\nexplains some things in this course that might\\nhave been a little bit strange, like these strange\\nformulas for the product rule and the quotient rule and\\nthe sort of random formulas. Well, one of the things\\nyou learn in 18.02 is that they're all special\\ncases of the chain rule. And just to drive\\nthat point home, he wanted me to show you\\nthis poem of his that really drives the points\\nhome forcefully, I think.\""
      ]
     },
     "execution_count": 11,
     "metadata": {},
     "output_type": "execute_result"
    }
   ],
   "source": [
    "df.iloc[0][0]"
   ]
  },
  {
   "cell_type": "markdown",
   "metadata": {},
   "source": [
    "### investigate and remove stop words"
   ]
  },
  {
   "cell_type": "code",
   "execution_count": null,
   "metadata": {
    "ExecuteTime": {
     "end_time": "2019-11-11T20:22:25.785521Z",
     "start_time": "2019-11-11T20:22:24.737121Z"
    }
   },
   "outputs": [],
   "source": [
    "set(stopwords.words('english'))"
   ]
  },
  {
   "cell_type": "markdown",
   "metadata": {},
   "source": [
    "# PIPELINE"
   ]
  },
  {
   "cell_type": "markdown",
   "metadata": {},
   "source": [
    "FUNCTION 1: Standardize  \n",
    "FUNCTION 2: Vectorize  \n",
    "FUNCTION 3: Reduce Dimensions  \n",
    "FUNCTION 4: Cluster/Visualize"
   ]
  },
  {
   "cell_type": "markdown",
   "metadata": {},
   "source": [
    "## Function 1: Standardize"
   ]
  },
  {
   "cell_type": "markdown",
   "metadata": {},
   "source": [
    "For Iteration 1, in addition to \"\\n\", remove all stop words and punctuation (generic lists)."
   ]
  },
  {
   "cell_type": "code",
   "execution_count": 13,
   "metadata": {
    "ExecuteTime": {
     "end_time": "2019-11-11T22:36:18.726459Z",
     "start_time": "2019-11-11T22:36:18.709189Z"
    }
   },
   "outputs": [
    {
     "data": {
      "text/plain": [
       "'!\"#$%&\\'()*+,-./:;<=>?@[\\\\]^_`{|}~'"
      ]
     },
     "execution_count": 13,
     "metadata": {},
     "output_type": "execute_result"
    }
   ],
   "source": [
    "string.punctuation"
   ]
  },
  {
   "cell_type": "code",
   "execution_count": 14,
   "metadata": {
    "ExecuteTime": {
     "end_time": "2019-11-11T22:36:19.219382Z",
     "start_time": "2019-11-11T22:36:19.207250Z"
    }
   },
   "outputs": [],
   "source": [
    "def standardize(df):\n",
    "    # replace '\\n' with whitespace\n",
    "    repl = lambda x: re.sub('\\n', ' ', x)\n",
    "    \n",
    "    # remove numbers\n",
    "    alphanumeric = lambda x: re.sub('\\w*\\d\\w*', ' ', x)\n",
    "    # remove punctuation, convert to lowercase\n",
    "    punc_lower = lambda x: re.sub('[%s]' % re.escape(string.punctuation), ' ', x.lower())\n",
    "    \n",
    "    df['text'] = df.text.map(repl).map(alphanumeric).map(punc_lower)\n",
    "    \n",
    "    return df"
   ]
  },
  {
   "cell_type": "code",
   "execution_count": 15,
   "metadata": {
    "ExecuteTime": {
     "end_time": "2019-11-11T22:36:25.900441Z",
     "start_time": "2019-11-11T22:36:20.242141Z"
    }
   },
   "outputs": [],
   "source": [
    "df_01_s = standardize(df)"
   ]
  },
  {
   "cell_type": "code",
   "execution_count": 16,
   "metadata": {
    "ExecuteTime": {
     "end_time": "2019-11-11T22:36:28.207459Z",
     "start_time": "2019-11-11T22:36:28.198767Z"
    }
   },
   "outputs": [
    {
     "data": {
      "text/plain": [
       "'the following content is provided under a creative commons license  your support will help mit opencourseware continue to offer high quality educational resources for free  to make a donation  or to view additional materials from hundreds of mit courses  visit mit opencourseware at ocw mit edu  professor  so  professor jerison is relaxing in sunny london  ontario today and sent me in as his substitute again  i m glad to the here and see you all again  so our agenda today  he said that he d already talked about power series and taylor s formula  i guess on last week right  on friday  so i m going to go a little further with that and show you some examples  show you some applications  and then i have this course evaluation survey that i ll hand out in the last   minutes or so of the class  i also have this handout that he made that says     end of term    if you didn t pick this up coming in  grab it going out  people tend not to pick it up when they walk in  i see  so grab this when you re going out  there s some things missing from it  he has not decided when his office hours will be at the end of term  he will have them  just hasn t decided when  so  check the website for that information  and we re looking forward to the final exam  which is uh    aren t we  any questions about this technical stuff  all right  let s talk about power series for a little bit  so i thought i should review for you what the story with power series is  ok  could i have your attention please  so  power series is a way of writing a function as a sum of integral powers of x  these       and so on  are numbers  an example of a power series is a polynomial  not to be forgotten  one type of power series is one which goes on for a finite number of terms and then ends  so that all of the other  all the higher a i s are all    this is a perfectly good example of a power series  it s a very special kind of power series  and part of what i want to tell you today is that power series behave  almost exactly like  polynomials  there s just one thing that you have to be careful about when you re using power series that isn t a concern for polynomials  and i ll show you what that is in a minute  so  you should think of them as generalized polynomials  the one thing that you have to be careful about is that there is a number   so one caution  there s a number which i ll call r  where r can be between   and it can also be infinity  it s a number between   and infinity  inclusive  so that when the absolute value of x is less than r  so when x is smaller than r in size  the sum converges  this sum   that sum converges to a finite value  and when x is bigger than r in absolute value  the sum diverges  this r is called the radius of convergence  so we ll see some examples of what the radius of convergence is in various powers series as well  and how you find it also  but  let me go on and give you a few more of the properties about power series which i think that professor jerison talked about earlier  so one of them is there s a radius of convergence  here s another one  if you re inside of the radius convergence  then the function has all its derivatives  has all its derivatives  just like a polynomial does  you can differentiate it over and over again  and in terms of those derivatives  the number a n in the power series can be expressed in terms of the value of the derivative at    and this is called taylor s formula  so i m saying that inside of this radius of convergence  the function that we re looking at  this f x   can be written as the value of the function at    that s    plus the value of the derivative  this bracket n means you take the derivative n times  so when n is    you take the derivative once at    divided by     which is    and multiply it by x  that s the linear term in the power series  and then the quadratic term is you take the second derivative  remember to divide by     which is    multiply that by x   and so on out  so  in terms   so the coefficients in the power series just record the values of the derivatives of the function at x      they can be computed that way also  let s see  i think that s the end of my summary of things that he talked about  i think he did one example  and i ll repeat that example of a power series  this example wasn t due to david jerison  it was due to leonard euler  it s the example of where the function is the exponential function e x  so  let s see  let s compute what   i will just repeat for you the computation of the power series for e x  just because it s such an important thing to do  so  in order to do that  i have to know what the derivative of e x is  and what the second derivative of e x is  and so on  because that comes into the taylor formula for the coefficients  but we know what the derivative of e x is  it s just e x again  and it s that way all the way down  all the derivatives are e x over and over again  so when i evaluate this at x      well  the value of e x is    the value of e x is   at x      you get a value of   all the way down  so all these derivatives at   have the value    and now  when i plug into this formula  i find e x is   plus   x plus      x   plus      x    plus and so on  so all of these numbers are    and all you wind up with is the factorials in the denominators  that s the power series for e x  this was a discovery of leonhard euler in   or something  yes  ma am  audience  when you re writing out the power series  how far do you have to write it out  professor  how far do you have to write the power series before it becomes well defined  before it s a satisfactory solution to an exam problem  i suppose  is another way to phrase the question  until you can see what the pattern is  i can see what the pattern is  is there anyone who s in doubt about what the next term might be  some people would tell you that you have to write the summation convention thing  don t believe them  if you right out enough terms to make it clear  that s good enough  ok  is that an answer for you  audience  yes  thank you  professor  ok  so that s a basic example  let s do another basic example of a power series  oh yes  and by the way  whenever you write out a power series  you should say what the radius of convergence is  and for now  i will just to tell you that the radius of convergence of this power series is infinity  that is  this sum always converges for any value of x  i ll say a little more about that in a few minutes  yeah  audience  so which functions can be written as power series  professor  which functions can be written as power series  that s an excellent question  any function that has a reasonable expression can be written as a power series  i m not giving you a very good answer because the true answer is a little bit complicated  but any of the functions that occur in calculus like sines  cosines  tangents  they all have power series expansions  ok  we ll see more examples  let s do another example  here s another example  i guess this was example one  so  this example  i think  was due to newton  not euler  let s find the power series expansion of this function       x   well  i think that somewhere along the line  you learned about the geometric series which tells you that   which tells you what the answer to this is  and i ll just write it out  the geometric series tells you that this function can be written as an alternating sum of powers of x  you may wonder where these minuses came from  well  if you really think about the geometric series  as you probably remembered  there was a minus sign here  and that gets replaced by these minus signs  i think maybe jerison talked about this also  anyway  here s another basic example  remember what the graph of this function looks like when x       then there s a little problem here because the denominator becomes    so the graph has a pole there  it goes up to infinity at x       and that s an indication that the radius of convergence is not infinity  because if you try to converge to this infinite number by putting in x       here  you ll have a big problem  in fact  you see when you put in x       you keep getting   in every term  and it gets bigger and bigger and does not converge  in this example  the radius of convergence is    ok  so  let s do a new example now  oh  and by the way  i should say you can calculate these numbers using taylor s formula  if you haven t seen it  check it out  calculate the iterated derivatives of this function and plug in x     and see that you get                 and so on  yes sir  audience  for the radius of convergence i see that if you do    it ll blow out  if you put in   though  it seems like it would be fine  professor  the questions is i can see that there s a problem at x       why is there also a problem at x     where the graph is perfectly smooth and innocuous and finite  that s another excellent question  the problem is that if you go off to a radius of   in any direction and there s a problem  that s it  that s what the radius of convergence is  here  what does happen if i put an x       so  let s look at the partial sums  do x      in your mind here  so i ll get a partial sum    then    and then    and then    and then    so even though it doesn t go up to infinity  it still does not converge  audience  and anything in between  professor  any of these other things will also fail to converge in this example  well  that s the only two real numbers at the edge  right  ok  let s do a different example now  how about a trig function  the sine of x  i m going to compute the power series expansion for sin x   and i m going to do it using taylor s formula  so taylor s formula says that i have to start computing derivatives of sin x   sounds like it s going to be a lot of work  let s see  the derivative of the sine is the cosine  and the derivative of the cosine  that s the second derivative of the sine  is what  remember the minus  it s  sin x   ok  now i want to take the third derivative of the sine  which is the derivative of sine prime prime  so it s the derivative of this  and we just decided the derivative of sine is cosine  so i get cosine  but i have this minus sign in front  and now i want to differentiate again  so the cosine becomes a minus sine  and that sign cancels with this minus sign to give me sin x   you follow that  it s a lot of    s canceling out there  so  all of a sudden  i m right back where i started  these two are the same and the pattern will now repeat forever and ever  higher and higher derivatives of sines are just plus or minus sines and cosines  now taylor s formula says i should now substitute x     into this and see what happens  so let s do that  when x is equals to    the sine is   and the cosine is    the sine is    so minus   is also    the cosine is    but now there s a minus one  and now i m back where i started  and so the pattern will repeat  ok  so the values of the derivatives are all zeros and plus and minus ones and they go through that pattern  four fold periodicity  over and over again  and so we can write out what sin x  is using taylor s formula  using this formula  so i put in the value at   which is    then i put in the derivative which is    multiplied by x  then  i have the second derivative divided by     but the second derivative at   is    so i m going to drop that term out  now i have the third derivative which is     and remember the    in the denominator  that s the coefficient of x    what s the fourth derivative  well  here we are  it s on the board  it s    so i drop that term out go up to the fifth term  the fifth power of x  its derivative is now    we ve gone through the pattern  we re back at    as the value of the iterated derivative  so now i get      x    now  you tell me  have we done enough terms to see what the pattern is  i guess the next term will be a       x    and so on  let me write this out again just so we have it  x          so it s x minus x        plus x         you guessed it  and so on  that s the power series expansion for the sine of x  ok  and so  the sign alternate  and these denominators get very big  don t they  exponentials grow very fast  let me make a remark  r is infinity here  the radius of convergence of this power series again is infinity  and let me just say why  the reason is that the general term is going to be like x                 an odd number i can write as        and what i want to say is that the size of this  what happens to the size of this as n goes to infinity  so let s just think about this  for a fixed x  let s fix the number x  look at powers of x and think about the size of this expression when n gets to be large  so let s just do that for a second  so  x                 i can write out like this  it s x     times x        sorry    times x      times x          i ve multiplied x by itself     times in the numerator  and i ve multiplied the numbers             and so on  by each other in the denominator  and that gives me the factorial  so i ve just written this out like this  now x is fixed  so maybe it s a million  ok  it s big  but fixed  what happens to these numbers  well at first  they re pretty big  this is            this is            but when n gets to be   maybe if n is        then this is about      if n is a billion  then this is about        right  the denominators keep getting bigger and bigger  but the numerators stay the same  they re always x  so when i take the product  if i go far enough out  i m going to be multiplying  by very  very small numbers and more and more of them  and so no matter what x is  these numbers will converge to    they ll get smaller and smaller as x gets to be bigger  that s the sign that x is inside of the radius of convergence  this is the sign for you that this series converges for that value of x  and because i could do this for any x  this works  this convergence to   for any fixed x  that s what tells you that you can take   that the radius of convergence is infinity  because in the formula  in the fact  in this property that the radius of convergence talks about  if r is equal to infinity  this is no condition on x  every number is less than infinity in absolute value  so if this convergence to   of the general term works for every x  then radius of convergence is infinity  well that was kind of fast  but i think that you ve heard something about that earlier as well  anyway  so we ve got the sine function  a new function with its own power series  it s a way of computing sin x   if you take enough terms you ll get a good evaluation of sin x   for any x  this tells you a lot about the function sin x  but not everything at all  for example  from this formula  it s very hard to see that the sine of x is periodic  it s not obvious at all  somewhere hidden away in this expression is the number pi  the half of the period  but that s not clear from the power series at all  so the power series are very good for some things  but they hide other properties of functions  well  so i want to spend a few minutes telling you about what you can do with a power series  once you have one  to get new power series  so new power series from old  and this is also called operations on power series  so what are the things that we can do to a power series  well one of the things you can do is multiply  so  for example  what if i want to compute a power series for x sin x   well i have a power series for sin x   i just did it  how about a power series for x  actually  i did that here too  the function x is a very simple polynomial  it s a polynomial where that s      is    and all the other coefficients are    so x itself is a power series  a very simple one  sin x  is a powers series  and what i want to encourage you to do is treat power series just like polynomials and multiply them together  we ll see other operations too  so  to compute the power series for x sin x   of i just take this one and multiply it by x  so let s see if i can do that right  it distributes through  x   minus x        plus x         and so on  and again  the radius of convergence is going to be the smaller of the two radii of convergence here  so it s r equals infinity in this case  ok  you can multiply power series together  it can be a pain if the power series are very long  but if one of them is x  it s pretty simple  ok  that s one thing i can do  notice something by the way  you know that even and odd functions  so  sine is an odd function  x is an odd function  the product of two odd functions is an even function  and that s reflected in the fact that all the powers that occur in the power series are even  for an odd function  like the sine  all the powers that occur are odd powers of x  that s always true  ok  we can multiply  i can also differentiate  so let s just do a case of that  and use the process of differentiation to find out what the power series for cos x  is by writing the cos x  as the derivative of the sine and differentiating term by term  so  i ll take this expression for the power series of the sine and differentiate it term by term  and i ll get the power series for cosine  so  let s see  the derivative of x is one  now  the derivative of x   is      and then there s a    in the denominator  and the derivative of x        and there s a    in the denominator  and so on and so on  and now some cancellation happens  so this is   minus  well  the   cancels with the last factor in this   factorial and leaves you with     and the   cancels with the last factor in the   factorial and leaves you with a    in the denominator  and so there you go  there s the power series expansion for the cosine  it s got all even powers of x  they alternate  and you have factorials in the denominator  and of course  you could derive that expression by using taylor s formula  by the same kind of calculation you did here  taking higher and higher derivatives of the cosine  you get the same periodic pattern of derivatives and values of derivatives at x      but here s a cleaner way to do it  simpler way to do it  because we already knew the derivative of the sine  when you differentiate  you keep the same radius of convergence  ok  so we can multiply  i can add too and multiply by a constant  things like that  how about integrating  that s what half of this course was about isn t it  so  let s integrate something  so  the integration i m going to do is this one  the integral from   to x of dt      x   what is that integral as a function  so  when i find the anti derivative of this  i get ln   t   and then when i evaluate that at t   x  i get ln   x   and when i evaluate the natural log at    i get the ln    which is    so this is what you get  ok  this is really valid  by the way  for x bigger than     but you don t want to think about this quite like this when x is smaller than that  now  i m going to try to apply power series methods here and find   use this integral to find a power series for the natural log  and i ll do it by plugging into this expression what the power series for      t  was  and i know what that is because i wrote it down on the board up here  change the variable from x to t there  and so      t  is   minus t plus t   minus t    and so on  so that s the thing in the inside of the integral  and now it s legal to integrate that term by term  so let s do that  i m going to get something which i will then evaluate at x and at    so  when i integrate   i get x  and when i integrate t  i get t  i m sorry  when i integrate t  i get t        and t   gives me t        and so on and so on  and then  when i put in t   x  well  i just replace all the t s by x s  and when i put in t      i get    so this equals x  so  i ve discovered that ln   x  is x minus x       plus x       minus x        and so on and so on  there s the power series expansion for ln   x   and because i began with a power series whose radius of convergence was just    i began with this power series  the radius of convergence of this is also going to be    also  because this function  as i just pointed out  this function goes bad when x becomes less than     so some problem happens  and that s reflected in the radius of convergence  cool  so  you can integrate  that is the correct power series expansion for the ln   x   and another victory of euler s was to use this kind of power series expansion to calculate natural logarithms in a much more efficient way than people had done before  ok  one more property  i think  what are we at here        substitute  very appropriate for me as a substitute teacher to tell you about substitution  so i m going to try to find the power series expansion of e   t     ok  and the way i ll do that is by taking the power series expansion for e x  which we have up there  and make the substitution x    t   in the expansion for e x  did you have a question  audience  well  it s just concerning the radius of convergence  you can t define x so that is always positive  and if so  it wouldn t have a radius of convergence  right  professor  like i say  again the worry is this ln   x  function is perfectly well behaved for large x  why does the power series fail to converge for large x  well suppose that x is bigger than    then here you get bigger and bigger powers of x  which will grow to infinity  and they grow large faster than the numbers                they grow exponentially  and these just grow linearly  so  again  the general term  when x is bigger than one  the general term will go off to infinity  even though the function that you re talking about  log of net of   plus x is perfectly good  so the power series is not good outside of the radius of convergence  it s just a fact of life  yes  audience   inaudible  professor  i d rather   talk to me after class  the question is why is it the smaller of the two radii of convergence  the basic answer is  well  you can t expect it to be bigger than that smaller one  because the power series only gives you information inside of that range about the function  so  audience   inaudible  professor  well  in this case  both of the radii of convergence are infinity  x has radius of convergence infinity for sure  and sin x  does too  so you get infinity in that case  ok  ok  let s just do this  and then i m going to integrate this and that ll be the end of what i have time for today  so what s the power series expansion for this  the power series expansion of this is going to be a function of t  right  because the variable here is t  i get it by taking my expansion for e x and putting in what x is in terms of t  whoops  and so on and so on  i just put in  t   in place of x there in the series expansion for e x  i can work this out a little bit better   t   is what it is  this is going to give me a t   and the minus squared is going to give me a plus  so i get t         then i get   t     so there ll be a minus sign and a t   and the denominator     so the signs are going to alternate  the powers are all even  and the denominators are these factorials  several times as this course has gone on  the error function has made an appearance  the error function was  i guess it gets normalized by putting a   over the square root of pi in front  and it s the integral of e   t    dt from   to x  and this normalization is here because as x gets to be large the value becomes    so this error function is very important in the theory of probability  and i think you calculated this fact at some point in the course  so the standard definition of the error function  you put a   over the square root of pi in front  let s calculate its power series expansion  so there s a   over the square root of pi that hurts nobody here in the front  and now i want to integrate e   t     and i m going to use this power series expansion for that to see what you get  so i m just going to write this out i think  i did it out carefully in another example over there  so i ll do it a little quicker now  integrate this term by term  you re just integrating powers of t so it s pretty simple  so i get   and then i m evaluating at x and then at    so i get x minus x        plus x               from integrating the t    and the    from this denominator that we already had  and then there s a  x             and plus  and so on  and you can imagine how they go on from there  i guess to get this exactly in the form that we began talking about  i should multiply through  so the coefficient of x is   over the square root of pi  and the coefficient of x   is    over   times the square root of pi  and so on  but this is a perfectly good way to write this power series expansion as well  and  this is a very good way to compute the value of the error function  it s a new function in our experience  your calculator probably calculates it  and your calculator probably does it by this method  ok  so that s my sermon on examples of things you can do with power series  so  we re going to do the ceg thing in just a minute  professor jerison wanted me to make an ad for      just in case you were thinking of not taking it next term  you really should take it  it will put a lot of things in this course into context  for one thing  it s about vector calculus and so on  so you ll learn about vectors and things like that  but it comes back and explains some things in this course that might have been a little bit strange  like these strange formulas for the product rule and the quotient rule and the sort of random formulas  well  one of the things you learn in     is that they re all special cases of the chain rule  and just to drive that point home  he wanted me to show you this poem of his that really drives the points home forcefully  i think '"
      ]
     },
     "execution_count": 16,
     "metadata": {},
     "output_type": "execute_result"
    }
   ],
   "source": [
    "df_01_s.iloc[0][0]"
   ]
  },
  {
   "cell_type": "markdown",
   "metadata": {},
   "source": [
    "## Function 2: Vectorize"
   ]
  },
  {
   "cell_type": "markdown",
   "metadata": {},
   "source": [
    "For Iteration 1, use Tf-Idf vectorizer.\n",
    "Also remove stop words within vectorizer."
   ]
  },
  {
   "cell_type": "code",
   "execution_count": 21,
   "metadata": {
    "ExecuteTime": {
     "end_time": "2019-11-11T22:41:01.852456Z",
     "start_time": "2019-11-11T22:41:01.825869Z"
    }
   },
   "outputs": [],
   "source": [
    "def vectorize_tfidf(df):\n",
    "    '''\n",
    "    Creates a sparse matrix of counts with Tf-Idf Vectorizer\n",
    "    '''\n",
    "    # define series to go into vectorizer\n",
    "    x = df['text']\n",
    "    # define vectorizer\n",
    "    cv_tfidf = TfidfVectorizer(stop_words='english')\n",
    "    # vectorize; convert to sparse matrix \"sm\"\n",
    "    sm = cv_tfidf.fit_transform(x)\n",
    "    # print the matrix\n",
    "    print(pd.DataFrame(sm.toarray(), columns=cv_tfidf.get_feature_names()))\n",
    "    # return the sparse matrix\n",
    "    return sm"
   ]
  },
  {
   "cell_type": "code",
   "execution_count": 24,
   "metadata": {
    "ExecuteTime": {
     "end_time": "2019-11-11T22:42:53.862112Z",
     "start_time": "2019-11-11T22:42:49.805053Z"
    }
   },
   "outputs": [
    {
     "name": "stdout",
     "output_type": "stream",
     "text": [
      "      aa  aah  aardvark  aaron   ab  aba  abandon  abandoned  abbreviate  \\\n",
      "0    0.0  0.0       0.0    0.0  0.0  0.0      0.0   0.000000         0.0   \n",
      "1    0.0  0.0       0.0    0.0  0.0  0.0      0.0   0.000000         0.0   \n",
      "2    0.0  0.0       0.0    0.0  0.0  0.0      0.0   0.000000         0.0   \n",
      "3    0.0  0.0       0.0    0.0  0.0  0.0      0.0   0.000000         0.0   \n",
      "4    0.0  0.0       0.0    0.0  0.0  0.0      0.0   0.000000         0.0   \n",
      "..   ...  ...       ...    ...  ...  ...      ...        ...         ...   \n",
      "855  0.0  0.0       0.0    0.0  0.0  0.0      0.0   0.000000         0.0   \n",
      "856  0.0  0.0       0.0    0.0  0.0  0.0      0.0   0.000000         0.0   \n",
      "857  0.0  0.0       0.0    0.0  0.0  0.0      0.0   0.000000         0.0   \n",
      "858  0.0  0.0       0.0    0.0  0.0  0.0      0.0   0.000000         0.0   \n",
      "859  0.0  0.0       0.0    0.0  0.0  0.0      0.0   0.025504         0.0   \n",
      "\n",
      "     abbreviated  ...   zr   zs   zt  zuiden   zx  zxy   zy   zz  zzz  zzzzzz  \n",
      "0            0.0  ...  0.0  0.0  0.0     0.0  0.0  0.0  0.0  0.0  0.0     0.0  \n",
      "1            0.0  ...  0.0  0.0  0.0     0.0  0.0  0.0  0.0  0.0  0.0     0.0  \n",
      "2            0.0  ...  0.0  0.0  0.0     0.0  0.0  0.0  0.0  0.0  0.0     0.0  \n",
      "3            0.0  ...  0.0  0.0  0.0     0.0  0.0  0.0  0.0  0.0  0.0     0.0  \n",
      "4            0.0  ...  0.0  0.0  0.0     0.0  0.0  0.0  0.0  0.0  0.0     0.0  \n",
      "..           ...  ...  ...  ...  ...     ...  ...  ...  ...  ...  ...     ...  \n",
      "855          0.0  ...  0.0  0.0  0.0     0.0  0.0  0.0  0.0  0.0  0.0     0.0  \n",
      "856          0.0  ...  0.0  0.0  0.0     0.0  0.0  0.0  0.0  0.0  0.0     0.0  \n",
      "857          0.0  ...  0.0  0.0  0.0     0.0  0.0  0.0  0.0  0.0  0.0     0.0  \n",
      "858          0.0  ...  0.0  0.0  0.0     0.0  0.0  0.0  0.0  0.0  0.0     0.0  \n",
      "859          0.0  ...  0.0  0.0  0.0     0.0  0.0  0.0  0.0  0.0  0.0     0.0  \n",
      "\n",
      "[860 rows x 21909 columns]\n"
     ]
    }
   ],
   "source": [
    "sm_01_v = vectorize_tfidf(df_01_s)"
   ]
  },
  {
   "cell_type": "code",
   "execution_count": 25,
   "metadata": {
    "ExecuteTime": {
     "end_time": "2019-11-11T22:42:57.108841Z",
     "start_time": "2019-11-11T22:42:57.101883Z"
    }
   },
   "outputs": [
    {
     "data": {
      "text/plain": [
       "(860, 21909)"
      ]
     },
     "execution_count": 25,
     "metadata": {},
     "output_type": "execute_result"
    }
   ],
   "source": [
    "sm_01_v.shape"
   ]
  },
  {
   "cell_type": "markdown",
   "metadata": {},
   "source": [
    "## Function 3: Reduce Dimensions"
   ]
  },
  {
   "cell_type": "code",
   "execution_count": 37,
   "metadata": {
    "ExecuteTime": {
     "end_time": "2019-11-11T22:47:34.050547Z",
     "start_time": "2019-11-11T22:47:34.044972Z"
    }
   },
   "outputs": [],
   "source": [
    "def reduce_dim(sm):\n",
    "    # define Truncated SVD\n",
    "    lsa = TruncatedSVD(20)\n",
    "    # do LSA on sparse matrix \"sm\"\n",
    "    rd = lsa.fit_transform(sm)\n",
    "    # print explained variance ratio\n",
    "    print(\"LSA Explained Variance Ratio: \",lsa.explained_variance_ratio_)\n",
    "    # return matrix of reduced dimensions\n",
    "    return rd"
   ]
  },
  {
   "cell_type": "code",
   "execution_count": 38,
   "metadata": {
    "ExecuteTime": {
     "end_time": "2019-11-11T22:47:35.012530Z",
     "start_time": "2019-11-11T22:47:34.630585Z"
    }
   },
   "outputs": [
    {
     "name": "stdout",
     "output_type": "stream",
     "text": [
      "LSA Explained Variance Ratio:  [0.01144721 0.03803046 0.02663736 0.02372008 0.01907087 0.01793495\n",
      " 0.01647002 0.01413434 0.01352123 0.01215464 0.01175551 0.01107554\n",
      " 0.01038059 0.01011165 0.00962199 0.00939259 0.00871361 0.00843379\n",
      " 0.00804542 0.00790111]\n"
     ]
    }
   ],
   "source": [
    "rd_01_v = reduce_dim(sm_01_v)"
   ]
  },
  {
   "cell_type": "code",
   "execution_count": 39,
   "metadata": {
    "ExecuteTime": {
     "end_time": "2019-11-11T22:47:35.812763Z",
     "start_time": "2019-11-11T22:47:35.802978Z"
    }
   },
   "outputs": [
    {
     "data": {
      "text/plain": [
       "array([[ 0.31383981, -0.07075516, -0.0070351 , ..., -0.06274067,\n",
       "        -0.0182043 ,  0.06356786],\n",
       "       [ 0.0863835 , -0.05528352,  0.04099555, ..., -0.01808304,\n",
       "         0.03799406,  0.0064178 ],\n",
       "       [ 0.26250266, -0.10747971, -0.12898366, ..., -0.04046962,\n",
       "         0.06653842,  0.04040354],\n",
       "       ...,\n",
       "       [ 0.43514768,  0.05732553, -0.03100395, ..., -0.02476448,\n",
       "         0.02069879, -0.01700341],\n",
       "       [ 0.22121884, -0.08790136, -0.15002771, ..., -0.03429434,\n",
       "         0.28272234,  0.12349469],\n",
       "       [ 0.49246248, -0.15187721, -0.06727716, ...,  0.01659677,\n",
       "        -0.03202912,  0.1312628 ]])"
      ]
     },
     "execution_count": 39,
     "metadata": {},
     "output_type": "execute_result"
    }
   ],
   "source": [
    "rd_01_v"
   ]
  },
  {
   "cell_type": "markdown",
   "metadata": {},
   "source": [
    "### Look at the topics"
   ]
  },
  {
   "cell_type": "code",
   "execution_count": 29,
   "metadata": {
    "ExecuteTime": {
     "end_time": "2019-11-11T22:44:16.371124Z",
     "start_time": "2019-11-11T22:44:16.362875Z"
    }
   },
   "outputs": [],
   "source": [
    "def display_topics(model, feature_names, num_top_words, topic_names=None):\n",
    "    for ix, topic in enumerate(model.components_):\n",
    "        if not topic_names or not topic_names[ix]:\n",
    "            print(\"\\nTopic \", ix)\n",
    "        else:\n",
    "            print(\"\\nTopic: '\",topic_names[ix],\"'\")\n",
    "        print(\", \".join([feature_names[i]\n",
    "                        for i in topic.argsort()[:-num_top_words - 1:-1]]))"
   ]
  },
  {
   "cell_type": "code",
   "execution_count": 31,
   "metadata": {
    "ExecuteTime": {
     "end_time": "2019-11-11T22:44:34.520738Z",
     "start_time": "2019-11-11T22:44:30.028099Z"
    }
   },
   "outputs": [
    {
     "name": "stdout",
     "output_type": "stream",
     "text": [
      "\n",
      "Topic  0\n",
      "going, just, let, minus, right\n",
      "\n",
      "Topic  1\n",
      "matrix, vector, row, column, minus\n",
      "\n",
      "Topic  2\n",
      "probability, event, conditional, random, probabilities\n",
      "\n",
      "Topic  3\n",
      "laplace, transform, derivative, minus, integral\n",
      "\n",
      "Topic  4\n",
      "gt, vector, just, vectors, plane\n"
     ]
    }
   ],
   "source": [
    "x = df['text']\n",
    "cv_tfidf = TfidfVectorizer(stop_words='english')\n",
    "sm = cv_tfidf.fit_transform(x)\n",
    "lsa = TruncatedSVD(5)\n",
    "rd = lsa.fit_transform(sm)\n",
    "display_topics(lsa, cv_tfidf.get_feature_names(), 5)"
   ]
  },
  {
   "cell_type": "code",
   "execution_count": 33,
   "metadata": {
    "ExecuteTime": {
     "end_time": "2019-11-11T22:45:52.633679Z",
     "start_time": "2019-11-11T22:45:48.232874Z"
    }
   },
   "outputs": [
    {
     "name": "stdout",
     "output_type": "stream",
     "text": [
      "\n",
      "Topic  0\n",
      "going, just, let, minus, right, vector, matrix, times, equal, plus\n",
      "\n",
      "Topic  1\n",
      "matrix, vector, row, column, minus, vectors, times, transpose, determinant, columns\n",
      "\n",
      "Topic  2\n",
      "probability, event, conditional, random, probabilities, events, equal, sample, minus, outcomes\n",
      "\n",
      "Topic  3\n",
      "laplace, transform, derivative, minus, integral, equation, squared, function, differential, plus\n",
      "\n",
      "Topic  4\n",
      "gt, vector, just, vectors, plane, gonna, okay, dot, line, length\n",
      "\n",
      "Topic  5\n",
      "gt, laplace, row, transform, minus, node, matrix, determinant, lambda, okay\n",
      "\n",
      "Topic  6\n",
      "vector, node, laplace, transform, probability, equal, tree, vectors, times, address\n",
      "\n",
      "Topic  7\n",
      "node, address, lambda, equation, linked, variable, okay, subtree, derivative, random\n",
      "\n",
      "Topic  8\n",
      "solution, equation, gt, minus, plus, differential, equal, derivative, audience, times\n",
      "\n",
      "Topic  9\n",
      "audience, gt, professor, vector, minus, lambda, log, squared, beta, random\n",
      "\n",
      "Topic  10\n",
      "gt, ok, integral, probability, event, transpose, delta, plane, space, zero\n",
      "\n",
      "Topic  11\n",
      "theta, determinant, row, going, integral, minus, expectation, ok, mit, variable\n",
      "\n",
      "Topic  12\n",
      "log, transpose, theta, beta, mu, squared, data, space, model, prime\n",
      "\n",
      "Topic  13\n",
      "state, sub, alpha, list, lambda, markov, arrival, renewal, print, time\n",
      "\n",
      "Topic  14\n",
      "determinant, log, lambda, minus, tree, state, eigenvalues, transformation, model, vector\n",
      "\n",
      "Topic  15\n",
      "lambda, eigenvalues, going, eigenvectors, matrix, eigenvalue, eigenvector, list, transpose, print\n",
      "\n",
      "Topic  16\n",
      "theta, partial, psi, transpose, sub, edges, equal, state, edge, graph\n",
      "\n",
      "Topic  17\n",
      "log, zero, plane, space, sub, tree, random, search, time, expected\n",
      "\n",
      "Topic  18\n",
      "transformation, audience, matrix, psi, partial, professor, respect, state, derivative, log\n",
      "\n",
      "Topic  19\n",
      "transformation, log, edges, edge, going, delta, graph, mit, temperature, vertex\n"
     ]
    }
   ],
   "source": [
    "x = df['text']\n",
    "cv_tfidf = TfidfVectorizer(stop_words='english')\n",
    "sm = cv_tfidf.fit_transform(x)\n",
    "lsa = TruncatedSVD(20)\n",
    "rd = lsa.fit_transform(sm)\n",
    "display_topics(lsa, cv_tfidf.get_feature_names(), 10)"
   ]
  },
  {
   "cell_type": "markdown",
   "metadata": {},
   "source": [
    "## Next Steps (for Iteration 02):\n",
    "Create list of irrelevant words to remove from raw data.  \n",
    "- going, just, let, minus, professor, audience, plus, okay, print, mit, respect, gonna, just, \n",
    "\n",
    "Create Compound Terms. (from nltk.tokenize import MWETokenizer # multi-word expression)  \n",
    "- Laplace Transform\n",
    "- Partial Derivative\n",
    "- (variable) squared\n",
    "\n",
    "Stem.  \n",
    "- Probability vs. Probabilities\n",
    "- Matrix vs. Matrices\n",
    "- event vs. events\n",
    "- edge vs. edges\n",
    "- transform vs. transformation"
   ]
  },
  {
   "cell_type": "code",
   "execution_count": 50,
   "metadata": {
    "ExecuteTime": {
     "end_time": "2019-11-11T23:29:51.376809Z",
     "start_time": "2019-11-11T23:29:51.365094Z"
    }
   },
   "outputs": [
    {
     "name": "stdout",
     "output_type": "stream",
     "text": [
      "matrix  :  matrix\n",
      "matrices  :  matric\n",
      "transform  :  transform\n",
      "transformation  :  transform\n",
      "probability  :  probabl\n",
      "probabilities  :  probabl\n"
     ]
    }
   ],
   "source": [
    "# import these modules \n",
    "from nltk.stem import PorterStemmer \n",
    "from nltk.tokenize import word_tokenize \n",
    "\n",
    "ps = PorterStemmer() \n",
    "\n",
    "# choose some words to be stemmed \n",
    "words = [\"matrix\", \"matrices\", \"transform\", \"transformation\", \"probability\", \"probabilities\"] \n",
    "\n",
    "for w in words: \n",
    "\tprint(w, \" : \", ps.stem(w)) \n"
   ]
  },
  {
   "cell_type": "code",
   "execution_count": 52,
   "metadata": {
    "ExecuteTime": {
     "end_time": "2019-11-11T23:29:58.001873Z",
     "start_time": "2019-11-11T23:29:57.991182Z"
    }
   },
   "outputs": [
    {
     "name": "stdout",
     "output_type": "stream",
     "text": [
      "matrix  :  matrix\n",
      "matrices  :  mat\n",
      "transform  :  transform\n",
      "transformation  :  transform\n",
      "probability  :  prob\n",
      "probabilities  :  prob\n"
     ]
    }
   ],
   "source": [
    "from nltk.stem.lancaster import LancasterStemmer\n",
    "stemmer = LancasterStemmer()\n",
    "words = [\"matrix\", \"matrices\", \"transform\", \"transformation\", \"probability\", \"probabilities\"] \n",
    "\n",
    "for w in words: \n",
    "\tprint(w, \" : \", stemmer.stem(w)) "
   ]
  },
  {
   "cell_type": "code",
   "execution_count": 53,
   "metadata": {
    "ExecuteTime": {
     "end_time": "2019-11-11T23:30:36.402800Z",
     "start_time": "2019-11-11T23:30:36.387539Z"
    }
   },
   "outputs": [
    {
     "name": "stdout",
     "output_type": "stream",
     "text": [
      "matrix  :  matrix\n",
      "matrices  :  matric\n",
      "transform  :  transform\n",
      "transformation  :  transform\n",
      "probability  :  probabl\n",
      "probabilities  :  probabl\n"
     ]
    }
   ],
   "source": [
    "from nltk.stem.snowball import SnowballStemmer\n",
    "sb = SnowballStemmer(\"english\")\n",
    "words = [\"matrix\", \"matrices\", \"transform\", \"transformation\", \"probability\", \"probabilities\"] \n",
    "\n",
    "for w in words: \n",
    "\tprint(w, \" : \", sb.stem(w)) "
   ]
  },
  {
   "cell_type": "code",
   "execution_count": 57,
   "metadata": {
    "ExecuteTime": {
     "end_time": "2019-11-11T23:46:14.107707Z",
     "start_time": "2019-11-11T23:46:08.252912Z"
    }
   },
   "outputs": [
    {
     "name": "stdout",
     "output_type": "stream",
     "text": [
      "matrix  :  matrix\n",
      "matrices  :  matrix\n",
      "transform  :  transform\n",
      "transformation  :  transformation\n",
      "probability  :  probability\n",
      "probabilities  :  probability\n"
     ]
    }
   ],
   "source": [
    "from nltk.stem import WordNetLemmatizer \n",
    "\n",
    "# Init the Wordnet Lemmatizer\n",
    "wn = WordNetLemmatizer()\n",
    "\n",
    "words = [\"matrix\", \"matrices\", \"transform\", \"transformation\", \"probability\", \"probabilities\"] \n",
    "\n",
    "for w in words: \n",
    "\tprint(w, \" : \", wn.lemmatize(w)) "
   ]
  },
  {
   "cell_type": "code",
   "execution_count": null,
   "metadata": {},
   "outputs": [],
   "source": [
    "from nltk.stem import WordNetLemmatizer \n",
    "\n",
    "# Init the Wordnet Lemmatizer\n",
    "wn = WordNetLemmatizer()\n",
    "\n",
    "words = [\"matrix\", \"matrices\", \"transform\", \"transformation\", \"probability\", \"probabilities\"] \n",
    "\n",
    "for w in words: \n",
    "\tprint(w, \" : \", wn.lemmatize(w)) "
   ]
  }
 ],
 "metadata": {
  "kernelspec": {
   "display_name": "Python 3",
   "language": "python",
   "name": "python3"
  },
  "language_info": {
   "codemirror_mode": {
    "name": "ipython",
    "version": 3
   },
   "file_extension": ".py",
   "mimetype": "text/x-python",
   "name": "python",
   "nbconvert_exporter": "python",
   "pygments_lexer": "ipython3",
   "version": "3.7.3"
  },
  "toc": {
   "base_numbering": 1,
   "nav_menu": {},
   "number_sections": true,
   "sideBar": true,
   "skip_h1_title": false,
   "title_cell": "Table of Contents",
   "title_sidebar": "Contents",
   "toc_cell": false,
   "toc_position": {},
   "toc_section_display": true,
   "toc_window_display": false
  },
  "varInspector": {
   "cols": {
    "lenName": 16,
    "lenType": 16,
    "lenVar": 40
   },
   "kernels_config": {
    "python": {
     "delete_cmd_postfix": "",
     "delete_cmd_prefix": "del ",
     "library": "var_list.py",
     "varRefreshCmd": "print(var_dic_list())"
    },
    "r": {
     "delete_cmd_postfix": ") ",
     "delete_cmd_prefix": "rm(",
     "library": "var_list.r",
     "varRefreshCmd": "cat(var_dic_list()) "
    }
   },
   "types_to_exclude": [
    "module",
    "function",
    "builtin_function_or_method",
    "instance",
    "_Feature"
   ],
   "window_display": false
  }
 },
 "nbformat": 4,
 "nbformat_minor": 2
}
