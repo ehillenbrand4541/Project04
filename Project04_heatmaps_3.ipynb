{
 "cells": [
  {
   "cell_type": "markdown",
   "metadata": {},
   "source": [
    "# Imports"
   ]
  },
  {
   "cell_type": "code",
   "execution_count": 1,
   "metadata": {
    "ExecuteTime": {
     "end_time": "2019-11-14T21:04:23.069567Z",
     "start_time": "2019-11-14T21:04:02.666570Z"
    }
   },
   "outputs": [],
   "source": [
    "# executes in ~23 seconds\n",
    "import numpy as np\n",
    "import pandas as pd\n",
    "import seaborn as sns\n",
    "import matplotlib.pyplot as plt"
   ]
  },
  {
   "cell_type": "markdown",
   "metadata": {},
   "source": [
    "import bespoke module p04.py"
   ]
  },
  {
   "cell_type": "code",
   "execution_count": 2,
   "metadata": {
    "ExecuteTime": {
     "end_time": "2019-11-14T21:04:44.442552Z",
     "start_time": "2019-11-14T21:04:23.143417Z"
    }
   },
   "outputs": [],
   "source": [
    "# first test: executed in 46 seconds\n",
    "# executes much faster if you first import pd and np\n",
    "# executes in ~11 seconds\n",
    "from p04 import vectorize_tfidf\n",
    "from p04 import reduce_dim_lsa\n",
    "from p04 import reduce_dim_lda\n",
    "from p04 import display_topics"
   ]
  },
  {
   "cell_type": "code",
   "execution_count": 3,
   "metadata": {
    "ExecuteTime": {
     "end_time": "2019-11-14T21:04:46.240564Z",
     "start_time": "2019-11-14T21:04:46.236852Z"
    }
   },
   "outputs": [],
   "source": [
    "import pickle"
   ]
  },
  {
   "cell_type": "code",
   "execution_count": 4,
   "metadata": {
    "ExecuteTime": {
     "end_time": "2019-11-14T21:04:46.709487Z",
     "start_time": "2019-11-14T21:04:46.672068Z"
    }
   },
   "outputs": [],
   "source": [
    "with open('grouped_sorted.pickle', 'rb') as readfile:\n",
    "    subjects = pickle.load(readfile)"
   ]
  },
  {
   "cell_type": "code",
   "execution_count": 5,
   "metadata": {
    "ExecuteTime": {
     "end_time": "2019-11-14T21:04:47.202971Z",
     "start_time": "2019-11-14T21:04:47.127978Z"
    }
   },
   "outputs": [
    {
     "data": {
      "text/html": [
       "<div>\n",
       "<style scoped>\n",
       "    .dataframe tbody tr th:only-of-type {\n",
       "        vertical-align: middle;\n",
       "    }\n",
       "\n",
       "    .dataframe tbody tr th {\n",
       "        vertical-align: top;\n",
       "    }\n",
       "\n",
       "    .dataframe thead th {\n",
       "        text-align: right;\n",
       "    }\n",
       "</style>\n",
       "<table border=\"1\" class=\"dataframe\">\n",
       "  <thead>\n",
       "    <tr style=\"text-align: right;\">\n",
       "      <th></th>\n",
       "      <th>text</th>\n",
       "      <th>le</th>\n",
       "    </tr>\n",
       "    <tr>\n",
       "      <th>label</th>\n",
       "      <th></th>\n",
       "      <th></th>\n",
       "    </tr>\n",
       "  </thead>\n",
       "  <tbody>\n",
       "    <tr>\n",
       "      <td>Linear Algebra</td>\n",
       "      <td>152</td>\n",
       "      <td>152</td>\n",
       "    </tr>\n",
       "    <tr>\n",
       "      <td>Probability</td>\n",
       "      <td>124</td>\n",
       "      <td>124</td>\n",
       "    </tr>\n",
       "    <tr>\n",
       "      <td>CS</td>\n",
       "      <td>104</td>\n",
       "      <td>104</td>\n",
       "    </tr>\n",
       "    <tr>\n",
       "      <td>Diff. Eq.</td>\n",
       "      <td>93</td>\n",
       "      <td>93</td>\n",
       "    </tr>\n",
       "    <tr>\n",
       "      <td>Algorithms</td>\n",
       "      <td>81</td>\n",
       "      <td>81</td>\n",
       "    </tr>\n",
       "    <tr>\n",
       "      <td>Statistics</td>\n",
       "      <td>79</td>\n",
       "      <td>79</td>\n",
       "    </tr>\n",
       "    <tr>\n",
       "      <td>Calculus</td>\n",
       "      <td>70</td>\n",
       "      <td>70</td>\n",
       "    </tr>\n",
       "    <tr>\n",
       "      <td>Data Structures</td>\n",
       "      <td>62</td>\n",
       "      <td>62</td>\n",
       "    </tr>\n",
       "    <tr>\n",
       "      <td>AI</td>\n",
       "      <td>48</td>\n",
       "      <td>48</td>\n",
       "    </tr>\n",
       "    <tr>\n",
       "      <td>Math for Eng.</td>\n",
       "      <td>28</td>\n",
       "      <td>28</td>\n",
       "    </tr>\n",
       "    <tr>\n",
       "      <td>NLP</td>\n",
       "      <td>19</td>\n",
       "      <td>19</td>\n",
       "    </tr>\n",
       "  </tbody>\n",
       "</table>\n",
       "</div>"
      ],
      "text/plain": [
       "                 text   le\n",
       "label                     \n",
       "Linear Algebra    152  152\n",
       "Probability       124  124\n",
       "CS                104  104\n",
       "Diff. Eq.          93   93\n",
       "Algorithms         81   81\n",
       "Statistics         79   79\n",
       "Calculus           70   70\n",
       "Data Structures    62   62\n",
       "AI                 48   48\n",
       "Math for Eng.      28   28\n",
       "NLP                19   19"
      ]
     },
     "execution_count": 5,
     "metadata": {},
     "output_type": "execute_result"
    }
   ],
   "source": [
    "subjects"
   ]
  },
  {
   "cell_type": "code",
   "execution_count": 6,
   "metadata": {
    "ExecuteTime": {
     "end_time": "2019-11-14T21:04:48.754366Z",
     "start_time": "2019-11-14T21:04:48.505754Z"
    }
   },
   "outputs": [],
   "source": [
    "with open('df.pickle', 'rb') as readfile:\n",
    "    df = pickle.load(readfile)"
   ]
  },
  {
   "cell_type": "code",
   "execution_count": 7,
   "metadata": {
    "ExecuteTime": {
     "end_time": "2019-11-14T21:04:49.449385Z",
     "start_time": "2019-11-14T21:04:49.413055Z"
    },
    "scrolled": true
   },
   "outputs": [
    {
     "data": {
      "text/html": [
       "<div>\n",
       "<style scoped>\n",
       "    .dataframe tbody tr th:only-of-type {\n",
       "        vertical-align: middle;\n",
       "    }\n",
       "\n",
       "    .dataframe tbody tr th {\n",
       "        vertical-align: top;\n",
       "    }\n",
       "\n",
       "    .dataframe thead th {\n",
       "        text-align: right;\n",
       "    }\n",
       "</style>\n",
       "<table border=\"1\" class=\"dataframe\">\n",
       "  <thead>\n",
       "    <tr style=\"text-align: right;\">\n",
       "      <th></th>\n",
       "      <th>text</th>\n",
       "      <th>label</th>\n",
       "      <th>le</th>\n",
       "    </tr>\n",
       "  </thead>\n",
       "  <tbody>\n",
       "    <tr>\n",
       "      <td>0</td>\n",
       "      <td>follow content provide creative common license...</td>\n",
       "      <td>Calculus</td>\n",
       "      <td>3</td>\n",
       "    </tr>\n",
       "    <tr>\n",
       "      <td>1</td>\n",
       "      <td>sequence segment review mathematical backgroun...</td>\n",
       "      <td>Probability</td>\n",
       "      <td>9</td>\n",
       "    </tr>\n",
       "    <tr>\n",
       "      <td>2</td>\n",
       "      <td>follow content provide creative common license...</td>\n",
       "      <td>CS</td>\n",
       "      <td>2</td>\n",
       "    </tr>\n",
       "    <tr>\n",
       "      <td>3</td>\n",
       "      <td>follow content provide creative common license...</td>\n",
       "      <td>Algorithms</td>\n",
       "      <td>1</td>\n",
       "    </tr>\n",
       "    <tr>\n",
       "      <td>4</td>\n",
       "      <td>follow content provide creative common license...</td>\n",
       "      <td>Algorithms</td>\n",
       "      <td>1</td>\n",
       "    </tr>\n",
       "    <tr>\n",
       "      <td>...</td>\n",
       "      <td>...</td>\n",
       "      <td>...</td>\n",
       "      <td>...</td>\n",
       "    </tr>\n",
       "    <tr>\n",
       "      <td>855</td>\n",
       "      <td>follow content provide creative common license...</td>\n",
       "      <td>Math for Eng.</td>\n",
       "      <td>7</td>\n",
       "    </tr>\n",
       "    <tr>\n",
       "      <td>856</td>\n",
       "      <td>music   david j malan     end week   see cir...</td>\n",
       "      <td>Diff. Eq.</td>\n",
       "      <td>5</td>\n",
       "    </tr>\n",
       "    <tr>\n",
       "      <td>857</td>\n",
       "      <td>follow content provide   opencourseware creati...</td>\n",
       "      <td>Linear Algebra</td>\n",
       "      <td>6</td>\n",
       "    </tr>\n",
       "    <tr>\n",
       "      <td>858</td>\n",
       "      <td>follow content provide creative common license...</td>\n",
       "      <td>AI</td>\n",
       "      <td>0</td>\n",
       "    </tr>\n",
       "    <tr>\n",
       "      <td>859</td>\n",
       "      <td>follow content provide creative common license...</td>\n",
       "      <td>Diff. Eq.</td>\n",
       "      <td>5</td>\n",
       "    </tr>\n",
       "  </tbody>\n",
       "</table>\n",
       "<p>860 rows × 3 columns</p>\n",
       "</div>"
      ],
      "text/plain": [
       "                                                  text           label  le\n",
       "0    follow content provide creative common license...        Calculus   3\n",
       "1    sequence segment review mathematical backgroun...     Probability   9\n",
       "2    follow content provide creative common license...              CS   2\n",
       "3    follow content provide creative common license...      Algorithms   1\n",
       "4    follow content provide creative common license...      Algorithms   1\n",
       "..                                                 ...             ...  ..\n",
       "855  follow content provide creative common license...   Math for Eng.   7\n",
       "856    music   david j malan     end week   see cir...       Diff. Eq.   5\n",
       "857  follow content provide   opencourseware creati...  Linear Algebra   6\n",
       "858  follow content provide creative common license...              AI   0\n",
       "859  follow content provide creative common license...       Diff. Eq.   5\n",
       "\n",
       "[860 rows x 3 columns]"
      ]
     },
     "execution_count": 7,
     "metadata": {},
     "output_type": "execute_result"
    }
   ],
   "source": [
    "df"
   ]
  },
  {
   "cell_type": "code",
   "execution_count": 8,
   "metadata": {
    "ExecuteTime": {
     "end_time": "2019-11-14T21:04:50.852237Z",
     "start_time": "2019-11-14T21:04:50.738946Z"
    }
   },
   "outputs": [],
   "source": [
    "df_linalg = df[df['label']=='Linear Algebra']\n",
    "df_prob = df[df['label']=='Probability']\n",
    "df_cs = df[df['label']=='CS']\n",
    "df_diffeq = df[df['label']=='Diff. Eq.']\n",
    "df_algo = df[df['label']=='Algorithms']\n",
    "df_stats = df[df['label']=='Statistics']\n",
    "df_calc = df[df['label']=='Calculus']\n",
    "df_datastruc = df[df['label']=='Data Structures']\n",
    "df_ai = df[df['label']=='AI']\n",
    "df_engmath = df[df['label']=='Math for Eng.']\n",
    "df_nlp = df[df['label']=='NLP']"
   ]
  },
  {
   "cell_type": "markdown",
   "metadata": {},
   "source": [
    "# Heatmaps Iteration 03: TRY LDA"
   ]
  },
  {
   "cell_type": "markdown",
   "metadata": {},
   "source": [
    "Import LDA from p04.py"
   ]
  },
  {
   "cell_type": "code",
   "execution_count": 104,
   "metadata": {
    "ExecuteTime": {
     "end_time": "2019-11-14T21:24:51.114742Z",
     "start_time": "2019-11-14T21:24:49.517241Z"
    }
   },
   "outputs": [],
   "source": [
    "df_s = df.copy()\n",
    "sm_v, feature_names = vectorize_tfidf(df_s, min_df=3) #, max_df=0.4)"
   ]
  },
  {
   "cell_type": "code",
   "execution_count": 105,
   "metadata": {
    "ExecuteTime": {
     "end_time": "2019-11-14T21:24:59.010220Z",
     "start_time": "2019-11-14T21:24:51.903743Z"
    }
   },
   "outputs": [],
   "source": [
    "rd_v, model_components = reduce_dim_lda(sm_v, 5)"
   ]
  },
  {
   "cell_type": "code",
   "execution_count": 106,
   "metadata": {
    "ExecuteTime": {
     "end_time": "2019-11-14T21:24:59.786914Z",
     "start_time": "2019-11-14T21:24:59.773390Z"
    },
    "scrolled": true
   },
   "outputs": [
    {
     "name": "stdout",
     "output_type": "stream",
     "text": [
      "\n",
      "Topic  0\n",
      "vector, probability, matrix, equation, row, node, column, solution, integral, derivative\n",
      "\n",
      "Topic  1\n",
      "operand, postfix, infix, precedence, expi, reduced, associativity, abcd, programmatically, prefix\n",
      "\n",
      "Topic  2\n",
      "sq, php, yay, html, currently, scope, browser, javascript, css, map\n",
      "\n",
      "Topic  3\n",
      "mult, console, plicitly, ed, return, tricky, php, ana, bell, nf\n",
      "\n",
      "Topic  4\n",
      "knot, reciprocal, inspire, satisfying, paste, logistic, business, logarithm, voice, white\n"
     ]
    }
   ],
   "source": [
    "display_topics(model_components, feature_names, 10)"
   ]
  },
  {
   "cell_type": "markdown",
   "metadata": {},
   "source": [
    "# Group By Subject; Average of Column for rd_v"
   ]
  },
  {
   "cell_type": "code",
   "execution_count": 107,
   "metadata": {
    "ExecuteTime": {
     "end_time": "2019-11-14T21:25:00.560999Z",
     "start_time": "2019-11-14T21:25:00.538043Z"
    }
   },
   "outputs": [
    {
     "data": {
      "text/html": [
       "<div>\n",
       "<style scoped>\n",
       "    .dataframe tbody tr th:only-of-type {\n",
       "        vertical-align: middle;\n",
       "    }\n",
       "\n",
       "    .dataframe tbody tr th {\n",
       "        vertical-align: top;\n",
       "    }\n",
       "\n",
       "    .dataframe thead th {\n",
       "        text-align: right;\n",
       "    }\n",
       "</style>\n",
       "<table border=\"1\" class=\"dataframe\">\n",
       "  <thead>\n",
       "    <tr style=\"text-align: right;\">\n",
       "      <th></th>\n",
       "      <th>0</th>\n",
       "      <th>1</th>\n",
       "      <th>2</th>\n",
       "      <th>3</th>\n",
       "      <th>4</th>\n",
       "      <th>label</th>\n",
       "    </tr>\n",
       "  </thead>\n",
       "  <tbody>\n",
       "    <tr>\n",
       "      <td>0</td>\n",
       "      <td>0.998513</td>\n",
       "      <td>0.027254</td>\n",
       "      <td>0.027254</td>\n",
       "      <td>0.027254</td>\n",
       "      <td>0.027254</td>\n",
       "      <td>Calculus</td>\n",
       "    </tr>\n",
       "    <tr>\n",
       "      <td>1</td>\n",
       "      <td>0.998043</td>\n",
       "      <td>0.031262</td>\n",
       "      <td>0.031262</td>\n",
       "      <td>0.031262</td>\n",
       "      <td>0.031262</td>\n",
       "      <td>Probability</td>\n",
       "    </tr>\n",
       "    <tr>\n",
       "      <td>2</td>\n",
       "      <td>0.998215</td>\n",
       "      <td>0.029857</td>\n",
       "      <td>0.029857</td>\n",
       "      <td>0.029857</td>\n",
       "      <td>0.029857</td>\n",
       "      <td>CS</td>\n",
       "    </tr>\n",
       "    <tr>\n",
       "      <td>3</td>\n",
       "      <td>0.998940</td>\n",
       "      <td>0.023012</td>\n",
       "      <td>0.023012</td>\n",
       "      <td>0.023012</td>\n",
       "      <td>0.023012</td>\n",
       "      <td>Algorithms</td>\n",
       "    </tr>\n",
       "    <tr>\n",
       "      <td>4</td>\n",
       "      <td>0.999304</td>\n",
       "      <td>0.018655</td>\n",
       "      <td>0.018655</td>\n",
       "      <td>0.018655</td>\n",
       "      <td>0.018655</td>\n",
       "      <td>Algorithms</td>\n",
       "    </tr>\n",
       "  </tbody>\n",
       "</table>\n",
       "</div>"
      ],
      "text/plain": [
       "          0         1         2         3         4        label\n",
       "0  0.998513  0.027254  0.027254  0.027254  0.027254     Calculus\n",
       "1  0.998043  0.031262  0.031262  0.031262  0.031262  Probability\n",
       "2  0.998215  0.029857  0.029857  0.029857  0.029857           CS\n",
       "3  0.998940  0.023012  0.023012  0.023012  0.023012   Algorithms\n",
       "4  0.999304  0.018655  0.018655  0.018655  0.018655   Algorithms"
      ]
     },
     "execution_count": 107,
     "metadata": {},
     "output_type": "execute_result"
    }
   ],
   "source": [
    "labeled_rd = pd.DataFrame(rd_v)\n",
    "labeled_rd['label'] = df['label']\n",
    "labeled_rd.head()"
   ]
  },
  {
   "cell_type": "code",
   "execution_count": 108,
   "metadata": {
    "ExecuteTime": {
     "end_time": "2019-11-14T21:25:01.342627Z",
     "start_time": "2019-11-14T21:25:01.332811Z"
    }
   },
   "outputs": [],
   "source": [
    "topic_mean_by_subject = labeled_rd.groupby('label').mean()"
   ]
  },
  {
   "cell_type": "code",
   "execution_count": 109,
   "metadata": {
    "ExecuteTime": {
     "end_time": "2019-11-14T21:25:02.090696Z",
     "start_time": "2019-11-14T21:25:02.083423Z"
    }
   },
   "outputs": [],
   "source": [
    "# reorder indices by frequency of subject label\n",
    "topic_mean_by_subject_freq = topic_mean_by_subject.loc[list(subjects.index),:]"
   ]
  },
  {
   "cell_type": "code",
   "execution_count": 110,
   "metadata": {
    "ExecuteTime": {
     "end_time": "2019-11-14T21:25:02.954918Z",
     "start_time": "2019-11-14T21:25:02.937024Z"
    }
   },
   "outputs": [
    {
     "data": {
      "text/html": [
       "<div>\n",
       "<style scoped>\n",
       "    .dataframe tbody tr th:only-of-type {\n",
       "        vertical-align: middle;\n",
       "    }\n",
       "\n",
       "    .dataframe tbody tr th {\n",
       "        vertical-align: top;\n",
       "    }\n",
       "\n",
       "    .dataframe thead th {\n",
       "        text-align: right;\n",
       "    }\n",
       "</style>\n",
       "<table border=\"1\" class=\"dataframe\">\n",
       "  <thead>\n",
       "    <tr style=\"text-align: right;\">\n",
       "      <th></th>\n",
       "      <th>0</th>\n",
       "      <th>1</th>\n",
       "      <th>2</th>\n",
       "      <th>3</th>\n",
       "      <th>4</th>\n",
       "    </tr>\n",
       "    <tr>\n",
       "      <th>label</th>\n",
       "      <th></th>\n",
       "      <th></th>\n",
       "      <th></th>\n",
       "      <th></th>\n",
       "      <th></th>\n",
       "    </tr>\n",
       "  </thead>\n",
       "  <tbody>\n",
       "    <tr>\n",
       "      <td>Linear Algebra</td>\n",
       "      <td>0.997763</td>\n",
       "      <td>0.030351</td>\n",
       "      <td>0.028516</td>\n",
       "      <td>0.028516</td>\n",
       "      <td>0.028516</td>\n",
       "    </tr>\n",
       "    <tr>\n",
       "      <td>Probability</td>\n",
       "      <td>0.997641</td>\n",
       "      <td>0.030936</td>\n",
       "      <td>0.029230</td>\n",
       "      <td>0.029230</td>\n",
       "      <td>0.030236</td>\n",
       "    </tr>\n",
       "    <tr>\n",
       "      <td>CS</td>\n",
       "      <td>0.997878</td>\n",
       "      <td>0.030242</td>\n",
       "      <td>0.030243</td>\n",
       "      <td>0.030242</td>\n",
       "      <td>0.030242</td>\n",
       "    </tr>\n",
       "    <tr>\n",
       "      <td>Diff. Eq.</td>\n",
       "      <td>0.998006</td>\n",
       "      <td>0.028924</td>\n",
       "      <td>0.028924</td>\n",
       "      <td>0.028924</td>\n",
       "      <td>0.028924</td>\n",
       "    </tr>\n",
       "    <tr>\n",
       "      <td>Algorithms</td>\n",
       "      <td>0.997981</td>\n",
       "      <td>0.028101</td>\n",
       "      <td>0.028102</td>\n",
       "      <td>0.029636</td>\n",
       "      <td>0.028101</td>\n",
       "    </tr>\n",
       "    <tr>\n",
       "      <td>Statistics</td>\n",
       "      <td>0.998089</td>\n",
       "      <td>0.029041</td>\n",
       "      <td>0.029042</td>\n",
       "      <td>0.029042</td>\n",
       "      <td>0.029042</td>\n",
       "    </tr>\n",
       "    <tr>\n",
       "      <td>Calculus</td>\n",
       "      <td>0.997229</td>\n",
       "      <td>0.033002</td>\n",
       "      <td>0.028839</td>\n",
       "      <td>0.028839</td>\n",
       "      <td>0.028839</td>\n",
       "    </tr>\n",
       "    <tr>\n",
       "      <td>Data Structures</td>\n",
       "      <td>0.997952</td>\n",
       "      <td>0.030386</td>\n",
       "      <td>0.030386</td>\n",
       "      <td>0.030386</td>\n",
       "      <td>0.030386</td>\n",
       "    </tr>\n",
       "    <tr>\n",
       "      <td>AI</td>\n",
       "      <td>0.998373</td>\n",
       "      <td>0.026297</td>\n",
       "      <td>0.026297</td>\n",
       "      <td>0.026297</td>\n",
       "      <td>0.026297</td>\n",
       "    </tr>\n",
       "    <tr>\n",
       "      <td>Math for Eng.</td>\n",
       "      <td>0.998094</td>\n",
       "      <td>0.028728</td>\n",
       "      <td>0.028728</td>\n",
       "      <td>0.028728</td>\n",
       "      <td>0.028728</td>\n",
       "    </tr>\n",
       "    <tr>\n",
       "      <td>NLP</td>\n",
       "      <td>0.995877</td>\n",
       "      <td>0.030727</td>\n",
       "      <td>0.041754</td>\n",
       "      <td>0.030723</td>\n",
       "      <td>0.030723</td>\n",
       "    </tr>\n",
       "  </tbody>\n",
       "</table>\n",
       "</div>"
      ],
      "text/plain": [
       "                        0         1         2         3         4\n",
       "label                                                            \n",
       "Linear Algebra   0.997763  0.030351  0.028516  0.028516  0.028516\n",
       "Probability      0.997641  0.030936  0.029230  0.029230  0.030236\n",
       "CS               0.997878  0.030242  0.030243  0.030242  0.030242\n",
       "Diff. Eq.        0.998006  0.028924  0.028924  0.028924  0.028924\n",
       "Algorithms       0.997981  0.028101  0.028102  0.029636  0.028101\n",
       "Statistics       0.998089  0.029041  0.029042  0.029042  0.029042\n",
       "Calculus         0.997229  0.033002  0.028839  0.028839  0.028839\n",
       "Data Structures  0.997952  0.030386  0.030386  0.030386  0.030386\n",
       "AI               0.998373  0.026297  0.026297  0.026297  0.026297\n",
       "Math for Eng.    0.998094  0.028728  0.028728  0.028728  0.028728\n",
       "NLP              0.995877  0.030727  0.041754  0.030723  0.030723"
      ]
     },
     "execution_count": 110,
     "metadata": {},
     "output_type": "execute_result"
    }
   ],
   "source": [
    "topic_mean_by_subject_freq"
   ]
  },
  {
   "cell_type": "code",
   "execution_count": 111,
   "metadata": {
    "ExecuteTime": {
     "end_time": "2019-11-14T21:25:03.717914Z",
     "start_time": "2019-11-14T21:25:03.711302Z"
    }
   },
   "outputs": [],
   "source": [
    "vmax = pd.DataFrame(topic_mean_by_subject_freq).max().max()"
   ]
  },
  {
   "cell_type": "code",
   "execution_count": 112,
   "metadata": {
    "ExecuteTime": {
     "end_time": "2019-11-14T21:25:04.643505Z",
     "start_time": "2019-11-14T21:25:04.636681Z"
    }
   },
   "outputs": [],
   "source": [
    "vmin = pd.DataFrame(topic_mean_by_subject_freq).min().min()"
   ]
  },
  {
   "cell_type": "code",
   "execution_count": 113,
   "metadata": {
    "ExecuteTime": {
     "end_time": "2019-11-14T21:25:06.245819Z",
     "start_time": "2019-11-14T21:25:05.770359Z"
    }
   },
   "outputs": [
    {
     "data": {
      "image/png": "[encoded data removed]",
      "text/plain": [
       "<Figure size 1440x576 with 2 Axes>"
      ]
     },
     "metadata": {
      "needs_background": "light"
     },
     "output_type": "display_data"
    }
   ],
   "source": [
    "plt.figure(figsize=[20,8])\n",
    "heat_map_02 = sns.heatmap(topic_mean_by_subject_freq, vmin=vmin, vmax=vmax, \n",
    "                              cmap='PuOr', xticklabels=True, yticklabels=True)\n",
    "plt.show()"
   ]
  },
  {
   "cell_type": "code",
   "execution_count": 114,
   "metadata": {
    "ExecuteTime": {
     "end_time": "2019-11-14T21:25:07.668337Z",
     "start_time": "2019-11-14T21:25:07.220142Z"
    }
   },
   "outputs": [
    {
     "data": {
      "image/png": "[encoded data removed]",
      "text/plain": [
       "<Figure size 1440x576 with 2 Axes>"
      ]
     },
     "metadata": {
      "needs_background": "light"
     },
     "output_type": "display_data"
    }
   ],
   "source": [
    "vmax_1 = pd.DataFrame(topic_mean_by_subject_freq.iloc[1:,1:]).max().max()\n",
    "vmin_1 = pd.DataFrame(topic_mean_by_subject_freq.iloc[1:,1:]).min().min()\n",
    "plt.figure(figsize=[20,8])\n",
    "heat_map_02 = sns.heatmap(topic_mean_by_subject_freq.iloc[1:,1:], vmin=vmin_1, vmax=vmax_1, \n",
    "                              cmap='PuOr', xticklabels=True, yticklabels=True)\n",
    "plt.show()"
   ]
  },
  {
   "cell_type": "code",
   "execution_count": 20,
   "metadata": {
    "ExecuteTime": {
     "end_time": "2019-11-14T20:39:52.525184Z",
     "start_time": "2019-11-14T20:39:51.978886Z"
    },
    "collapsed": true
   },
   "outputs": [
    {
     "data": {
      "image/png": "[encoded data removed]",
      "text/plain": [
       "<Figure size 1440x576 with 2 Axes>"
      ]
     },
     "metadata": {
      "needs_background": "light"
     },
     "output_type": "display_data"
    }
   ],
   "source": [
    "vmax_2 = pd.DataFrame(topic_mean_by_subject_freq.iloc[2:,2:]).max().max()\n",
    "vmin_2 = pd.DataFrame(topic_mean_by_subject_freq.iloc[2:,2:]).min().min()\n",
    "plt.figure(figsize=[20,8])\n",
    "heat_map_02 = sns.heatmap(topic_mean_by_subject_freq.iloc[2:,2:], vmin=vmin_2, vmax=vmax_2, \n",
    "                              cmap='PuOr', xticklabels=True, yticklabels=True)\n",
    "plt.show()"
   ]
  },
  {
   "cell_type": "code",
   "execution_count": 21,
   "metadata": {
    "ExecuteTime": {
     "end_time": "2019-11-14T20:39:53.127340Z",
     "start_time": "2019-11-14T20:39:52.528969Z"
    },
    "collapsed": true
   },
   "outputs": [
    {
     "data": {
      "image/png": "[encoded data removed]",
      "text/plain": [
       "<Figure size 1440x576 with 2 Axes>"
      ]
     },
     "metadata": {
      "needs_background": "light"
     },
     "output_type": "display_data"
    }
   ],
   "source": [
    "vmax_3 = pd.DataFrame(topic_mean_by_subject_freq.iloc[3:,3:]).max().max()\n",
    "vmin_3 = pd.DataFrame(topic_mean_by_subject_freq.iloc[3:,3:]).min().min()\n",
    "plt.figure(figsize=[20,8])\n",
    "heat_map_02 = sns.heatmap(topic_mean_by_subject_freq.iloc[3:,3:], vmin=vmin_3, vmax=vmax_3, \n",
    "                              cmap='PuOr', xticklabels=True, yticklabels=True)\n",
    "plt.show()"
   ]
  },
  {
   "cell_type": "code",
   "execution_count": 115,
   "metadata": {
    "ExecuteTime": {
     "end_time": "2019-11-14T21:25:17.856949Z",
     "start_time": "2019-11-14T21:25:17.844814Z"
    }
   },
   "outputs": [
    {
     "name": "stdout",
     "output_type": "stream",
     "text": [
      "\n",
      "Topic  0\n",
      "vector, probability, matrix, equation, row, node, column, solution, integral, derivative\n",
      "\n",
      "Topic  1\n",
      "operand, postfix, infix, precedence, expi, reduced, associativity, abcd, programmatically, prefix\n",
      "\n",
      "Topic  2\n",
      "sq, php, yay, html, currently, scope, browser, javascript, css, map\n",
      "\n",
      "Topic  3\n",
      "mult, console, plicitly, ed, return, tricky, php, ana, bell, nf\n",
      "\n",
      "Topic  4\n",
      "knot, reciprocal, inspire, satisfying, paste, logistic, business, logarithm, voice, white\n"
     ]
    }
   ],
   "source": [
    "display_topics(model_components, feature_names, 10)"
   ]
  },
  {
   "cell_type": "code",
   "execution_count": null,
   "metadata": {
    "ExecuteTime": {
     "end_time": "2019-11-14T20:40:13.717455Z",
     "start_time": "2019-11-14T20:38:30.810Z"
    }
   },
   "outputs": [],
   "source": [
    "list(subjects.index)"
   ]
  },
  {
   "cell_type": "code",
   "execution_count": null,
   "metadata": {
    "ExecuteTime": {
     "end_time": "2019-11-14T20:40:13.720356Z",
     "start_time": "2019-11-14T20:38:30.815Z"
    }
   },
   "outputs": [],
   "source": [
    "df[df['label']=='Linear Algebra']"
   ]
  },
  {
   "cell_type": "code",
   "execution_count": null,
   "metadata": {
    "ExecuteTime": {
     "end_time": "2019-11-14T20:40:13.723170Z",
     "start_time": "2019-11-14T20:38:30.820Z"
    }
   },
   "outputs": [],
   "source": [
    "print(list(subjects.index))"
   ]
  },
  {
   "cell_type": "code",
   "execution_count": null,
   "metadata": {
    "ExecuteTime": {
     "end_time": "2019-11-14T20:40:13.725553Z",
     "start_time": "2019-11-14T20:38:30.824Z"
    }
   },
   "outputs": [],
   "source": [
    "linalg_rd = pd.DataFrame(rd_v).iloc[df_linalg.index]\n",
    "prob_rd = pd.DataFrame(rd_v).iloc[df_prob.index]\n",
    "cs_rd = pd.DataFrame(rd_v).iloc[df_cs.index]\n",
    "diffeq_rd = pd.DataFrame(rd_v).iloc[df_diffeq.index]\n",
    "algo_rd = pd.DataFrame(rd_v).iloc[df_algo.index]\n",
    "stats_rd = pd.DataFrame(rd_v).iloc[df_stats.index]\n",
    "calc_rd = pd.DataFrame(rd_v).iloc[df_calc.index]\n",
    "datastruc_rd = pd.DataFrame(rd_v).iloc[df_datastruc.index]\n",
    "ai_rd = pd.DataFrame(rd_v).iloc[df_ai.index]\n",
    "engmath_rd = pd.DataFrame(rd_v).iloc[df_engmath.index]\n",
    "nlp_rd = pd.DataFrame(rd_v).iloc[df_nlp.index]\n"
   ]
  },
  {
   "cell_type": "code",
   "execution_count": null,
   "metadata": {
    "ExecuteTime": {
     "end_time": "2019-11-14T20:40:13.727839Z",
     "start_time": "2019-11-14T20:38:30.828Z"
    }
   },
   "outputs": [],
   "source": [
    "rd_list = [linalg_rd, prob_rd, cs_rd, diffeq_rd, algo_rd, stats_rd, calc_rd, datastruc_rd, ai_rd, engmath_rd, nlp_rd]\n",
    "rd_names = [\"linalg_rd\", \"prob_rd\", \"cs_rd\", \"diffeq_rd\", \"algo_rd\", \"stats_rd\", \"calc_rd\", \"datastruc_rd\", \"ai_rd\", \"engmath_rd\", \"nlp_rd\"]\n",
    "rd_dict = {key:val for (key, val) in zip(rd_names, rd_list)}"
   ]
  },
  {
   "cell_type": "markdown",
   "metadata": {},
   "source": [
    "I have created slices of the original dataframe based on their subject labels.  \n",
    "Now I need to get their indices, and create a heatmap from each list of indices."
   ]
  },
  {
   "cell_type": "markdown",
   "metadata": {},
   "source": [
    "# Heat maps for each subject"
   ]
  },
  {
   "cell_type": "code",
   "execution_count": null,
   "metadata": {
    "ExecuteTime": {
     "end_time": "2019-11-14T20:40:13.730248Z",
     "start_time": "2019-11-14T20:38:30.835Z"
    }
   },
   "outputs": [],
   "source": [
    "plt.figure(figsize=[20,3])\n",
    "heat_map_linalg = sns.heatmap(linalg_rd.sample(19), vmin=-0.4, vmax=0.4, \n",
    "                              cmap='coolwarm', xticklabels=False, yticklabels=False)\n",
    "plt.show();"
   ]
  },
  {
   "cell_type": "code",
   "execution_count": null,
   "metadata": {
    "ExecuteTime": {
     "end_time": "2019-11-14T20:40:13.733169Z",
     "start_time": "2019-11-14T20:38:30.839Z"
    }
   },
   "outputs": [],
   "source": [
    "plt.figure(figsize=[20,3])\n",
    "heat_map_nlp = sns.heatmap(nlp_rd.sample(19), vmin=-0.4, vmax=0.4, cmap='coolwarm', xticklabels=False, yticklabels=False)\n",
    "plt.show()"
   ]
  },
  {
   "cell_type": "code",
   "execution_count": null,
   "metadata": {
    "ExecuteTime": {
     "end_time": "2019-11-14T20:40:13.735878Z",
     "start_time": "2019-11-14T20:38:30.843Z"
    }
   },
   "outputs": [],
   "source": [
    "plt.figure(figsize=[20,3])\n",
    "heat_map_prob = sns.heatmap(prob_rd.sample(19), vmin=-0.4, vmax=0.4, cmap='coolwarm', xticklabels=False, yticklabels=False)\n",
    "plt.show()"
   ]
  },
  {
   "cell_type": "code",
   "execution_count": null,
   "metadata": {
    "ExecuteTime": {
     "end_time": "2019-11-14T20:40:13.738539Z",
     "start_time": "2019-11-14T20:38:30.847Z"
    }
   },
   "outputs": [],
   "source": [
    "plt.figure(figsize=[20,3])\n",
    "heat_map_cs = sns.heatmap(cs_rd.sample(19), vmin=-0.4, vmax=0.4, cmap='coolwarm', xticklabels=False, yticklabels=False)\n",
    "plt.show()"
   ]
  },
  {
   "cell_type": "code",
   "execution_count": null,
   "metadata": {
    "ExecuteTime": {
     "end_time": "2019-11-14T20:40:13.740858Z",
     "start_time": "2019-11-14T20:38:30.850Z"
    }
   },
   "outputs": [],
   "source": [
    "plt.figure(figsize=[20,3])\n",
    "heat_map_diffeq = sns.heatmap(diffeq_rd.sample(19), vmin=-0.4, vmax=0.4, cmap='coolwarm', xticklabels=False, yticklabels=False)\n",
    "plt.show()"
   ]
  },
  {
   "cell_type": "code",
   "execution_count": null,
   "metadata": {
    "ExecuteTime": {
     "end_time": "2019-11-14T20:40:13.744237Z",
     "start_time": "2019-11-14T20:38:30.854Z"
    }
   },
   "outputs": [],
   "source": [
    "plt.figure(figsize=[20,3])\n",
    "heat_map_algo = sns.heatmap(algo_rd.sample(19), vmin=-0.4, vmax=0.4, cmap='coolwarm', xticklabels=False, yticklabels=False)\n",
    "plt.show()"
   ]
  },
  {
   "cell_type": "code",
   "execution_count": null,
   "metadata": {
    "ExecuteTime": {
     "end_time": "2019-11-14T20:40:13.751387Z",
     "start_time": "2019-11-14T20:38:30.858Z"
    }
   },
   "outputs": [],
   "source": [
    "plt.figure(figsize=[20,3])\n",
    "heat_map_stats = sns.heatmap(stats_rd.sample(19), vmin=-0.4, vmax=0.4, cmap='coolwarm', xticklabels=False, yticklabels=False)\n",
    "plt.show()"
   ]
  },
  {
   "cell_type": "code",
   "execution_count": null,
   "metadata": {
    "ExecuteTime": {
     "end_time": "2019-11-14T20:40:13.753425Z",
     "start_time": "2019-11-14T20:38:30.867Z"
    }
   },
   "outputs": [],
   "source": [
    "plt.figure(figsize=[20,3])\n",
    "heat_map_calc = sns.heatmap(calc_rd.sample(19), vmin=-0.4, vmax=0.4, cmap='coolwarm', xticklabels=False, yticklabels=False)\n",
    "plt.show()"
   ]
  },
  {
   "cell_type": "code",
   "execution_count": null,
   "metadata": {
    "ExecuteTime": {
     "end_time": "2019-11-14T20:40:13.770933Z",
     "start_time": "2019-11-14T20:38:30.871Z"
    }
   },
   "outputs": [],
   "source": [
    "plt.figure(figsize=[20,3])\n",
    "heat_map_datastruc = sns.heatmap(datastruc_rd.sample(19), vmin=-0.4, vmax=0.4, cmap='coolwarm', xticklabels=False, yticklabels=False)\n",
    "plt.show()"
   ]
  },
  {
   "cell_type": "code",
   "execution_count": null,
   "metadata": {
    "ExecuteTime": {
     "end_time": "2019-11-14T20:40:13.773672Z",
     "start_time": "2019-11-14T20:38:30.876Z"
    }
   },
   "outputs": [],
   "source": [
    "plt.figure(figsize=[20,3])\n",
    "heat_map_ai = sns.heatmap(ai_rd.sample(19), vmin=-0.4, vmax=0.4, cmap='coolwarm', xticklabels=False, yticklabels=False)\n",
    "plt.show()"
   ]
  },
  {
   "cell_type": "code",
   "execution_count": null,
   "metadata": {
    "ExecuteTime": {
     "end_time": "2019-11-14T20:40:13.776253Z",
     "start_time": "2019-11-14T20:38:30.881Z"
    }
   },
   "outputs": [],
   "source": [
    "plt.figure(figsize=[20,3])\n",
    "heat_map_engmath = sns.heatmap(engmath_rd.sample(19), vmin=-0.4, vmax=0.4, cmap='coolwarm', xticklabels=False, yticklabels=False)\n",
    "plt.show()"
   ]
  },
  {
   "cell_type": "code",
   "execution_count": null,
   "metadata": {
    "ExecuteTime": {
     "end_time": "2019-11-14T20:40:13.778552Z",
     "start_time": "2019-11-14T20:38:30.887Z"
    }
   },
   "outputs": [],
   "source": [
    "plt.figure(figsize=[20,3])\n",
    "heat_map_nlp = sns.heatmap(nlp_rd.sample(19), vmin=-0.4, vmax=0.4, cmap='coolwarm', xticklabels=False, yticklabels=False)\n",
    "plt.show()"
   ]
  },
  {
   "cell_type": "code",
   "execution_count": null,
   "metadata": {
    "ExecuteTime": {
     "end_time": "2019-11-14T20:40:13.780733Z",
     "start_time": "2019-11-14T20:38:30.893Z"
    }
   },
   "outputs": [],
   "source": [
    "nlp_rd.shape"
   ]
  },
  {
   "cell_type": "markdown",
   "metadata": {},
   "source": [
    "# Entropy"
   ]
  },
  {
   "cell_type": "code",
   "execution_count": null,
   "metadata": {
    "ExecuteTime": {
     "end_time": "2019-11-14T20:40:13.783019Z",
     "start_time": "2019-11-14T20:38:30.898Z"
    }
   },
   "outputs": [],
   "source": [
    "# https://docs.scipy.org/doc/scipy/reference/generated/scipy.stats.entropy.html\n",
    "# If qk is not None, then compute the Kullback-Leibler divergence S = sum(pk * log(pk / qk), axis=0).\n",
    "from scipy.stats import entropy\n",
    "entropy(linalg_rd)"
   ]
  },
  {
   "cell_type": "code",
   "execution_count": null,
   "metadata": {
    "ExecuteTime": {
     "end_time": "2019-11-14T20:40:13.785155Z",
     "start_time": "2019-11-14T20:38:30.905Z"
    }
   },
   "outputs": [],
   "source": [
    "entropy(prob_rd)[0]"
   ]
  },
  {
   "cell_type": "code",
   "execution_count": null,
   "metadata": {
    "ExecuteTime": {
     "end_time": "2019-11-14T20:40:13.787129Z",
     "start_time": "2019-11-14T20:38:30.909Z"
    }
   },
   "outputs": [],
   "source": [
    "entropy_list = [entropy(x)[0].round(2) for x in rd_list]\n",
    "# entropy_dict = {key:val for (key, val) in zip(rd_names, entropy(rd_list)[0])}\n",
    "entropy_list"
   ]
  },
  {
   "cell_type": "code",
   "execution_count": null,
   "metadata": {
    "ExecuteTime": {
     "end_time": "2019-11-14T20:40:13.790706Z",
     "start_time": "2019-11-14T20:38:30.913Z"
    }
   },
   "outputs": [],
   "source": [
    "for subj, ent in zip(list(subjects.index), entropy_list):\n",
    "    print(f\"Kullback-Leibler divergence of {subj}:\", ent)"
   ]
  },
  {
   "cell_type": "markdown",
   "metadata": {},
   "source": [
    "Divergence range for 60 topics: 2.89-4.93  \n",
    "Divergence range for 50 topics: 2.91-4.93  \n",
    "Divergence range for 40 topics: 2.91-4.94  \n",
    "Divergence range for 30 topics: 2.91-4.95  \n",
    "Divergence range for 20 topics: 2.91-4.96  \n",
    "Divergence range for 10 topics: 2.90-4.96  \n",
    "Divergence range for 5 topics: 2.90-4.98"
   ]
  }
 ],
 "metadata": {
  "kernelspec": {
   "display_name": "Python 3",
   "language": "python",
   "name": "python3"
  },
  "language_info": {
   "codemirror_mode": {
    "name": "ipython",
    "version": 3
   },
   "file_extension": ".py",
   "mimetype": "text/x-python",
   "name": "python",
   "nbconvert_exporter": "python",
   "pygments_lexer": "ipython3",
   "version": "3.7.3"
  },
  "toc": {
   "base_numbering": 1,
   "nav_menu": {},
   "number_sections": true,
   "sideBar": true,
   "skip_h1_title": false,
   "title_cell": "Table of Contents",
   "title_sidebar": "Contents",
   "toc_cell": false,
   "toc_position": {},
   "toc_section_display": true,
   "toc_window_display": false
  },
  "varInspector": {
   "cols": {
    "lenName": 16,
    "lenType": 16,
    "lenVar": 40
   },
   "kernels_config": {
    "python": {
     "delete_cmd_postfix": "",
     "delete_cmd_prefix": "del ",
     "library": "var_list.py",
     "varRefreshCmd": "print(var_dic_list())"
    },
    "r": {
     "delete_cmd_postfix": ") ",
     "delete_cmd_prefix": "rm(",
     "library": "var_list.r",
     "varRefreshCmd": "cat(var_dic_list()) "
    }
   },
   "types_to_exclude": [
    "module",
    "function",
    "builtin_function_or_method",
    "instance",
    "_Feature"
   ],
   "window_display": false
  }
 },
 "nbformat": 4,
 "nbformat_minor": 2
}
