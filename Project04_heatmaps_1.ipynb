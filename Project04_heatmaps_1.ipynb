{
 "cells": [
  {
   "cell_type": "code",
   "execution_count": 1,
   "metadata": {
    "ExecuteTime": {
     "end_time": "2019-11-14T04:30:58.580561Z",
     "start_time": "2019-11-14T04:30:40.223901Z"
    }
   },
   "outputs": [],
   "source": [
    "# executes in ~23 seconds\n",
    "import numpy as np\n",
    "import pandas as pd\n",
    "import seaborn as sns\n",
    "import matplotlib.pyplot as plt"
   ]
  },
  {
   "cell_type": "markdown",
   "metadata": {},
   "source": [
    "import bespoke module p04.py"
   ]
  },
  {
   "cell_type": "code",
   "execution_count": 2,
   "metadata": {
    "ExecuteTime": {
     "end_time": "2019-11-14T04:31:09.799109Z",
     "start_time": "2019-11-14T04:30:58.583869Z"
    }
   },
   "outputs": [],
   "source": [
    "# first test: executed in 46 seconds\n",
    "# executes much faster if you first import pd and np\n",
    "# executes in ~11 seconds\n",
    "from p04 import vectorize_tfidf\n",
    "from p04 import reduce_dim_lsa\n",
    "from p04 import display_topics"
   ]
  },
  {
   "cell_type": "code",
   "execution_count": 3,
   "metadata": {
    "ExecuteTime": {
     "end_time": "2019-11-14T04:31:09.811837Z",
     "start_time": "2019-11-14T04:31:09.803370Z"
    }
   },
   "outputs": [],
   "source": [
    "import pickle"
   ]
  },
  {
   "cell_type": "code",
   "execution_count": 4,
   "metadata": {
    "ExecuteTime": {
     "end_time": "2019-11-14T04:31:09.841811Z",
     "start_time": "2019-11-14T04:31:09.815827Z"
    }
   },
   "outputs": [],
   "source": [
    "with open('grouped_sorted.pickle', 'rb') as readfile:\n",
    "    subjects = pickle.load(readfile)"
   ]
  },
  {
   "cell_type": "code",
   "execution_count": 5,
   "metadata": {
    "ExecuteTime": {
     "end_time": "2019-11-14T04:31:09.912537Z",
     "start_time": "2019-11-14T04:31:09.845484Z"
    }
   },
   "outputs": [
    {
     "data": {
      "text/html": [
       "<div>\n",
       "<style scoped>\n",
       "    .dataframe tbody tr th:only-of-type {\n",
       "        vertical-align: middle;\n",
       "    }\n",
       "\n",
       "    .dataframe tbody tr th {\n",
       "        vertical-align: top;\n",
       "    }\n",
       "\n",
       "    .dataframe thead th {\n",
       "        text-align: right;\n",
       "    }\n",
       "</style>\n",
       "<table border=\"1\" class=\"dataframe\">\n",
       "  <thead>\n",
       "    <tr style=\"text-align: right;\">\n",
       "      <th></th>\n",
       "      <th>text</th>\n",
       "      <th>le</th>\n",
       "    </tr>\n",
       "    <tr>\n",
       "      <th>label</th>\n",
       "      <th></th>\n",
       "      <th></th>\n",
       "    </tr>\n",
       "  </thead>\n",
       "  <tbody>\n",
       "    <tr>\n",
       "      <td>Linear Algebra</td>\n",
       "      <td>152</td>\n",
       "      <td>152</td>\n",
       "    </tr>\n",
       "    <tr>\n",
       "      <td>Probability</td>\n",
       "      <td>124</td>\n",
       "      <td>124</td>\n",
       "    </tr>\n",
       "    <tr>\n",
       "      <td>CS</td>\n",
       "      <td>104</td>\n",
       "      <td>104</td>\n",
       "    </tr>\n",
       "    <tr>\n",
       "      <td>Diff. Eq.</td>\n",
       "      <td>93</td>\n",
       "      <td>93</td>\n",
       "    </tr>\n",
       "    <tr>\n",
       "      <td>Algorithms</td>\n",
       "      <td>81</td>\n",
       "      <td>81</td>\n",
       "    </tr>\n",
       "    <tr>\n",
       "      <td>Statistics</td>\n",
       "      <td>79</td>\n",
       "      <td>79</td>\n",
       "    </tr>\n",
       "    <tr>\n",
       "      <td>Calculus</td>\n",
       "      <td>70</td>\n",
       "      <td>70</td>\n",
       "    </tr>\n",
       "    <tr>\n",
       "      <td>Data Structures</td>\n",
       "      <td>62</td>\n",
       "      <td>62</td>\n",
       "    </tr>\n",
       "    <tr>\n",
       "      <td>AI</td>\n",
       "      <td>48</td>\n",
       "      <td>48</td>\n",
       "    </tr>\n",
       "    <tr>\n",
       "      <td>Math for Eng.</td>\n",
       "      <td>28</td>\n",
       "      <td>28</td>\n",
       "    </tr>\n",
       "    <tr>\n",
       "      <td>NLP</td>\n",
       "      <td>19</td>\n",
       "      <td>19</td>\n",
       "    </tr>\n",
       "  </tbody>\n",
       "</table>\n",
       "</div>"
      ],
      "text/plain": [
       "                 text   le\n",
       "label                     \n",
       "Linear Algebra    152  152\n",
       "Probability       124  124\n",
       "CS                104  104\n",
       "Diff. Eq.          93   93\n",
       "Algorithms         81   81\n",
       "Statistics         79   79\n",
       "Calculus           70   70\n",
       "Data Structures    62   62\n",
       "AI                 48   48\n",
       "Math for Eng.      28   28\n",
       "NLP                19   19"
      ]
     },
     "execution_count": 5,
     "metadata": {},
     "output_type": "execute_result"
    }
   ],
   "source": [
    "subjects"
   ]
  },
  {
   "cell_type": "code",
   "execution_count": 6,
   "metadata": {
    "ExecuteTime": {
     "end_time": "2019-11-14T04:31:10.185997Z",
     "start_time": "2019-11-14T04:31:09.918301Z"
    }
   },
   "outputs": [],
   "source": [
    "with open('df.pickle', 'rb') as readfile:\n",
    "    df = pickle.load(readfile)"
   ]
  },
  {
   "cell_type": "code",
   "execution_count": 7,
   "metadata": {
    "ExecuteTime": {
     "end_time": "2019-11-14T04:31:10.213960Z",
     "start_time": "2019-11-14T04:31:10.190783Z"
    },
    "scrolled": true
   },
   "outputs": [
    {
     "data": {
      "text/html": [
       "<div>\n",
       "<style scoped>\n",
       "    .dataframe tbody tr th:only-of-type {\n",
       "        vertical-align: middle;\n",
       "    }\n",
       "\n",
       "    .dataframe tbody tr th {\n",
       "        vertical-align: top;\n",
       "    }\n",
       "\n",
       "    .dataframe thead th {\n",
       "        text-align: right;\n",
       "    }\n",
       "</style>\n",
       "<table border=\"1\" class=\"dataframe\">\n",
       "  <thead>\n",
       "    <tr style=\"text-align: right;\">\n",
       "      <th></th>\n",
       "      <th>text</th>\n",
       "      <th>label</th>\n",
       "      <th>le</th>\n",
       "    </tr>\n",
       "  </thead>\n",
       "  <tbody>\n",
       "    <tr>\n",
       "      <td>0</td>\n",
       "      <td>follow content provide creative common license...</td>\n",
       "      <td>Calculus</td>\n",
       "      <td>3</td>\n",
       "    </tr>\n",
       "    <tr>\n",
       "      <td>1</td>\n",
       "      <td>sequence segment review mathematical backgroun...</td>\n",
       "      <td>Probability</td>\n",
       "      <td>9</td>\n",
       "    </tr>\n",
       "    <tr>\n",
       "      <td>2</td>\n",
       "      <td>follow content provide creative common license...</td>\n",
       "      <td>CS</td>\n",
       "      <td>2</td>\n",
       "    </tr>\n",
       "    <tr>\n",
       "      <td>3</td>\n",
       "      <td>follow content provide creative common license...</td>\n",
       "      <td>Algorithms</td>\n",
       "      <td>1</td>\n",
       "    </tr>\n",
       "    <tr>\n",
       "      <td>4</td>\n",
       "      <td>follow content provide creative common license...</td>\n",
       "      <td>Algorithms</td>\n",
       "      <td>1</td>\n",
       "    </tr>\n",
       "    <tr>\n",
       "      <td>...</td>\n",
       "      <td>...</td>\n",
       "      <td>...</td>\n",
       "      <td>...</td>\n",
       "    </tr>\n",
       "    <tr>\n",
       "      <td>855</td>\n",
       "      <td>follow content provide creative common license...</td>\n",
       "      <td>Math for Eng.</td>\n",
       "      <td>7</td>\n",
       "    </tr>\n",
       "    <tr>\n",
       "      <td>856</td>\n",
       "      <td>music   david j malan     end week   see cir...</td>\n",
       "      <td>Diff. Eq.</td>\n",
       "      <td>5</td>\n",
       "    </tr>\n",
       "    <tr>\n",
       "      <td>857</td>\n",
       "      <td>follow content provide   opencourseware creati...</td>\n",
       "      <td>Linear Algebra</td>\n",
       "      <td>6</td>\n",
       "    </tr>\n",
       "    <tr>\n",
       "      <td>858</td>\n",
       "      <td>follow content provide creative common license...</td>\n",
       "      <td>AI</td>\n",
       "      <td>0</td>\n",
       "    </tr>\n",
       "    <tr>\n",
       "      <td>859</td>\n",
       "      <td>follow content provide creative common license...</td>\n",
       "      <td>Diff. Eq.</td>\n",
       "      <td>5</td>\n",
       "    </tr>\n",
       "  </tbody>\n",
       "</table>\n",
       "<p>860 rows × 3 columns</p>\n",
       "</div>"
      ],
      "text/plain": [
       "                                                  text           label  le\n",
       "0    follow content provide creative common license...        Calculus   3\n",
       "1    sequence segment review mathematical backgroun...     Probability   9\n",
       "2    follow content provide creative common license...              CS   2\n",
       "3    follow content provide creative common license...      Algorithms   1\n",
       "4    follow content provide creative common license...      Algorithms   1\n",
       "..                                                 ...             ...  ..\n",
       "855  follow content provide creative common license...   Math for Eng.   7\n",
       "856    music   david j malan     end week   see cir...       Diff. Eq.   5\n",
       "857  follow content provide   opencourseware creati...  Linear Algebra   6\n",
       "858  follow content provide creative common license...              AI   0\n",
       "859  follow content provide creative common license...       Diff. Eq.   5\n",
       "\n",
       "[860 rows x 3 columns]"
      ]
     },
     "execution_count": 7,
     "metadata": {},
     "output_type": "execute_result"
    }
   ],
   "source": [
    "df"
   ]
  },
  {
   "cell_type": "code",
   "execution_count": 8,
   "metadata": {
    "ExecuteTime": {
     "end_time": "2019-11-14T04:31:10.253258Z",
     "start_time": "2019-11-14T04:31:10.217715Z"
    }
   },
   "outputs": [],
   "source": [
    "df_linalg = df[df['label']=='Linear Algebra']\n",
    "df_prob = df[df['label']=='Probability']\n",
    "df_cs = df[df['label']=='CS']\n",
    "df_diffeq = df[df['label']=='Diff. Eq.']\n",
    "df_algo = df[df['label']=='Algorithms']\n",
    "df_stats = df[df['label']=='Statistics']\n",
    "df_calc = df[df['label']=='Calculus']\n",
    "df_datastruc = df[df['label']=='Data Structures']\n",
    "df_ai = df[df['label']=='AI']\n",
    "df_engmath = df[df['label']=='Math for Eng.']\n",
    "df_nlp = df[df['label']=='NLP']"
   ]
  },
  {
   "cell_type": "markdown",
   "metadata": {},
   "source": [
    "# Heatmaps Iteration 01"
   ]
  },
  {
   "cell_type": "markdown",
   "metadata": {},
   "source": [
    "Try fewer topics to see if that creates better separation.  \n",
    "Also play with cmap.  \n",
    "Also set color bar to the same values for all heatmaps."
   ]
  },
  {
   "cell_type": "code",
   "execution_count": 9,
   "metadata": {
    "ExecuteTime": {
     "end_time": "2019-11-14T04:31:12.760361Z",
     "start_time": "2019-11-14T04:31:10.256712Z"
    }
   },
   "outputs": [],
   "source": [
    "df_s = df.copy()\n",
    "sm_v, feature_names = vectorize_tfidf(df_s)"
   ]
  },
  {
   "cell_type": "code",
   "execution_count": 10,
   "metadata": {
    "ExecuteTime": {
     "end_time": "2019-11-14T04:31:13.371823Z",
     "start_time": "2019-11-14T04:31:12.762953Z"
    }
   },
   "outputs": [],
   "source": [
    "rd_v, lsa_components = reduce_dim_lsa(sm_v, 60)"
   ]
  },
  {
   "cell_type": "code",
   "execution_count": 11,
   "metadata": {
    "ExecuteTime": {
     "end_time": "2019-11-14T04:31:13.463456Z",
     "start_time": "2019-11-14T04:31:13.374334Z"
    }
   },
   "outputs": [
    {
     "name": "stdout",
     "output_type": "stream",
     "text": [
      "\n",
      "Topic  0\n",
      "vector, matrix, column, row, probability, equation, solution, transpose, transform, plane\n",
      "\n",
      "Topic  1\n",
      "probability, event, random, conditional, node, distribution, outcome, log, sample, tree\n",
      "\n",
      "Topic  2\n",
      "node, tree, list, log, edge, search, insert, algorithm, subtree, link\n",
      "\n",
      "Topic  3\n",
      "laplace_transform, equation, integral, derivative, solution, differential, pre, delta, sine, theta\n",
      "\n",
      "Topic  4\n",
      "vector, dot, plane, length, transform, scalar, direction, span, member, component\n",
      "\n",
      "Topic  5\n",
      "laplace_transform, node, st, probability, event, infinity, integral, vector, sine, row\n",
      "\n",
      "Topic  6\n",
      "solution, equation, differential, event, probability, derivative, slope, node, initial, pre\n",
      "\n",
      "Topic  7\n",
      "node, lambda, tree, subtree, integral, link, address, child, pdf, variance\n",
      "\n",
      "Topic  8\n",
      "edge, vertex, path, graph, weight, cycle, short, algorithm, delta, tree\n",
      "\n",
      "Topic  9\n",
      "row, integral, determinant, theta, dx, area, curve, field, plane, delta\n",
      "\n",
      "Topic  10\n",
      "eigenvalue, eigenvector, matrix, lambda, event, integral, delta, determinant, field, probability\n",
      "\n",
      "Topic  11\n",
      "log, theta, particle, event, tree, hash, beta, temperature, energy, search\n",
      "\n",
      "Topic  12\n",
      "state, particle, sub, arrival, markov, temperature, chain, energy, renewal, row\n",
      "\n",
      "Topic  13\n",
      "transpose, node, model, theta, neural, datum, beta, error, hypothesis, network\n",
      "\n",
      "Topic  14\n",
      "particle, list, temperature, energy, transpose, null, beta, edge, gas, column\n",
      "\n",
      "Topic  15\n",
      "determinant, theta, mu, particle, beta, submatrix, transform, dot, node, temperature\n",
      "\n",
      "Topic  16\n",
      "theta, sub, state, markov, arrival, chain, renewal, list, cosine, transpose\n",
      "\n",
      "Topic  17\n",
      "transform, theta, composition, matrix, member, apply, rn, mapping, codomain, identity\n",
      "\n",
      "Topic  18\n",
      "psi, transpose, partial, derivative, matrix, transform, hash, differential, sub, expectation\n",
      "\n",
      "Topic  19\n",
      "tree, root, transpose, dot, string, subtree, length, height, opencourseware, delta\n",
      "\n",
      "Topic  20\n",
      "psi, partial, string, tree, lambda, ana, dx, code, program, integral\n",
      "\n",
      "Topic  21\n",
      "plane, transform, solution, field, normal, equation, matrix, surface, laplace_transform, system\n",
      "\n",
      "Topic  22\n",
      "hash, expectation, conditional, cosine, state, model, sine, table, length, language\n",
      "\n",
      "Topic  23\n",
      "delta, hash, partial, plane, psi, pivot, lambda, stability, eigenvalue, method\n",
      "\n",
      "Topic  24\n",
      "hash, alpha, hypothesis, slot, table, error, pre, key, lambda, collision\n",
      "\n",
      "Topic  25\n",
      "outcome, psi, expectation, random, partial, variance, experent, roll, coin, sample\n",
      "\n",
      "Topic  26\n",
      "plane, pdf, psi, cosine, sine, cdf, normal, alpha, omega, sequence\n",
      "\n",
      "Topic  27\n",
      "car, outcome, object, element, class, opencourseware, pdf, ana, hash, color\n",
      "\n",
      "Topic  28\n",
      "alpha, hypothesis, list, error, algorithm, pdf, sine, conditional, cosine, dot\n",
      "\n",
      "Topic  29\n",
      "population, random, differential, psi, side, hypothesis, temperature, theta, log, probability\n",
      "\n",
      "Topic  30\n",
      "delta, tree, determinant, theta, pdf, search, element, path, code, density\n",
      "\n",
      "Topic  31\n",
      "subspace, determinant, column, state, student, pi, expectation, inaudible, list, span\n",
      "\n",
      "Topic  32\n",
      "subspace, determinant, sequence, population, column, toss, delta, log, integral, block\n",
      "\n",
      "Topic  33\n",
      "population, subproblem, card, path, dot, algorithm, toss, length, delta, coin\n",
      "\n",
      "Topic  34\n",
      "population, mu, hash, delta, variance, transpose, element, error, sine, side\n",
      "\n",
      "Topic  35\n",
      "alpha, student, list, expectation, psi, integral, variance, equation, infinity, subspace\n",
      "\n",
      "Topic  36\n",
      "alpha, population, slope, list, pdf, hash, sequence, toss, search, omega\n",
      "\n",
      "Topic  37\n",
      "expectation, pdf, stack, row, union, eigenvalue, variance, element, complement, slope\n",
      "\n",
      "Topic  38\n",
      "transpose, lambda, arrival, stack, queue, solution, event, array, sub, column\n",
      "\n",
      "Topic  39\n",
      "outcome, derivative, pre, roll, string, experent, alpha, theta, stack, integral\n",
      "\n",
      "Topic  40\n",
      "column, probability, node, random, lambda, log, complement, gradient, axiom, derivative\n",
      "\n",
      "Topic  41\n",
      "sequence, psi, length, slope, converge, toss, temperature, arrival, dx, differential\n",
      "\n",
      "Topic  42\n",
      "column, stack, dot, variance, pivot, operand, pre, product, matrix, length\n",
      "\n",
      "Topic  43\n",
      "toss, particle, coin, subspace, head, subset, element, factorial, choose, dot\n",
      "\n",
      "Topic  44\n",
      "stack, operand, mu, slope, operator, population, beta, postfix, expression, subproblem\n",
      "\n",
      "Topic  45\n",
      "stack, derivative, coin, toss, operand, temperature, subspace, queue, operator, matrix\n",
      "\n",
      "Topic  46\n",
      "subspace, event, queue, pre, arrival, path, particle, algorithm, row, outcome\n",
      "\n",
      "Topic  47\n",
      "subspace, dot, matrix, mu, length, null, lambda, solution, root, temperature\n",
      "\n",
      "Topic  48\n",
      "temperature, pdf, equation, sub, method, dx, alpha, side, heat, subspace\n",
      "\n",
      "Topic  49\n",
      "object, method, item, sequence, class, pre, python, init, particle, instance\n",
      "\n",
      "Topic  50\n",
      "card, event, arrival, ace, item, independence, independent, expect, occur, density\n",
      "\n",
      "Topic  51\n",
      "path, weight, sequence, query, search, datum, short, infinity, derivative, card\n",
      "\n",
      "Topic  52\n",
      "block, lambda, array, item, height, memory, tree, transform, population, cache\n",
      "\n",
      "Topic  53\n",
      "mu, root, digit, queue, costan, beta, xi, pdf, victor, pi\n",
      "\n",
      "Topic  54\n",
      "costan, victor, card, infinity, array, subspace, door, lambda, ren, psi\n",
      "\n",
      "Topic  55\n",
      "ren, subproblem, ling, distribution, message, pi, datum, array, lambda, gradient\n",
      "\n",
      "Topic  56\n",
      "basis, null, transform, event, normal, eigenvalue, temperature, algorithm, eigenvector, random\n",
      "\n",
      "Topic  57\n",
      "beta, mu, sub, series, expect, event, tree, game, martingale, win\n",
      "\n",
      "Topic  58\n",
      "costan, victor, item, mu, stack, event, message, block, program, constraint\n",
      "\n",
      "Topic  59\n",
      "winston, coin, patrick, tau, solution, log, neuron, sample, union, area\n"
     ]
    }
   ],
   "source": [
    "display_topics(lsa_components, feature_names, 10)"
   ]
  },
  {
   "cell_type": "code",
   "execution_count": 12,
   "metadata": {
    "ExecuteTime": {
     "end_time": "2019-11-14T04:31:13.474812Z",
     "start_time": "2019-11-14T04:31:13.466714Z"
    }
   },
   "outputs": [],
   "source": [
    "vmax = pd.DataFrame(rd_v).max().max()"
   ]
  },
  {
   "cell_type": "code",
   "execution_count": 13,
   "metadata": {
    "ExecuteTime": {
     "end_time": "2019-11-14T04:31:13.485351Z",
     "start_time": "2019-11-14T04:31:13.477949Z"
    }
   },
   "outputs": [],
   "source": [
    "vmin = pd.DataFrame(rd_v).min().min()"
   ]
  },
  {
   "cell_type": "code",
   "execution_count": 14,
   "metadata": {
    "ExecuteTime": {
     "end_time": "2019-11-14T04:31:14.000187Z",
     "start_time": "2019-11-14T04:31:13.487904Z"
    }
   },
   "outputs": [
    {
     "data": {
      "image/png": "[encoded data removed]",
      "text/plain": [
       "<Figure size 432x288 with 2 Axes>"
      ]
     },
     "metadata": {
      "needs_background": "light"
     },
     "output_type": "display_data"
    }
   ],
   "source": [
    "heat_map_01 = sns.heatmap(rd_v, cmap='coolwarm', xticklabels=False, yticklabels=False)\n",
    "plt.show()"
   ]
  },
  {
   "cell_type": "code",
   "execution_count": 15,
   "metadata": {
    "ExecuteTime": {
     "end_time": "2019-11-14T04:31:14.015627Z",
     "start_time": "2019-11-14T04:31:14.006939Z"
    }
   },
   "outputs": [
    {
     "data": {
      "text/plain": [
       "['Linear Algebra',\n",
       " 'Probability',\n",
       " 'CS',\n",
       " 'Diff. Eq.',\n",
       " 'Algorithms',\n",
       " 'Statistics',\n",
       " 'Calculus',\n",
       " 'Data Structures',\n",
       " 'AI',\n",
       " 'Math for Eng.',\n",
       " 'NLP']"
      ]
     },
     "execution_count": 15,
     "metadata": {},
     "output_type": "execute_result"
    }
   ],
   "source": [
    "list(subjects.index)"
   ]
  },
  {
   "cell_type": "code",
   "execution_count": 16,
   "metadata": {
    "ExecuteTime": {
     "end_time": "2019-11-14T04:31:14.039394Z",
     "start_time": "2019-11-14T04:31:14.019302Z"
    }
   },
   "outputs": [
    {
     "data": {
      "text/html": [
       "<div>\n",
       "<style scoped>\n",
       "    .dataframe tbody tr th:only-of-type {\n",
       "        vertical-align: middle;\n",
       "    }\n",
       "\n",
       "    .dataframe tbody tr th {\n",
       "        vertical-align: top;\n",
       "    }\n",
       "\n",
       "    .dataframe thead th {\n",
       "        text-align: right;\n",
       "    }\n",
       "</style>\n",
       "<table border=\"1\" class=\"dataframe\">\n",
       "  <thead>\n",
       "    <tr style=\"text-align: right;\">\n",
       "      <th></th>\n",
       "      <th>text</th>\n",
       "      <th>label</th>\n",
       "      <th>le</th>\n",
       "    </tr>\n",
       "  </thead>\n",
       "  <tbody>\n",
       "    <tr>\n",
       "      <td>8</td>\n",
       "      <td>ben harris hi   ben today   lu decomposition p...</td>\n",
       "      <td>Linear Algebra</td>\n",
       "      <td>6</td>\n",
       "    </tr>\n",
       "    <tr>\n",
       "      <td>9</td>\n",
       "      <td>s function f mapping set x y draw set x     se...</td>\n",
       "      <td>Linear Algebra</td>\n",
       "      <td>6</td>\n",
       "    </tr>\n",
       "    <tr>\n",
       "      <td>26</td>\n",
       "      <td>follow content provide creative common license...</td>\n",
       "      <td>Linear Algebra</td>\n",
       "      <td>6</td>\n",
       "    </tr>\n",
       "    <tr>\n",
       "      <td>28</td>\n",
       "      <td>follow content provide creative common license...</td>\n",
       "      <td>Linear Algebra</td>\n",
       "      <td>6</td>\n",
       "    </tr>\n",
       "    <tr>\n",
       "      <td>32</td>\n",
       "      <td>segment discuss little bit union bind discus...</td>\n",
       "      <td>Linear Algebra</td>\n",
       "      <td>6</td>\n",
       "    </tr>\n",
       "    <tr>\n",
       "      <td>...</td>\n",
       "      <td>...</td>\n",
       "      <td>...</td>\n",
       "      <td>...</td>\n",
       "    </tr>\n",
       "    <tr>\n",
       "      <td>806</td>\n",
       "      <td>lecture symmetric matrix   portant class m...</td>\n",
       "      <td>Linear Algebra</td>\n",
       "      <td>6</td>\n",
       "    </tr>\n",
       "    <tr>\n",
       "      <td>842</td>\n",
       "      <td>would like talk thank thing would like little ...</td>\n",
       "      <td>Linear Algebra</td>\n",
       "      <td>6</td>\n",
       "    </tr>\n",
       "    <tr>\n",
       "      <td>852</td>\n",
       "      <td>way nonlinear autonomous system los practice n...</td>\n",
       "      <td>Linear Algebra</td>\n",
       "      <td>6</td>\n",
       "    </tr>\n",
       "    <tr>\n",
       "      <td>854</td>\n",
       "      <td>follow content provide creative common license...</td>\n",
       "      <td>Linear Algebra</td>\n",
       "      <td>6</td>\n",
       "    </tr>\n",
       "    <tr>\n",
       "      <td>857</td>\n",
       "      <td>follow content provide   opencourseware creati...</td>\n",
       "      <td>Linear Algebra</td>\n",
       "      <td>6</td>\n",
       "    </tr>\n",
       "  </tbody>\n",
       "</table>\n",
       "<p>152 rows × 3 columns</p>\n",
       "</div>"
      ],
      "text/plain": [
       "                                                  text           label  le\n",
       "8    ben harris hi   ben today   lu decomposition p...  Linear Algebra   6\n",
       "9    s function f mapping set x y draw set x     se...  Linear Algebra   6\n",
       "26   follow content provide creative common license...  Linear Algebra   6\n",
       "28   follow content provide creative common license...  Linear Algebra   6\n",
       "32     segment discuss little bit union bind discus...  Linear Algebra   6\n",
       "..                                                 ...             ...  ..\n",
       "806      lecture symmetric matrix   portant class m...  Linear Algebra   6\n",
       "842  would like talk thank thing would like little ...  Linear Algebra   6\n",
       "852  way nonlinear autonomous system los practice n...  Linear Algebra   6\n",
       "854  follow content provide creative common license...  Linear Algebra   6\n",
       "857  follow content provide   opencourseware creati...  Linear Algebra   6\n",
       "\n",
       "[152 rows x 3 columns]"
      ]
     },
     "execution_count": 16,
     "metadata": {},
     "output_type": "execute_result"
    }
   ],
   "source": [
    "df[df['label']=='Linear Algebra']"
   ]
  },
  {
   "cell_type": "code",
   "execution_count": 17,
   "metadata": {
    "ExecuteTime": {
     "end_time": "2019-11-14T04:31:14.052706Z",
     "start_time": "2019-11-14T04:31:14.042706Z"
    }
   },
   "outputs": [
    {
     "name": "stdout",
     "output_type": "stream",
     "text": [
      "['Linear Algebra', 'Probability', 'CS', 'Diff. Eq.', 'Algorithms', 'Statistics', 'Calculus', 'Data Structures', 'AI', 'Math for Eng.', 'NLP']\n"
     ]
    }
   ],
   "source": [
    "print(list(subjects.index))"
   ]
  },
  {
   "cell_type": "code",
   "execution_count": 18,
   "metadata": {
    "ExecuteTime": {
     "end_time": "2019-11-14T04:31:14.085921Z",
     "start_time": "2019-11-14T04:31:14.062372Z"
    }
   },
   "outputs": [],
   "source": [
    "linalg_rd = pd.DataFrame(rd_v).iloc[df_linalg.index]\n",
    "prob_rd = pd.DataFrame(rd_v).iloc[df_prob.index]\n",
    "cs_rd = pd.DataFrame(rd_v).iloc[df_cs.index]\n",
    "diffeq_rd = pd.DataFrame(rd_v).iloc[df_diffeq.index]\n",
    "algo_rd = pd.DataFrame(rd_v).iloc[df_algo.index]\n",
    "stats_rd = pd.DataFrame(rd_v).iloc[df_stats.index]\n",
    "calc_rd = pd.DataFrame(rd_v).iloc[df_calc.index]\n",
    "datastruc_rd = pd.DataFrame(rd_v).iloc[df_datastruc.index]\n",
    "ai_rd = pd.DataFrame(rd_v).iloc[df_ai.index]\n",
    "engmath_rd = pd.DataFrame(rd_v).iloc[df_engmath.index]\n",
    "nlp_rd = pd.DataFrame(rd_v).iloc[df_nlp.index]\n"
   ]
  },
  {
   "cell_type": "code",
   "execution_count": 19,
   "metadata": {
    "ExecuteTime": {
     "end_time": "2019-11-14T04:31:14.098796Z",
     "start_time": "2019-11-14T04:31:14.091661Z"
    }
   },
   "outputs": [],
   "source": [
    "rd_list = [linalg_rd, prob_rd, cs_rd, diffeq_rd, algo_rd, stats_rd, calc_rd, datastruc_rd, ai_rd, engmath_rd, nlp_rd]\n",
    "rd_names = [\"linalg_rd\", \"prob_rd\", \"cs_rd\", \"diffeq_rd\", \"algo_rd\", \"stats_rd\", \"calc_rd\", \"datastruc_rd\", \"ai_rd\", \"engmath_rd\", \"nlp_rd\"]\n",
    "rd_dict = {key:val for (key, val) in zip(rd_names, rd_list)}"
   ]
  },
  {
   "cell_type": "markdown",
   "metadata": {},
   "source": [
    "I have created slices of the original dataframe based on their subject labels.  \n",
    "Now I need to get their indices, and create a heatmap from each list of indices."
   ]
  },
  {
   "cell_type": "code",
   "execution_count": 38,
   "metadata": {
    "ExecuteTime": {
     "end_time": "2019-11-14T04:33:56.990649Z",
     "start_time": "2019-11-14T04:33:56.626720Z"
    }
   },
   "outputs": [
    {
     "data": {
      "image/png": "[encoded data removed]",
      "text/plain": [
       "<Figure size 1440x216 with 2 Axes>"
      ]
     },
     "metadata": {
      "needs_background": "light"
     },
     "output_type": "display_data"
    }
   ],
   "source": [
    "plt.figure(figsize=[20,3])\n",
    "heat_map_linalg = sns.heatmap(linalg_rd.sample(19), vmin=-0.4, vmax=0.4, \n",
    "                              cmap='coolwarm', xticklabels=False, yticklabels=False)\n",
    "plt.show();"
   ]
  },
  {
   "cell_type": "code",
   "execution_count": 21,
   "metadata": {
    "ExecuteTime": {
     "end_time": "2019-11-14T04:31:14.605917Z",
     "start_time": "2019-11-14T04:31:14.309061Z"
    }
   },
   "outputs": [
    {
     "data": {
      "image/png": "[encoded data removed]",
      "text/plain": [
       "<Figure size 1440x216 with 2 Axes>"
      ]
     },
     "metadata": {
      "needs_background": "light"
     },
     "output_type": "display_data"
    }
   ],
   "source": [
    "plt.figure(figsize=[20,3])\n",
    "heat_map_nlp = sns.heatmap(nlp_rd.sample(19), vmin=-0.4, vmax=0.4, cmap='coolwarm', xticklabels=False, yticklabels=False)\n",
    "plt.show()"
   ]
  },
  {
   "cell_type": "code",
   "execution_count": 22,
   "metadata": {
    "ExecuteTime": {
     "end_time": "2019-11-14T04:31:14.796877Z",
     "start_time": "2019-11-14T04:31:14.609307Z"
    }
   },
   "outputs": [
    {
     "data": {
      "image/png": "[encoded data removed]",
      "text/plain": [
       "<Figure size 1440x216 with 2 Axes>"
      ]
     },
     "metadata": {
      "needs_background": "light"
     },
     "output_type": "display_data"
    }
   ],
   "source": [
    "plt.figure(figsize=[20,3])\n",
    "heat_map_prob = sns.heatmap(prob_rd.sample(19), vmin=-0.4, vmax=0.4, cmap='coolwarm', xticklabels=False, yticklabels=False)\n",
    "plt.show()"
   ]
  },
  {
   "cell_type": "code",
   "execution_count": 23,
   "metadata": {
    "ExecuteTime": {
     "end_time": "2019-11-14T04:31:14.980099Z",
     "start_time": "2019-11-14T04:31:14.799969Z"
    }
   },
   "outputs": [
    {
     "data": {
      "image/png": "[encoded data removed]",
      "text/plain": [
       "<Figure size 1440x216 with 2 Axes>"
      ]
     },
     "metadata": {
      "needs_background": "light"
     },
     "output_type": "display_data"
    }
   ],
   "source": [
    "plt.figure(figsize=[20,3])\n",
    "heat_map_cs = sns.heatmap(cs_rd.sample(19), vmin=-0.4, vmax=0.4, cmap='coolwarm', xticklabels=False, yticklabels=False)\n",
    "plt.show()"
   ]
  },
  {
   "cell_type": "code",
   "execution_count": 24,
   "metadata": {
    "ExecuteTime": {
     "end_time": "2019-11-14T04:31:15.187710Z",
     "start_time": "2019-11-14T04:31:14.983407Z"
    }
   },
   "outputs": [
    {
     "data": {
      "image/png": "[encoded data removed]",
      "text/plain": [
       "<Figure size 1440x216 with 2 Axes>"
      ]
     },
     "metadata": {
      "needs_background": "light"
     },
     "output_type": "display_data"
    }
   ],
   "source": [
    "plt.figure(figsize=[20,3])\n",
    "heat_map_diffeq = sns.heatmap(diffeq_rd.sample(19), vmin=-0.4, vmax=0.4, cmap='coolwarm', xticklabels=False, yticklabels=False)\n",
    "plt.show()"
   ]
  },
  {
   "cell_type": "code",
   "execution_count": 25,
   "metadata": {
    "ExecuteTime": {
     "end_time": "2019-11-14T04:31:15.391496Z",
     "start_time": "2019-11-14T04:31:15.190961Z"
    }
   },
   "outputs": [
    {
     "data": {
      "image/png": "[encoded data removed]",
      "text/plain": [
       "<Figure size 1440x216 with 2 Axes>"
      ]
     },
     "metadata": {
      "needs_background": "light"
     },
     "output_type": "display_data"
    }
   ],
   "source": [
    "plt.figure(figsize=[20,3])\n",
    "heat_map_algo = sns.heatmap(algo_rd.sample(19), vmin=-0.4, vmax=0.4, cmap='coolwarm', xticklabels=False, yticklabels=False)\n",
    "plt.show()"
   ]
  },
  {
   "cell_type": "code",
   "execution_count": 26,
   "metadata": {
    "ExecuteTime": {
     "end_time": "2019-11-14T04:31:15.580208Z",
     "start_time": "2019-11-14T04:31:15.394515Z"
    }
   },
   "outputs": [
    {
     "data": {
      "image/png": "[encoded data removed]",
      "text/plain": [
       "<Figure size 1440x216 with 2 Axes>"
      ]
     },
     "metadata": {
      "needs_background": "light"
     },
     "output_type": "display_data"
    }
   ],
   "source": [
    "plt.figure(figsize=[20,3])\n",
    "heat_map_stats = sns.heatmap(stats_rd.sample(19), vmin=-0.4, vmax=0.4, cmap='coolwarm', xticklabels=False, yticklabels=False)\n",
    "plt.show()"
   ]
  },
  {
   "cell_type": "code",
   "execution_count": 27,
   "metadata": {
    "ExecuteTime": {
     "end_time": "2019-11-14T04:31:15.786404Z",
     "start_time": "2019-11-14T04:31:15.583406Z"
    }
   },
   "outputs": [
    {
     "data": {
      "image/png": "[encoded data removed]",
      "text/plain": [
       "<Figure size 1440x216 with 2 Axes>"
      ]
     },
     "metadata": {
      "needs_background": "light"
     },
     "output_type": "display_data"
    }
   ],
   "source": [
    "plt.figure(figsize=[20,3])\n",
    "heat_map_calc = sns.heatmap(calc_rd.sample(19), vmin=-0.4, vmax=0.4, cmap='coolwarm', xticklabels=False, yticklabels=False)\n",
    "plt.show()"
   ]
  },
  {
   "cell_type": "code",
   "execution_count": 28,
   "metadata": {
    "ExecuteTime": {
     "end_time": "2019-11-14T04:31:15.994059Z",
     "start_time": "2019-11-14T04:31:15.789638Z"
    }
   },
   "outputs": [
    {
     "data": {
      "image/png": "[encoded data removed]",
      "text/plain": [
       "<Figure size 1440x216 with 2 Axes>"
      ]
     },
     "metadata": {
      "needs_background": "light"
     },
     "output_type": "display_data"
    }
   ],
   "source": [
    "plt.figure(figsize=[20,3])\n",
    "heat_map_datastruc = sns.heatmap(datastruc_rd.sample(19), vmin=-0.4, vmax=0.4, cmap='coolwarm', xticklabels=False, yticklabels=False)\n",
    "plt.show()"
   ]
  },
  {
   "cell_type": "code",
   "execution_count": 29,
   "metadata": {
    "ExecuteTime": {
     "end_time": "2019-11-14T04:31:16.204233Z",
     "start_time": "2019-11-14T04:31:15.997462Z"
    }
   },
   "outputs": [
    {
     "data": {
      "image/png": "[encoded data removed]",
      "text/plain": [
       "<Figure size 1440x216 with 2 Axes>"
      ]
     },
     "metadata": {
      "needs_background": "light"
     },
     "output_type": "display_data"
    }
   ],
   "source": [
    "plt.figure(figsize=[20,3])\n",
    "heat_map_ai = sns.heatmap(ai_rd.sample(19), vmin=-0.4, vmax=0.4, cmap='coolwarm', xticklabels=False, yticklabels=False)\n",
    "plt.show()"
   ]
  },
  {
   "cell_type": "code",
   "execution_count": 30,
   "metadata": {
    "ExecuteTime": {
     "end_time": "2019-11-14T04:31:16.427022Z",
     "start_time": "2019-11-14T04:31:16.207424Z"
    }
   },
   "outputs": [
    {
     "data": {
      "image/png": "[encoded data removed]",
      "text/plain": [
       "<Figure size 1440x216 with 2 Axes>"
      ]
     },
     "metadata": {
      "needs_background": "light"
     },
     "output_type": "display_data"
    }
   ],
   "source": [
    "plt.figure(figsize=[20,3])\n",
    "heat_map_engmath = sns.heatmap(engmath_rd.sample(19), vmin=-0.4, vmax=0.4, cmap='coolwarm', xticklabels=False, yticklabels=False)\n",
    "plt.show()"
   ]
  },
  {
   "cell_type": "code",
   "execution_count": 31,
   "metadata": {
    "ExecuteTime": {
     "end_time": "2019-11-14T04:31:16.623762Z",
     "start_time": "2019-11-14T04:31:16.430189Z"
    }
   },
   "outputs": [
    {
     "data": {
      "image/png": "[encoded data removed]",
      "text/plain": [
       "<Figure size 1440x216 with 2 Axes>"
      ]
     },
     "metadata": {
      "needs_background": "light"
     },
     "output_type": "display_data"
    }
   ],
   "source": [
    "plt.figure(figsize=[20,3])\n",
    "heat_map_nlp = sns.heatmap(nlp_rd.sample(19), vmin=-0.4, vmax=0.4, cmap='coolwarm', xticklabels=False, yticklabels=False)\n",
    "plt.show()"
   ]
  },
  {
   "cell_type": "code",
   "execution_count": 32,
   "metadata": {
    "ExecuteTime": {
     "end_time": "2019-11-14T04:31:16.635329Z",
     "start_time": "2019-11-14T04:31:16.627572Z"
    }
   },
   "outputs": [
    {
     "data": {
      "text/plain": [
       "(19, 60)"
      ]
     },
     "execution_count": 32,
     "metadata": {},
     "output_type": "execute_result"
    }
   ],
   "source": [
    "nlp_rd.shape"
   ]
  },
  {
   "cell_type": "markdown",
   "metadata": {},
   "source": [
    "## Calculate entropy"
   ]
  },
  {
   "cell_type": "code",
   "execution_count": 33,
   "metadata": {
    "ExecuteTime": {
     "end_time": "2019-11-14T04:31:16.651530Z",
     "start_time": "2019-11-14T04:31:16.638307Z"
    }
   },
   "outputs": [
    {
     "data": {
      "text/plain": [
       "array([4.92943805,       -inf,       -inf,       -inf,       -inf,\n",
       "             -inf,       -inf,       -inf,       -inf,       -inf,\n",
       "             -inf,       -inf,       -inf,       -inf,       -inf,\n",
       "             -inf,       -inf,       -inf,       -inf,       -inf,\n",
       "             -inf,       -inf,       -inf,       -inf,       -inf,\n",
       "             -inf,       -inf,       -inf,       -inf,       -inf,\n",
       "             -inf,       -inf,       -inf,       -inf,       -inf,\n",
       "             -inf,       -inf,       -inf,       -inf,       -inf,\n",
       "             -inf,       -inf,       -inf,       -inf,       -inf,\n",
       "             -inf,       -inf,       -inf,       -inf,       -inf,\n",
       "             -inf,       -inf,       -inf,       -inf,       -inf,\n",
       "             -inf,       -inf,       -inf,       -inf,       -inf])"
      ]
     },
     "execution_count": 33,
     "metadata": {},
     "output_type": "execute_result"
    }
   ],
   "source": [
    "# https://docs.scipy.org/doc/scipy/reference/generated/scipy.stats.entropy.html\n",
    "# If qk is not None, then compute the Kullback-Leibler divergence S = sum(pk * log(pk / qk), axis=0).\n",
    "from scipy.stats import entropy\n",
    "entropy(linalg_rd)"
   ]
  },
  {
   "cell_type": "code",
   "execution_count": 34,
   "metadata": {
    "ExecuteTime": {
     "end_time": "2019-11-14T04:31:16.669398Z",
     "start_time": "2019-11-14T04:31:16.654598Z"
    }
   },
   "outputs": [
    {
     "data": {
      "text/plain": [
       "4.73198121101991"
      ]
     },
     "execution_count": 34,
     "metadata": {},
     "output_type": "execute_result"
    }
   ],
   "source": [
    "entropy(prob_rd)[0]"
   ]
  },
  {
   "cell_type": "code",
   "execution_count": 35,
   "metadata": {
    "ExecuteTime": {
     "end_time": "2019-11-14T04:31:16.689108Z",
     "start_time": "2019-11-14T04:31:16.673069Z"
    }
   },
   "outputs": [
    {
     "data": {
      "text/plain": [
       "[4.93, 4.73, 4.55, 4.43, 4.28, 4.28, 4.15, 4.0, 3.78, 3.22, 2.89]"
      ]
     },
     "execution_count": 35,
     "metadata": {},
     "output_type": "execute_result"
    }
   ],
   "source": [
    "entropy_list = [entropy(x)[0].round(2) for x in rd_list]\n",
    "# entropy_dict = {key:val for (key, val) in zip(rd_names, entropy(rd_list)[0])}\n",
    "entropy_list"
   ]
  },
  {
   "cell_type": "code",
   "execution_count": 36,
   "metadata": {
    "ExecuteTime": {
     "end_time": "2019-11-14T04:31:16.704914Z",
     "start_time": "2019-11-14T04:31:16.692285Z"
    }
   },
   "outputs": [
    {
     "name": "stdout",
     "output_type": "stream",
     "text": [
      "Kullback-Leibler divergence of Linear Algebra: 4.93\n",
      "Kullback-Leibler divergence of Probability: 4.73\n",
      "Kullback-Leibler divergence of CS: 4.55\n",
      "Kullback-Leibler divergence of Diff. Eq.: 4.43\n",
      "Kullback-Leibler divergence of Algorithms: 4.28\n",
      "Kullback-Leibler divergence of Statistics: 4.28\n",
      "Kullback-Leibler divergence of Calculus: 4.15\n",
      "Kullback-Leibler divergence of Data Structures: 4.0\n",
      "Kullback-Leibler divergence of AI: 3.78\n",
      "Kullback-Leibler divergence of Math for Eng.: 3.22\n",
      "Kullback-Leibler divergence of NLP: 2.89\n"
     ]
    }
   ],
   "source": [
    "for subj, ent in zip(list(subjects.index), entropy_list):\n",
    "    print(f\"Kullback-Leibler divergence of {subj}:\", ent)"
   ]
  },
  {
   "cell_type": "markdown",
   "metadata": {},
   "source": [
    "Divergence range for 60 topics: 2.89-4.93  \n",
    "Divergence range for 50 topics: 2.91-4.93  \n",
    "Divergence range for 40 topics: 2.91-4.94  \n",
    "Divergence range for 30 topics: 2.91-4.95  \n",
    "Divergence range for 20 topics: 2.91-4.96  \n",
    "Divergence range for 10 topics: 2.90-4.96  \n",
    "Divergence range for 5 topics: 2.90-4.98"
   ]
  },
  {
   "cell_type": "markdown",
   "metadata": {},
   "source": [
    "group by subject  \n",
    "compute mean component score for each topic  \n",
    "heat map: 11 rows vs (# topic columns)  \n",
    "look for dark squares"
   ]
  }
 ],
 "metadata": {
  "kernelspec": {
   "display_name": "Python 3",
   "language": "python",
   "name": "python3"
  },
  "language_info": {
   "codemirror_mode": {
    "name": "ipython",
    "version": 3
   },
   "file_extension": ".py",
   "mimetype": "text/x-python",
   "name": "python",
   "nbconvert_exporter": "python",
   "pygments_lexer": "ipython3",
   "version": "3.7.3"
  },
  "toc": {
   "base_numbering": 1,
   "nav_menu": {},
   "number_sections": true,
   "sideBar": true,
   "skip_h1_title": false,
   "title_cell": "Table of Contents",
   "title_sidebar": "Contents",
   "toc_cell": false,
   "toc_position": {},
   "toc_section_display": true,
   "toc_window_display": false
  },
  "varInspector": {
   "cols": {
    "lenName": 16,
    "lenType": 16,
    "lenVar": 40
   },
   "kernels_config": {
    "python": {
     "delete_cmd_postfix": "",
     "delete_cmd_prefix": "del ",
     "library": "var_list.py",
     "varRefreshCmd": "print(var_dic_list())"
    },
    "r": {
     "delete_cmd_postfix": ") ",
     "delete_cmd_prefix": "rm(",
     "library": "var_list.r",
     "varRefreshCmd": "cat(var_dic_list()) "
    }
   },
   "types_to_exclude": [
    "module",
    "function",
    "builtin_function_or_method",
    "instance",
    "_Feature"
   ],
   "window_display": false
  }
 },
 "nbformat": 4,
 "nbformat_minor": 2
}
